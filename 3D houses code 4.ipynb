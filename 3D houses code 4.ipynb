{
 "cells": [
  {
   "cell_type": "code",
   "execution_count": 1,
   "id": "cd377a62",
   "metadata": {},
   "outputs": [],
   "source": [
    "import requests\n",
    "import json\n",
    "import numpy as np\n",
    "import pandas as pd\n",
    "\n",
    "from io import BytesIO\n",
    "from urllib.request import urlopen\n",
    "from zipfile import ZipFile\n",
    "\n",
    "import rasterio as rt\n",
    "from rasterio.mask import mask\n",
    "\n",
    "%matplotlib inline\n",
    "import matplotlib.pyplot as plt\n",
    "from shapely.geometry.polygon import Polygon\n",
    "\n",
    "import plotly.graph_objects as go\n",
    "\n",
    "from typing import Dict "
   ]
  },
  {
   "cell_type": "code",
   "execution_count": 2,
   "id": "577d707a",
   "metadata": {},
   "outputs": [],
   "source": [
    "address = \"Lange Van Sterbeeckstraat 8, 2060 Antwerpen\""
   ]
  },
  {
   "cell_type": "code",
   "execution_count": 6,
   "id": "66715ad3",
   "metadata": {},
   "outputs": [],
   "source": [
    "\n",
    "def get_address_data_from_geopunt(address: str):\n",
    "    data = requests.get(f\"https://loc.geopunt.be/v4/Location?q={address}\").json()\n",
    "    print(data,\"\\n\")\n",
    "    info = {'address' : address, \n",
    "                'x_value' : data['LocationResult'][0]['Location']['X_Lambert72'],\n",
    "                'y_value' : data['LocationResult'][0]['Location']['Y_Lambert72'],\n",
    "                'street' : data['LocationResult'][0]['Thoroughfarename'],\n",
    "                'house_number' : data['LocationResult'][0]['Housenumber'], \n",
    "                'postcode': data['LocationResult'][0]['Zipcode'], \n",
    "                'municipality' : data['LocationResult'][0]['Municipality']}\n",
    "    \n",
    "    detail = requests.get(\"https://api.basisregisters.vlaanderen.be/v1/adresmatch\", \n",
    "                          params={\"postcode\": info['postcode'], \n",
    "                                  \"straatnaam\": info['street'],\n",
    "                                  \"huisnummer\": info['house_number']}).json()\n",
    "    building = requests.get(detail['adresMatches'][0]['adresseerbareObjecten'][0]['detail']).json()\n",
    "    build = requests.get(building['gebouw']['detail']).json()\n",
    "    info['polygon'] = [build['geometriePolygoon']['polygon']]\n",
    "#    print(info['polygon'][0]['coordinates'][0])\n",
    "#    print(info['polygon'][1]['coordinates'][1])\n",
    "    \n",
    "    \n",
    "    return info"
   ]
  },
  {
   "cell_type": "code",
   "execution_count": 7,
   "id": "0e1e7278",
   "metadata": {},
   "outputs": [
    {
     "name": "stdout",
     "output_type": "stream",
     "text": [
      "{'LocationResult': [{'Municipality': 'Antwerpen', 'Zipcode': '2060', 'Thoroughfarename': 'Lange Van Sterbeeckstraat', 'Housenumber': '8', 'ID': 949971, 'FormattedAddress': 'Lange Van Sterbeeckstraat 8, 2060 Antwerpen', 'Location': {'Lat_WGS84': 51.22387124286627, 'Lon_WGS84': 4.424710567489425, 'X_Lambert72': 153908.9, 'Y_Lambert72': 212660.38}, 'LocationType': 'crab_huisnummer_afgeleidVanGebouw', 'BoundingBox': {'LowerLeft': {'Lat_WGS84': 51.22387124286627, 'Lon_WGS84': 4.424710567489425, 'X_Lambert72': 153908.9, 'Y_Lambert72': 212660.38}, 'UpperRight': {'Lat_WGS84': 51.22387124286627, 'Lon_WGS84': 4.424710567489425, 'X_Lambert72': 153908.9, 'Y_Lambert72': 212660.38}}}]} \n",
      "\n"
     ]
    },
    {
     "data": {
      "text/plain": [
       "{'address': 'Lange Van Sterbeeckstraat 8, 2060 Antwerpen',\n",
       " 'x_value': 153908.9,\n",
       " 'y_value': 212660.38,\n",
       " 'street': 'Lange Van Sterbeeckstraat',\n",
       " 'house_number': '8',\n",
       " 'postcode': '2060',\n",
       " 'municipality': 'Antwerpen',\n",
       " 'polygon': [{'coordinates': [[[153913.09697395563, 212652.07560559362],\n",
       "     [153909.20398195833, 212669.40699760243],\n",
       "     [153904.5820299536, 212668.39899760485],\n",
       "     [153907.5011979565, 212656.54043759406],\n",
       "     [153908.57345395535, 212652.1845335923],\n",
       "     [153908.816653952, 212651.1965655908],\n",
       "     [153909.12673395127, 212651.2602455914],\n",
       "     [153913.09697395563, 212652.07560559362]]],\n",
       "   'type': 'Polygon'}]}"
      ]
     },
     "execution_count": 7,
     "metadata": {},
     "output_type": "execute_result"
    }
   ],
   "source": [
    "address_info = get_address_data_from_geopunt(address)\n",
    "address_info"
   ]
  },
  {
   "cell_type": "code",
   "execution_count": 9,
   "id": "d5cb1e8d",
   "metadata": {},
   "outputs": [
    {
     "data": {
      "text/plain": [
       "list"
      ]
     },
     "execution_count": 9,
     "metadata": {},
     "output_type": "execute_result"
    }
   ],
   "source": [
    "poly = address_info[\"polygon\"]\n",
    "type(poly)\n"
   ]
  },
  {
   "cell_type": "code",
   "execution_count": 11,
   "id": "e7296aa5",
   "metadata": {},
   "outputs": [
    {
     "name": "stdout",
     "output_type": "stream",
     "text": [
      "x:  [153913.09697396 153909.20398196 153904.58202995 153907.50119796\n",
      " 153908.57345396 153908.81665395 153909.12673395 153913.09697396]\n",
      "y:  [212652.07560559 212669.4069976  212668.3989976  212656.54043759\n",
      " 212652.18453359 212651.19656559 212651.26024559 212652.07560559]\n"
     ]
    }
   ],
   "source": [
    "x_arr = []\n",
    "y_arr = []\n",
    "\n",
    "pv = poly[0]['coordinates']\n",
    " #print(pv)\n",
    "for i in range(len(pv)):\n",
    "    #print(pv[i])\n",
    "    lst = pv[i]\n",
    "for j in range(len(lst)):\n",
    "    #print(lst[j])\n",
    "    x_arr.append(lst[j][0])\n",
    "    y_arr.append(lst[j][1])\n",
    "x_arr = np.array(x_arr)\n",
    "y_arr = np.array(y_arr)\n",
    "print(\"x: \", x_arr)\n",
    "print(\"y: \", y_arr)  \n"
   ]
  },
  {
   "cell_type": "code",
   "execution_count": 19,
   "id": "9c898227",
   "metadata": {},
   "outputs": [],
   "source": []
  },
  {
   "cell_type": "code",
   "execution_count": 25,
   "id": "6bd97be9",
   "metadata": {},
   "outputs": [
    {
     "ename": "SyntaxError",
     "evalue": "invalid syntax (<ipython-input-25-c2e363b50054>, line 13)",
     "output_type": "error",
     "traceback": [
      "\u001b[0;36m  File \u001b[0;32m\"<ipython-input-25-c2e363b50054>\"\u001b[0;36m, line \u001b[0;32m13\u001b[0m\n\u001b[0;31m    array =\u001b[0m\n\u001b[0m            ^\u001b[0m\n\u001b[0;31mSyntaxError\u001b[0m\u001b[0;31m:\u001b[0m invalid syntax\n"
     ]
    }
   ],
   "source": []
  },
  {
   "cell_type": "code",
   "execution_count": 23,
   "id": "57fefdd8",
   "metadata": {},
   "outputs": [
    {
     "data": {
      "text/plain": [
       "array([153894.58202995, 153895.58202995, 153896.58202995, 153897.58202995,\n",
       "       153898.58202995, 153899.58202995, 153900.58202995, 153901.58202995,\n",
       "       153902.58202995, 153903.58202995, 153904.58202995, 153905.58202995,\n",
       "       153906.58202995, 153907.58202995, 153908.58202995, 153909.58202995,\n",
       "       153910.58202995, 153911.58202995, 153912.58202995, 153913.58202995,\n",
       "       153914.58202995, 153915.58202995, 153916.58202995, 153917.58202995,\n",
       "       153918.58202995, 153919.58202995, 153920.58202995, 153921.58202995,\n",
       "       153922.58202995])"
      ]
     },
     "execution_count": 23,
     "metadata": {},
     "output_type": "execute_result"
    }
   ],
   "source": [
    "x"
   ]
  },
  {
   "cell_type": "code",
   "execution_count": 24,
   "id": "1aa4f354",
   "metadata": {},
   "outputs": [
    {
     "data": {
      "text/plain": [
       "array([212641.19656559, 212642.19656559, 212643.19656559, 212644.19656559,\n",
       "       212645.19656559, 212646.19656559, 212647.19656559, 212648.19656559,\n",
       "       212649.19656559, 212650.19656559, 212651.19656559, 212652.19656559,\n",
       "       212653.19656559, 212654.19656559, 212655.19656559, 212656.19656559,\n",
       "       212657.19656559, 212658.19656559, 212659.19656559, 212660.19656559,\n",
       "       212661.19656559, 212662.19656559, 212663.19656559, 212664.19656559,\n",
       "       212665.19656559, 212666.19656559, 212667.19656559, 212668.19656559,\n",
       "       212669.19656559, 212670.19656559, 212671.19656559, 212672.19656559,\n",
       "       212673.19656559, 212674.19656559, 212675.19656559, 212676.19656559,\n",
       "       212677.19656559, 212678.19656559, 212679.19656559])"
      ]
     },
     "execution_count": 24,
     "metadata": {},
     "output_type": "execute_result"
    }
   ],
   "source": [
    "y"
   ]
  },
  {
   "cell_type": "code",
   "execution_count": null,
   "id": "8ef18d95",
   "metadata": {},
   "outputs": [],
   "source": []
  },
  {
   "cell_type": "code",
   "execution_count": 1,
   "id": "3474a025",
   "metadata": {},
   "outputs": [
    {
     "ename": "NameError",
     "evalue": "name 'x_arr' is not defined",
     "output_type": "error",
     "traceback": [
      "\u001b[0;31m---------------------------------------------------------------------------\u001b[0m",
      "\u001b[0;31mNameError\u001b[0m                                 Traceback (most recent call last)",
      "\u001b[0;32m<ipython-input-1-a719b626a1b9>\u001b[0m in \u001b[0;36m<module>\u001b[0;34m\u001b[0m\n\u001b[1;32m     26\u001b[0m \u001b[0mz_arr\u001b[0m \u001b[0;34m=\u001b[0m \u001b[0mnp\u001b[0m\u001b[0;34m.\u001b[0m\u001b[0marray\u001b[0m\u001b[0;34m(\u001b[0m\u001b[0mz_arr\u001b[0m\u001b[0;34m)\u001b[0m\u001b[0;34m\u001b[0m\u001b[0;34m\u001b[0m\u001b[0m\n\u001b[1;32m     27\u001b[0m \u001b[0;34m\u001b[0m\u001b[0m\n\u001b[0;32m---> 28\u001b[0;31m \u001b[0mX\u001b[0m\u001b[0;34m,\u001b[0m \u001b[0mY\u001b[0m \u001b[0;34m=\u001b[0m \u001b[0mnp\u001b[0m\u001b[0;34m.\u001b[0m\u001b[0mmeshgrid\u001b[0m\u001b[0;34m(\u001b[0m\u001b[0mx_arr\u001b[0m\u001b[0;34m,\u001b[0m \u001b[0my_arr\u001b[0m\u001b[0;34m)\u001b[0m\u001b[0;34m\u001b[0m\u001b[0;34m\u001b[0m\u001b[0m\n\u001b[0m\u001b[1;32m     29\u001b[0m \u001b[0;34m\u001b[0m\u001b[0m\n\u001b[1;32m     30\u001b[0m \u001b[0mZ\u001b[0m \u001b[0;34m=\u001b[0m \u001b[0mnp\u001b[0m\u001b[0;34m.\u001b[0m\u001b[0marray\u001b[0m\u001b[0;34m(\u001b[0m\u001b[0mz_arr\u001b[0m\u001b[0;34m)\u001b[0m\u001b[0;34m\u001b[0m\u001b[0;34m\u001b[0m\u001b[0m\n",
      "\u001b[0;31mNameError\u001b[0m: name 'x_arr' is not defined"
     ]
    }
   ],
   "source": [
    "\n",
    "import pandas as pd\n",
    "\n",
    "from mpl_toolkits import mplot3d\n",
    "#from mpl_toolkits import axes3d\n",
    "import numpy as np\n",
    "import rasterio\n",
    "from rasterio.plot import show\n",
    "\n",
    "import matplotlib.pyplot as plt\n",
    "%matplotlib inline\n",
    "\n",
    "# Get DTM data\n",
    "dtm_src = 'data/DHMVIIDTMRAS1m_k01/GeoTIFF/DHMVIIDTMRAS1m_k01.tif'\n",
    "dtm_img = rasterio.open(dtm_src)\n",
    "dtm_array = dtm_img.read()\n",
    "\n",
    "# Get DSM data\n",
    "dsm_src = 'data/DHMVIIDSMRAS1m_k01/GeoTIFF/DHMVIIDSMRAS1m_k01.tif'\n",
    "dsm_img = rasterio.open(dsm_src)\n",
    "#show(dsm_img)\n",
    "dsm_array = dsm_img.read()\n",
    "\n",
    "# Calculate the CHM (Canopy Height Model)\n",
    "height_dsm_min_dtm = dsm_array - dtm_array\n",
    "z_arr = np.array(height_dsm_min_dtm)\n",
    "z_arr = np.array(z_arr)\n",
    "\n",
    "X, Y = np.meshgrid(x_arr, y_arr)\n",
    "\n",
    "Z = np.array(z_arr)\n",
    "#ax.plot_surface(X, Y, z)\n",
    "print(Z)\n",
    "#x, y = np.meshgrid(x_arr, y_arr)\n",
    "\n",
    "fig = plt.figure()\n",
    "ax = fig.add_subplot(111, projection='3d')\n",
    "ax.plot_surface(X, Y, z_arr)\n",
    "\n",
    "#ax = plt.axes(projection=\"3d\")\n",
    "\n",
    "#ax.plot.surface(x, y, z)\n",
    "#ax.set_title(\"surface plot\")\n",
    "plt.show()\n"
   ]
  },
  {
   "cell_type": "code",
   "execution_count": 2,
   "id": "3c5789b0",
   "metadata": {},
   "outputs": [
    {
     "name": "stdout",
     "output_type": "stream",
     "text": [
      "[[[0.         0.         0.         ... 0.         0.         0.        ]\n",
      "  [0.         0.         0.         ... 0.         0.         0.        ]\n",
      "  [0.         0.         0.         ... 0.         0.         0.        ]\n",
      "  ...\n",
      "  [0.         0.         0.         ... 0.         0.         0.        ]\n",
      "  [0.         0.         0.         ... 0.         0.         0.02000046]\n",
      "  [0.         0.         0.         ... 0.01000023 0.         0.01000023]]]\n"
     ]
    }
   ],
   "source": [
    "print(height_dsm_min_dtm)"
   ]
  },
  {
   "cell_type": "code",
   "execution_count": 73,
   "id": "089b83c9",
   "metadata": {},
   "outputs": [
    {
     "name": "stdout",
     "output_type": "stream",
     "text": [
      "[0. 0. 0. ... 0. 0. 0.]\n",
      "[0.         0.         0.         ... 0.         0.02000046 0.01000023]\n"
     ]
    }
   ],
   "source": [
    "xh_arr = []\n",
    "yh_arr = []\n",
    "\n",
    "heights = height_dsm_min_dtm\n",
    "#print(heights)\n",
    "for i in range(len(heights)):\n",
    "    #print(pv[i])\n",
    "    lst = heights[i]\n",
    "for j in range(len(lst)):\n",
    "    #print(lst[j])\n",
    "    xh_arr.append(lst[j][-2])\n",
    "    yh_arr.append(lst[j][-1])\n",
    " \n",
    "    \n",
    "xh_arr = np.array(xh_arr)\n",
    "yh_arr = np.array(yh_arr)\n",
    "print(xh_arr)\n",
    "print(yh_arr) "
   ]
  },
  {
   "cell_type": "code",
   "execution_count": 78,
   "id": "5907c4a7",
   "metadata": {},
   "outputs": [
    {
     "name": "stdout",
     "output_type": "stream",
     "text": [
      "(9000,)\n"
     ]
    }
   ],
   "source": []
  },
  {
   "cell_type": "code",
   "execution_count": 75,
   "id": "dbb4d253",
   "metadata": {},
   "outputs": [
    {
     "data": {
      "text/plain": [
       "9000"
      ]
     },
     "execution_count": 75,
     "metadata": {},
     "output_type": "execute_result"
    }
   ],
   "source": []
  },
  {
   "cell_type": "code",
   "execution_count": 79,
   "id": "bc4d2e64",
   "metadata": {},
   "outputs": [
    {
     "name": "stdout",
     "output_type": "stream",
     "text": [
      "(9000,)\n"
     ]
    }
   ],
   "source": []
  },
  {
   "cell_type": "code",
   "execution_count": 77,
   "id": "43e95cc6",
   "metadata": {},
   "outputs": [
    {
     "data": {
      "text/plain": [
       "9000"
      ]
     },
     "execution_count": 77,
     "metadata": {},
     "output_type": "execute_result"
    }
   ],
   "source": []
  },
  {
   "cell_type": "code",
   "execution_count": null,
   "id": "ff10e665",
   "metadata": {},
   "outputs": [],
   "source": []
  },
  {
   "cell_type": "code",
   "execution_count": null,
   "id": "34d0a6d3",
   "metadata": {},
   "outputs": [],
   "source": []
  }
 ],
 "metadata": {
  "kernelspec": {
   "display_name": "py39",
   "language": "python",
   "name": "py39"
  },
  "language_info": {
   "codemirror_mode": {
    "name": "ipython",
    "version": 3
   },
   "file_extension": ".py",
   "mimetype": "text/x-python",
   "name": "python",
   "nbconvert_exporter": "python",
   "pygments_lexer": "ipython3",
   "version": "3.9.4"
  }
 },
 "nbformat": 4,
 "nbformat_minor": 5
}
