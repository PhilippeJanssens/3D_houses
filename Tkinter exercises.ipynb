{
 "cells": [
  {
   "cell_type": "code",
   "execution_count": null,
   "id": "06dde779",
   "metadata": {},
   "outputs": [],
   "source": [
    "\"\"\" Tkinter tutorial by Johan Godinho on Youtube \"\"\""
   ]
  },
  {
   "cell_type": "code",
   "execution_count": 4,
   "id": "d34b771d",
   "metadata": {},
   "outputs": [],
   "source": [
    "import pandas as pd\n",
    "import geopandas as gpd\n",
    "import time\n",
    "\n",
    "import requests\n",
    "from tkinter import *"
   ]
  },
  {
   "cell_type": "code",
   "execution_count": 33,
   "id": "0c45a45f",
   "metadata": {},
   "outputs": [
    {
     "name": "stdout",
     "output_type": "stream",
     "text": [
      "Jef\n",
      "Jim\n"
     ]
    }
   ],
   "source": [
    "def run():\n",
    "    name1 = name_storage.get()\n",
    "    print(name1)\n",
    "    name.delete(0, END)\n",
    "    \n",
    "screen = Tk()\n",
    "screen.title(\"1. How to create basic graphics using python - Tkinter\")\n",
    "screen.geometry(\"500x500\")\n",
    "\n",
    "welcome_text = Label(text = \"Welcome to this graphics program\", fg = \"red\", bg = \"yellow\")\n",
    "welcome_text.pack()\n",
    "\n",
    "click_button = Button(text = \"Enter\", fg = \"red\", bg = \"yellow\", command = run)\n",
    "click_button.pack() \n",
    "\n",
    "name_storage = StringVar()\n",
    "name = Entry(text = name_storage)\n",
    "name.pack()\n",
    "\n",
    "screen.mainloop()"
   ]
  },
  {
   "cell_type": "code",
   "execution_count": null,
   "id": "29f7dfe1",
   "metadata": {},
   "outputs": [],
   "source": []
  },
  {
   "cell_type": "code",
   "execution_count": 92,
   "id": "70c7edbf",
   "metadata": {},
   "outputs": [
    {
     "name": "stdout",
     "output_type": "stream",
     "text": [
      "Henry TheFourth Deceased\n",
      "User  Henry  has been registdred succesfully\n"
     ]
    }
   ],
   "source": [
    "from tkinter import *\n",
    "\n",
    "def save_info():\n",
    "    firstname_info = firstname.get()\n",
    "    lastname_info = lastname.get()\n",
    "    age_info = age.get()\n",
    "    age_info = str(age_info)\n",
    "    print(firstname_info, lastname_info, age_info)\n",
    "    \n",
    "    file = open(\"user.txt\", \"a\")\n",
    "    file.write(firstname_info)\n",
    "    file.write(lastname_info)\n",
    "    file.write(age_info)\n",
    "    file.close()\n",
    "    print(\"User \", firstname_info, \" has been registdred succesfully\")\n",
    "    \n",
    "    firstname_entry.delete(0, END)\n",
    "    lastname_entry.delete(0, END)\n",
    "    age_entry.delete(0, END)\n",
    "    \n",
    "screen = Tk()\n",
    "screen.geometry(\"500x500+300+150\")\n",
    "screen.title(\"2. How to create a graphical form in python using Tkinter and save data to a text file\")\n",
    "heading = Label(text = \"Python Form\", bg = \"grey\", fg = \"black\", width = \"500\", height = \"3\")\n",
    "heading.pack()\n",
    "\n",
    "firstname_text = Label(text = \"Firstname * \",)\n",
    "lastname_text = Label(text = \"Lastname * \",)\n",
    "age_text = Label(text = \"Age * \",)\n",
    "\n",
    "firstname_text.place(x = 15, y= 70)\n",
    "lastname_text.place(x = 15, y= 140)\n",
    "age_text.place(x = 15, y = 210)\n",
    "\n",
    "firstname = StringVar()\n",
    "lastname = StringVar()\n",
    "age = StringVar()\n",
    "\n",
    "firstname_entry = Entry(textvariable = firstname, width = \"30\")\n",
    "lastname_entry = Entry(textvariable = lastname, width = \"30\")\n",
    "age_entry = Entry(textvariable = age, width = \"30\")\n",
    "\n",
    "firstname_entry.place( x = 15, y = 100)\n",
    "lastname_entry.place(x = 15, y = 170)\n",
    "age_entry.place(x = 15, y = 240)\n",
    "\n",
    "register = Button(text = \"Register\", width = \"30\", command = save_info)\n",
    "register.place(x = 15, y = 290)\n",
    "\n",
    "\n",
    "screen.mainloop()"
   ]
  },
  {
   "cell_type": "code",
   "execution_count": null,
   "id": "209de55e",
   "metadata": {},
   "outputs": [],
   "source": []
  },
  {
   "cell_type": "code",
   "execution_count": 96,
   "id": "00991230",
   "metadata": {},
   "outputs": [
    {
     "name": "stdout",
     "output_type": "stream",
     "text": [
      "your password: tetraeder1968-\n"
     ]
    },
    {
     "ename": "SMTPAuthenticationError",
     "evalue": "(535, b'5.7.8 Username and Password not accepted. Learn more at\\n5.7.8  https://support.google.com/mail/?p=BadCredentials 25sm4472600edw.19 - gsmtp')",
     "output_type": "error",
     "traceback": [
      "\u001b[0;31m---------------------------------------------------------------------------\u001b[0m",
      "\u001b[0;31mSMTPAuthenticationError\u001b[0m                   Traceback (most recent call last)",
      "\u001b[0;32m<ipython-input-96-cf3c0ff29005>\u001b[0m in \u001b[0;36m<module>\u001b[0;34m\u001b[0m\n\u001b[1;32m     11\u001b[0m \u001b[0mserver\u001b[0m \u001b[0;34m=\u001b[0m \u001b[0msmtplib\u001b[0m\u001b[0;34m.\u001b[0m\u001b[0mSMTP\u001b[0m\u001b[0;34m(\u001b[0m\u001b[0;34m'smtp.gmail.com'\u001b[0m\u001b[0;34m,\u001b[0m \u001b[0;36m587\u001b[0m\u001b[0;34m)\u001b[0m\u001b[0;34m\u001b[0m\u001b[0;34m\u001b[0m\u001b[0m\n\u001b[1;32m     12\u001b[0m \u001b[0mserver\u001b[0m\u001b[0;34m.\u001b[0m\u001b[0mstarttls\u001b[0m\u001b[0;34m(\u001b[0m\u001b[0;34m)\u001b[0m\u001b[0;34m\u001b[0m\u001b[0;34m\u001b[0m\u001b[0m\n\u001b[0;32m---> 13\u001b[0;31m \u001b[0mserver\u001b[0m\u001b[0;34m.\u001b[0m\u001b[0mlogin\u001b[0m\u001b[0;34m(\u001b[0m\u001b[0msender_email\u001b[0m\u001b[0;34m,\u001b[0m \u001b[0mpassword\u001b[0m\u001b[0;34m)\u001b[0m\u001b[0;34m\u001b[0m\u001b[0;34m\u001b[0m\u001b[0m\n\u001b[0m\u001b[1;32m     14\u001b[0m \u001b[0mprint\u001b[0m\u001b[0;34m(\u001b[0m\u001b[0;34m\"Login success\"\u001b[0m\u001b[0;34m)\u001b[0m\u001b[0;34m\u001b[0m\u001b[0;34m\u001b[0m\u001b[0m\n\u001b[1;32m     15\u001b[0m \u001b[0mserver\u001b[0m\u001b[0;34m.\u001b[0m\u001b[0msendmail\u001b[0m\u001b[0;34m(\u001b[0m\u001b[0msender_email\u001b[0m\u001b[0;34m,\u001b[0m \u001b[0mrec_email\u001b[0m\u001b[0;34m,\u001b[0m \u001b[0mmessage\u001b[0m\u001b[0;34m)\u001b[0m\u001b[0;34m\u001b[0m\u001b[0;34m\u001b[0m\u001b[0m\n",
      "\u001b[0;32m~/anaconda3/envs/py39/lib/python3.9/smtplib.py\u001b[0m in \u001b[0;36mlogin\u001b[0;34m(self, user, password, initial_response_ok)\u001b[0m\n\u001b[1;32m    743\u001b[0m \u001b[0;34m\u001b[0m\u001b[0m\n\u001b[1;32m    744\u001b[0m         \u001b[0;31m# We could not login successfully.  Return result of last attempt.\u001b[0m\u001b[0;34m\u001b[0m\u001b[0;34m\u001b[0m\u001b[0;34m\u001b[0m\u001b[0m\n\u001b[0;32m--> 745\u001b[0;31m         \u001b[0;32mraise\u001b[0m \u001b[0mlast_exception\u001b[0m\u001b[0;34m\u001b[0m\u001b[0;34m\u001b[0m\u001b[0m\n\u001b[0m\u001b[1;32m    746\u001b[0m \u001b[0;34m\u001b[0m\u001b[0m\n\u001b[1;32m    747\u001b[0m     \u001b[0;32mdef\u001b[0m \u001b[0mstarttls\u001b[0m\u001b[0;34m(\u001b[0m\u001b[0mself\u001b[0m\u001b[0;34m,\u001b[0m \u001b[0mkeyfile\u001b[0m\u001b[0;34m=\u001b[0m\u001b[0;32mNone\u001b[0m\u001b[0;34m,\u001b[0m \u001b[0mcertfile\u001b[0m\u001b[0;34m=\u001b[0m\u001b[0;32mNone\u001b[0m\u001b[0;34m,\u001b[0m \u001b[0mcontext\u001b[0m\u001b[0;34m=\u001b[0m\u001b[0;32mNone\u001b[0m\u001b[0;34m)\u001b[0m\u001b[0;34m:\u001b[0m\u001b[0;34m\u001b[0m\u001b[0;34m\u001b[0m\u001b[0m\n",
      "\u001b[0;32m~/anaconda3/envs/py39/lib/python3.9/smtplib.py\u001b[0m in \u001b[0;36mlogin\u001b[0;34m(self, user, password, initial_response_ok)\u001b[0m\n\u001b[1;32m    732\u001b[0m             \u001b[0mmethod_name\u001b[0m \u001b[0;34m=\u001b[0m \u001b[0;34m'auth_'\u001b[0m \u001b[0;34m+\u001b[0m \u001b[0mauthmethod\u001b[0m\u001b[0;34m.\u001b[0m\u001b[0mlower\u001b[0m\u001b[0;34m(\u001b[0m\u001b[0;34m)\u001b[0m\u001b[0;34m.\u001b[0m\u001b[0mreplace\u001b[0m\u001b[0;34m(\u001b[0m\u001b[0;34m'-'\u001b[0m\u001b[0;34m,\u001b[0m \u001b[0;34m'_'\u001b[0m\u001b[0;34m)\u001b[0m\u001b[0;34m\u001b[0m\u001b[0;34m\u001b[0m\u001b[0m\n\u001b[1;32m    733\u001b[0m             \u001b[0;32mtry\u001b[0m\u001b[0;34m:\u001b[0m\u001b[0;34m\u001b[0m\u001b[0;34m\u001b[0m\u001b[0m\n\u001b[0;32m--> 734\u001b[0;31m                 (code, resp) = self.auth(\n\u001b[0m\u001b[1;32m    735\u001b[0m                     \u001b[0mauthmethod\u001b[0m\u001b[0;34m,\u001b[0m \u001b[0mgetattr\u001b[0m\u001b[0;34m(\u001b[0m\u001b[0mself\u001b[0m\u001b[0;34m,\u001b[0m \u001b[0mmethod_name\u001b[0m\u001b[0;34m)\u001b[0m\u001b[0;34m,\u001b[0m\u001b[0;34m\u001b[0m\u001b[0;34m\u001b[0m\u001b[0m\n\u001b[1;32m    736\u001b[0m                     initial_response_ok=initial_response_ok)\n",
      "\u001b[0;32m~/anaconda3/envs/py39/lib/python3.9/smtplib.py\u001b[0m in \u001b[0;36mauth\u001b[0;34m(self, mechanism, authobject, initial_response_ok)\u001b[0m\n\u001b[1;32m    655\u001b[0m         \u001b[0;32mif\u001b[0m \u001b[0mcode\u001b[0m \u001b[0;32min\u001b[0m \u001b[0;34m(\u001b[0m\u001b[0;36m235\u001b[0m\u001b[0;34m,\u001b[0m \u001b[0;36m503\u001b[0m\u001b[0;34m)\u001b[0m\u001b[0;34m:\u001b[0m\u001b[0;34m\u001b[0m\u001b[0;34m\u001b[0m\u001b[0m\n\u001b[1;32m    656\u001b[0m             \u001b[0;32mreturn\u001b[0m \u001b[0;34m(\u001b[0m\u001b[0mcode\u001b[0m\u001b[0;34m,\u001b[0m \u001b[0mresp\u001b[0m\u001b[0;34m)\u001b[0m\u001b[0;34m\u001b[0m\u001b[0;34m\u001b[0m\u001b[0m\n\u001b[0;32m--> 657\u001b[0;31m         \u001b[0;32mraise\u001b[0m \u001b[0mSMTPAuthenticationError\u001b[0m\u001b[0;34m(\u001b[0m\u001b[0mcode\u001b[0m\u001b[0;34m,\u001b[0m \u001b[0mresp\u001b[0m\u001b[0;34m)\u001b[0m\u001b[0;34m\u001b[0m\u001b[0;34m\u001b[0m\u001b[0m\n\u001b[0m\u001b[1;32m    658\u001b[0m \u001b[0;34m\u001b[0m\u001b[0m\n\u001b[1;32m    659\u001b[0m     \u001b[0;32mdef\u001b[0m \u001b[0mauth_cram_md5\u001b[0m\u001b[0;34m(\u001b[0m\u001b[0mself\u001b[0m\u001b[0;34m,\u001b[0m \u001b[0mchallenge\u001b[0m\u001b[0;34m=\u001b[0m\u001b[0;32mNone\u001b[0m\u001b[0;34m)\u001b[0m\u001b[0;34m:\u001b[0m\u001b[0;34m\u001b[0m\u001b[0;34m\u001b[0m\u001b[0m\n",
      "\u001b[0;31mSMTPAuthenticationError\u001b[0m: (535, b'5.7.8 Username and Password not accepted. Learn more at\\n5.7.8  https://support.google.com/mail/?p=BadCredentials 25sm4472600edw.19 - gsmtp')"
     ]
    }
   ],
   "source": [
    "# I have to find out more about sending emails in python to resolve the given error\n",
    "# pip install secure-smtplib\n",
    "\n",
    "import smtplib\n",
    "\n",
    "sender_email = \"issajanssens@gmail.com\"\n",
    "rec_email = \"ilhameyacoubi@gmail.com\"\n",
    "password = input(str(\"your password: \"))\n",
    "message = \"Hey, dit is een email verzonden via python.\"\n",
    "\n",
    "server = smtplib.SMTP('smtp.gmail.com', 587)\n",
    "server.starttls()\n",
    "server.login(sender_email, password)\n",
    "print(\"Login success\")\n",
    "server.sendmail(sender_email, rec_email, message)\n",
    "print(\"Email has been send to \", rec_email)\n",
    "\n",
    "\n",
    "\n",
    "\n",
    "\n"
   ]
  },
  {
   "cell_type": "code",
   "execution_count": null,
   "id": "61e07482",
   "metadata": {},
   "outputs": [],
   "source": []
  },
  {
   "cell_type": "code",
   "execution_count": null,
   "id": "ac07a4a5",
   "metadata": {},
   "outputs": [],
   "source": []
  },
  {
   "cell_type": "code",
   "execution_count": null,
   "id": "e9597609",
   "metadata": {},
   "outputs": [],
   "source": []
  },
  {
   "cell_type": "code",
   "execution_count": null,
   "id": "38fc4bd8",
   "metadata": {},
   "outputs": [],
   "source": []
  }
 ],
 "metadata": {
  "kernelspec": {
   "display_name": "py39",
   "language": "python",
   "name": "py39"
  },
  "language_info": {
   "codemirror_mode": {
    "name": "ipython",
    "version": 3
   },
   "file_extension": ".py",
   "mimetype": "text/x-python",
   "name": "python",
   "nbconvert_exporter": "python",
   "pygments_lexer": "ipython3",
   "version": "3.9.4"
  }
 },
 "nbformat": 4,
 "nbformat_minor": 5
}
