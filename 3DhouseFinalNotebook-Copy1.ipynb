{
 "cells": [
  {
   "cell_type": "code",
   "execution_count": 1,
   "id": "3654527f",
   "metadata": {},
   "outputs": [
    {
     "data": {
      "text/plain": [
       "' \\n    =================================================\\n    Make a 3D plot from given address in the Flanders\\n    =================================================\\n'"
      ]
     },
     "execution_count": 1,
     "metadata": {},
     "output_type": "execute_result"
    }
   ],
   "source": [
    "\"\"\" \n",
    "    =================================================\n",
    "    Make a 3D plot from given address in the Flanders\n",
    "    =================================================\n",
    "\"\"\""
   ]
  },
  {
   "cell_type": "code",
   "execution_count": 4,
   "id": "25596bcb",
   "metadata": {},
   "outputs": [],
   "source": [
    "\"\"\" Import the necessary modules \"\"\"\n",
    "import pandas as pd\n",
    "import geopandas as gpd\n",
    "import time\n",
    "\n",
    "import requests\n",
    "from tkinter import *\n",
    "#import tkinter as Tk"
   ]
  },
  {
   "cell_type": "code",
   "execution_count": 5,
   "id": "832fa9ba",
   "metadata": {},
   "outputs": [
    {
     "name": "stdout",
     "output_type": "stream",
     "text": [
      "https://loc.geopunt.be/v4/Location?q=.!entry%20.!entry2,%20.!entry3%20.!entry4\n",
      "{'LocationResult': []}\n"
     ]
    },
    {
     "ename": "NameError",
     "evalue": "name 'data' is not defined",
     "output_type": "error",
     "traceback": [
      "\u001b[0;31m---------------------------------------------------------------------------\u001b[0m",
      "\u001b[0;31mNameError\u001b[0m                                 Traceback (most recent call last)",
      "\u001b[0;32m<ipython-input-5-4d4587e42467>\u001b[0m in \u001b[0;36m<module>\u001b[0;34m\u001b[0m\n\u001b[1;32m     40\u001b[0m \u001b[0mwindow\u001b[0m\u001b[0;34m.\u001b[0m\u001b[0mmainloop\u001b[0m\u001b[0;34m(\u001b[0m\u001b[0;34m)\u001b[0m\u001b[0;34m\u001b[0m\u001b[0;34m\u001b[0m\u001b[0m\n\u001b[1;32m     41\u001b[0m \u001b[0;34m\u001b[0m\u001b[0m\n\u001b[0;32m---> 42\u001b[0;31m \u001b[0mdata\u001b[0m\u001b[0;34m\u001b[0m\u001b[0;34m\u001b[0m\u001b[0m\n\u001b[0m",
      "\u001b[0;31mNameError\u001b[0m: name 'data' is not defined"
     ]
    }
   ],
   "source": [
    "\"\"\" Ask for an address with Tkinter input box \"\"\"\n",
    "# Antwerpsestraat 165 2640 Antwerpen\n",
    "# address = input(\"What address did you have in mind? \")\n",
    "window = Tk()\n",
    "window.title(\"What adddress do you want a 3D plot from?\")\n",
    "window.geometry('400x250+500+300')\n",
    "window.config(bg=\"#9FD996\")\n",
    "\n",
    "lbl = Label(window, text=\"Street\")\n",
    "lbl.grid(column=0, row=0)\n",
    "street = Entry(window,width=30)\n",
    "street.grid(column=1, row=0)\n",
    "\n",
    "lbl = Label(window, text=\"Number\")\n",
    "lbl.grid(column=0, row=1)\n",
    "number = Entry(window,width=5)\n",
    "number.grid(column=1, row=1)\n",
    "\n",
    "lbl = Label(window, text=\"Postal Code\")\n",
    "lbl.grid(column=0, row=2)\n",
    "postal_code = Entry(window,width=4)\n",
    "postal_code.grid(column=1, row=2)\n",
    "\n",
    "lbl = Label(window, text=\"City\")\n",
    "lbl.grid(column=0, row=3)\n",
    "city = Entry(window,width=20)\n",
    "city.grid(column=1, row=3)\n",
    "\n",
    "def clicked():\n",
    "    # Check whether this address can be found in the address list of Flanders\n",
    "    url = f\"https://loc.geopunt.be/v4/Location?q={street}%20{number},%20{postal_code}%20{city}\"\n",
    "    data = requests.get(url).json()\n",
    "    print(url)\n",
    "    print(data)\n",
    "    window.destroy()\n",
    "\n",
    "btn = Button(window, text=\"Request details\", command=clicked)\n",
    "btn.grid(column=1, row=6)\n",
    "\n",
    "window.mainloop()\n",
    "\n",
    "data\n"
   ]
  },
  {
   "cell_type": "code",
   "execution_count": null,
   "id": "11e1d72f",
   "metadata": {},
   "outputs": [],
   "source": []
  },
  {
   "cell_type": "code",
   "execution_count": null,
   "id": "f972e192",
   "metadata": {},
   "outputs": [],
   "source": [
    "\"\"\" Find the DSM & DTM zip files that contains the given address \"\"\""
   ]
  },
  {
   "cell_type": "code",
   "execution_count": 6,
   "id": "e44a8000",
   "metadata": {},
   "outputs": [],
   "source": [
    "# Get the file where all the maps boundary coordinations are\n",
    "# this helps visualisation the x and y coordinates\n",
    "df = pd.read_csv(\"./data/tif_card_bounderies.csv\")"
   ]
  },
  {
   "cell_type": "code",
   "execution_count": 46,
   "id": "447031ff",
   "metadata": {
    "scrolled": true
   },
   "outputs": [
    {
     "data": {
      "text/html": [
       "<div>\n",
       "<style scoped>\n",
       "    .dataframe tbody tr th:only-of-type {\n",
       "        vertical-align: middle;\n",
       "    }\n",
       "\n",
       "    .dataframe tbody tr th {\n",
       "        vertical-align: top;\n",
       "    }\n",
       "\n",
       "    .dataframe thead th {\n",
       "        text-align: right;\n",
       "    }\n",
       "</style>\n",
       "<table border=\"1\" class=\"dataframe\">\n",
       "  <thead>\n",
       "    <tr style=\"text-align: right;\">\n",
       "      <th></th>\n",
       "      <th>DSM Files</th>\n",
       "      <th>xLeft</th>\n",
       "      <th>yBottom</th>\n",
       "      <th>xRight</th>\n",
       "      <th>yTop</th>\n",
       "    </tr>\n",
       "  </thead>\n",
       "  <tbody>\n",
       "    <tr>\n",
       "      <th>0</th>\n",
       "      <td>DSM_1</td>\n",
       "      <td>145000.0</td>\n",
       "      <td>238000.0</td>\n",
       "      <td>162000.0</td>\n",
       "      <td>247000.0</td>\n",
       "    </tr>\n",
       "    <tr>\n",
       "      <th>1</th>\n",
       "      <td>DSM_2</td>\n",
       "      <td>162000.0</td>\n",
       "      <td>238000.0</td>\n",
       "      <td>194000.0</td>\n",
       "      <td>250000.0</td>\n",
       "    </tr>\n",
       "    <tr>\n",
       "      <th>2</th>\n",
       "      <td>DSM_3</td>\n",
       "      <td>194000.0</td>\n",
       "      <td>238000.0</td>\n",
       "      <td>206000.0</td>\n",
       "      <td>248000.0</td>\n",
       "    </tr>\n",
       "    <tr>\n",
       "      <th>3</th>\n",
       "      <td>DSM_4</td>\n",
       "      <td>53000.0</td>\n",
       "      <td>218000.0</td>\n",
       "      <td>66000.0</td>\n",
       "      <td>225500.0</td>\n",
       "    </tr>\n",
       "    <tr>\n",
       "      <th>4</th>\n",
       "      <td>DSM_5</td>\n",
       "      <td>66000.0</td>\n",
       "      <td>218000.0</td>\n",
       "      <td>98000.0</td>\n",
       "      <td>232000.0</td>\n",
       "    </tr>\n",
       "    <tr>\n",
       "      <th>5</th>\n",
       "      <td>DSM_6</td>\n",
       "      <td>98000.0</td>\n",
       "      <td>218000.0</td>\n",
       "      <td>130000.0</td>\n",
       "      <td>227000.0</td>\n",
       "    </tr>\n",
       "    <tr>\n",
       "      <th>6</th>\n",
       "      <td>DSM_7</td>\n",
       "      <td>130000.0</td>\n",
       "      <td>218000.0</td>\n",
       "      <td>162000.0</td>\n",
       "      <td>238000.0</td>\n",
       "    </tr>\n",
       "    <tr>\n",
       "      <th>7</th>\n",
       "      <td>DSM_8</td>\n",
       "      <td>162000.0</td>\n",
       "      <td>218000.0</td>\n",
       "      <td>194000.0</td>\n",
       "      <td>238000.0</td>\n",
       "    </tr>\n",
       "    <tr>\n",
       "      <th>8</th>\n",
       "      <td>DSM_9</td>\n",
       "      <td>194000.0</td>\n",
       "      <td>218000.0</td>\n",
       "      <td>226000.0</td>\n",
       "      <td>238000.0</td>\n",
       "    </tr>\n",
       "    <tr>\n",
       "      <th>9</th>\n",
       "      <td>DSM_10</td>\n",
       "      <td>226000.0</td>\n",
       "      <td>218000.0</td>\n",
       "      <td>238000.0</td>\n",
       "      <td>227000.0</td>\n",
       "    </tr>\n",
       "    <tr>\n",
       "      <th>10</th>\n",
       "      <td>DSM_11</td>\n",
       "      <td>18500.0</td>\n",
       "      <td>198000.0</td>\n",
       "      <td>34000.0</td>\n",
       "      <td>206500.0</td>\n",
       "    </tr>\n",
       "    <tr>\n",
       "      <th>11</th>\n",
       "      <td>DSM_12</td>\n",
       "      <td>34000.0</td>\n",
       "      <td>198000.0</td>\n",
       "      <td>66000.0</td>\n",
       "      <td>218000.0</td>\n",
       "    </tr>\n",
       "    <tr>\n",
       "      <th>12</th>\n",
       "      <td>DSM_13</td>\n",
       "      <td>66000.0</td>\n",
       "      <td>198000.0</td>\n",
       "      <td>98000.0</td>\n",
       "      <td>218000.0</td>\n",
       "    </tr>\n",
       "    <tr>\n",
       "      <th>13</th>\n",
       "      <td>DSM_14</td>\n",
       "      <td>98000.0</td>\n",
       "      <td>198000.0</td>\n",
       "      <td>130000.0</td>\n",
       "      <td>218000.0</td>\n",
       "    </tr>\n",
       "    <tr>\n",
       "      <th>14</th>\n",
       "      <td>DSM_15</td>\n",
       "      <td>130000.0</td>\n",
       "      <td>198000.0</td>\n",
       "      <td>162000.0</td>\n",
       "      <td>218000.0</td>\n",
       "    </tr>\n",
       "    <tr>\n",
       "      <th>15</th>\n",
       "      <td>DSM_16</td>\n",
       "      <td>162000.0</td>\n",
       "      <td>198000.0</td>\n",
       "      <td>194000.0</td>\n",
       "      <td>218000.0</td>\n",
       "    </tr>\n",
       "    <tr>\n",
       "      <th>16</th>\n",
       "      <td>DSM_17</td>\n",
       "      <td>194000.0</td>\n",
       "      <td>194000.0</td>\n",
       "      <td>226000.0</td>\n",
       "      <td>218000.0</td>\n",
       "    </tr>\n",
       "    <tr>\n",
       "      <th>17</th>\n",
       "      <td>DSM_18</td>\n",
       "      <td>226000.0</td>\n",
       "      <td>198000.0</td>\n",
       "      <td>258000.0</td>\n",
       "      <td>218000.0</td>\n",
       "    </tr>\n",
       "    <tr>\n",
       "      <th>18</th>\n",
       "      <td>DSM_19</td>\n",
       "      <td>17000.0</td>\n",
       "      <td>178000.0</td>\n",
       "      <td>34000.0</td>\n",
       "      <td>198000.0</td>\n",
       "    </tr>\n",
       "    <tr>\n",
       "      <th>19</th>\n",
       "      <td>DSM_20</td>\n",
       "      <td>34000.0</td>\n",
       "      <td>178000.0</td>\n",
       "      <td>66000.0</td>\n",
       "      <td>198000.0</td>\n",
       "    </tr>\n",
       "    <tr>\n",
       "      <th>20</th>\n",
       "      <td>DSM_21</td>\n",
       "      <td>66000.0</td>\n",
       "      <td>178000.0</td>\n",
       "      <td>98000.0</td>\n",
       "      <td>198000.0</td>\n",
       "    </tr>\n",
       "    <tr>\n",
       "      <th>21</th>\n",
       "      <td>DSM_22</td>\n",
       "      <td>98000.0</td>\n",
       "      <td>178000.0</td>\n",
       "      <td>130000.0</td>\n",
       "      <td>198000.0</td>\n",
       "    </tr>\n",
       "    <tr>\n",
       "      <th>22</th>\n",
       "      <td>DSM_23</td>\n",
       "      <td>130000.0</td>\n",
       "      <td>178000.0</td>\n",
       "      <td>162000.0</td>\n",
       "      <td>198000.0</td>\n",
       "    </tr>\n",
       "    <tr>\n",
       "      <th>23</th>\n",
       "      <td>DSM_24</td>\n",
       "      <td>162000.0</td>\n",
       "      <td>178000.0</td>\n",
       "      <td>194000.0</td>\n",
       "      <td>198000.0</td>\n",
       "    </tr>\n",
       "    <tr>\n",
       "      <th>24</th>\n",
       "      <td>DSM_25</td>\n",
       "      <td>194000.0</td>\n",
       "      <td>178000.0</td>\n",
       "      <td>226000.0</td>\n",
       "      <td>198000.0</td>\n",
       "    </tr>\n",
       "    <tr>\n",
       "      <th>25</th>\n",
       "      <td>DSM_26</td>\n",
       "      <td>226000.0</td>\n",
       "      <td>178000.0</td>\n",
       "      <td>258000.0</td>\n",
       "      <td>198000.0</td>\n",
       "    </tr>\n",
       "    <tr>\n",
       "      <th>26</th>\n",
       "      <td>DSM_27</td>\n",
       "      <td>20000.0</td>\n",
       "      <td>158000.0</td>\n",
       "      <td>34000.0</td>\n",
       "      <td>178000.0</td>\n",
       "    </tr>\n",
       "    <tr>\n",
       "      <th>27</th>\n",
       "      <td>DSM_28</td>\n",
       "      <td>34000.0</td>\n",
       "      <td>158000.0</td>\n",
       "      <td>66000.0</td>\n",
       "      <td>178000.0</td>\n",
       "    </tr>\n",
       "    <tr>\n",
       "      <th>28</th>\n",
       "      <td>DSM_29</td>\n",
       "      <td>66000.0</td>\n",
       "      <td>158000.0</td>\n",
       "      <td>98000.0</td>\n",
       "      <td>178000.0</td>\n",
       "    </tr>\n",
       "    <tr>\n",
       "      <th>29</th>\n",
       "      <td>DSM_30</td>\n",
       "      <td>98000.0</td>\n",
       "      <td>158000.0</td>\n",
       "      <td>130000.0</td>\n",
       "      <td>178000.0</td>\n",
       "    </tr>\n",
       "    <tr>\n",
       "      <th>30</th>\n",
       "      <td>DSM_31</td>\n",
       "      <td>130000.0</td>\n",
       "      <td>158000.0</td>\n",
       "      <td>162000.0</td>\n",
       "      <td>178000.0</td>\n",
       "    </tr>\n",
       "    <tr>\n",
       "      <th>31</th>\n",
       "      <td>DSM_32</td>\n",
       "      <td>162000.0</td>\n",
       "      <td>158000.0</td>\n",
       "      <td>194000.0</td>\n",
       "      <td>178000.0</td>\n",
       "    </tr>\n",
       "    <tr>\n",
       "      <th>32</th>\n",
       "      <td>DSM_33</td>\n",
       "      <td>194000.0</td>\n",
       "      <td>158000.0</td>\n",
       "      <td>226000.0</td>\n",
       "      <td>178000.0</td>\n",
       "    </tr>\n",
       "    <tr>\n",
       "      <th>33</th>\n",
       "      <td>DSM_34</td>\n",
       "      <td>226000.0</td>\n",
       "      <td>158000.0</td>\n",
       "      <td>258000.0</td>\n",
       "      <td>178000.0</td>\n",
       "    </tr>\n",
       "    <tr>\n",
       "      <th>34</th>\n",
       "      <td>DSM_35</td>\n",
       "      <td>258000.0</td>\n",
       "      <td>158000.0</td>\n",
       "      <td>264000.0</td>\n",
       "      <td>169000.0</td>\n",
       "    </tr>\n",
       "    <tr>\n",
       "      <th>35</th>\n",
       "      <td>DSM_36</td>\n",
       "      <td>34000.0</td>\n",
       "      <td>151000.0</td>\n",
       "      <td>66000.0</td>\n",
       "      <td>158000.0</td>\n",
       "    </tr>\n",
       "    <tr>\n",
       "      <th>36</th>\n",
       "      <td>DSM_37</td>\n",
       "      <td>66000.0</td>\n",
       "      <td>150000.0</td>\n",
       "      <td>98000.0</td>\n",
       "      <td>158000.0</td>\n",
       "    </tr>\n",
       "    <tr>\n",
       "      <th>37</th>\n",
       "      <td>DSM_38</td>\n",
       "      <td>98000.0</td>\n",
       "      <td>148000.0</td>\n",
       "      <td>130000.0</td>\n",
       "      <td>158000.0</td>\n",
       "    </tr>\n",
       "    <tr>\n",
       "      <th>38</th>\n",
       "      <td>DSM_39</td>\n",
       "      <td>130000.0</td>\n",
       "      <td>148000.0</td>\n",
       "      <td>162000.0</td>\n",
       "      <td>158000.0</td>\n",
       "    </tr>\n",
       "    <tr>\n",
       "      <th>39</th>\n",
       "      <td>DSM_40</td>\n",
       "      <td>162000.0</td>\n",
       "      <td>152000.0</td>\n",
       "      <td>194000.0</td>\n",
       "      <td>158000.0</td>\n",
       "    </tr>\n",
       "    <tr>\n",
       "      <th>40</th>\n",
       "      <td>DSM_41</td>\n",
       "      <td>194000.0</td>\n",
       "      <td>149000.0</td>\n",
       "      <td>226000.0</td>\n",
       "      <td>158000.0</td>\n",
       "    </tr>\n",
       "    <tr>\n",
       "      <th>41</th>\n",
       "      <td>DSM_42</td>\n",
       "      <td>226000.0</td>\n",
       "      <td>151000.0</td>\n",
       "      <td>258000.0</td>\n",
       "      <td>158000.0</td>\n",
       "    </tr>\n",
       "    <tr>\n",
       "      <th>42</th>\n",
       "      <td>DSM_43</td>\n",
       "      <td>258000.0</td>\n",
       "      <td>151000.0</td>\n",
       "      <td>264000.0</td>\n",
       "      <td>158000.0</td>\n",
       "    </tr>\n",
       "  </tbody>\n",
       "</table>\n",
       "</div>"
      ],
      "text/plain": [
       "   DSM Files     xLeft   yBottom    xRight      yTop\n",
       "0      DSM_1  145000.0  238000.0  162000.0  247000.0\n",
       "1      DSM_2  162000.0  238000.0  194000.0  250000.0\n",
       "2      DSM_3  194000.0  238000.0  206000.0  248000.0\n",
       "3      DSM_4   53000.0  218000.0   66000.0  225500.0\n",
       "4      DSM_5   66000.0  218000.0   98000.0  232000.0\n",
       "5      DSM_6   98000.0  218000.0  130000.0  227000.0\n",
       "6      DSM_7  130000.0  218000.0  162000.0  238000.0\n",
       "7      DSM_8  162000.0  218000.0  194000.0  238000.0\n",
       "8      DSM_9  194000.0  218000.0  226000.0  238000.0\n",
       "9     DSM_10  226000.0  218000.0  238000.0  227000.0\n",
       "10    DSM_11   18500.0  198000.0   34000.0  206500.0\n",
       "11    DSM_12   34000.0  198000.0   66000.0  218000.0\n",
       "12    DSM_13   66000.0  198000.0   98000.0  218000.0\n",
       "13    DSM_14   98000.0  198000.0  130000.0  218000.0\n",
       "14    DSM_15  130000.0  198000.0  162000.0  218000.0\n",
       "15    DSM_16  162000.0  198000.0  194000.0  218000.0\n",
       "16    DSM_17  194000.0  194000.0  226000.0  218000.0\n",
       "17    DSM_18  226000.0  198000.0  258000.0  218000.0\n",
       "18    DSM_19   17000.0  178000.0   34000.0  198000.0\n",
       "19    DSM_20   34000.0  178000.0   66000.0  198000.0\n",
       "20    DSM_21   66000.0  178000.0   98000.0  198000.0\n",
       "21    DSM_22   98000.0  178000.0  130000.0  198000.0\n",
       "22    DSM_23  130000.0  178000.0  162000.0  198000.0\n",
       "23    DSM_24  162000.0  178000.0  194000.0  198000.0\n",
       "24    DSM_25  194000.0  178000.0  226000.0  198000.0\n",
       "25    DSM_26  226000.0  178000.0  258000.0  198000.0\n",
       "26    DSM_27   20000.0  158000.0   34000.0  178000.0\n",
       "27    DSM_28   34000.0  158000.0   66000.0  178000.0\n",
       "28    DSM_29   66000.0  158000.0   98000.0  178000.0\n",
       "29    DSM_30   98000.0  158000.0  130000.0  178000.0\n",
       "30    DSM_31  130000.0  158000.0  162000.0  178000.0\n",
       "31    DSM_32  162000.0  158000.0  194000.0  178000.0\n",
       "32    DSM_33  194000.0  158000.0  226000.0  178000.0\n",
       "33    DSM_34  226000.0  158000.0  258000.0  178000.0\n",
       "34    DSM_35  258000.0  158000.0  264000.0  169000.0\n",
       "35    DSM_36   34000.0  151000.0   66000.0  158000.0\n",
       "36    DSM_37   66000.0  150000.0   98000.0  158000.0\n",
       "37    DSM_38   98000.0  148000.0  130000.0  158000.0\n",
       "38    DSM_39  130000.0  148000.0  162000.0  158000.0\n",
       "39    DSM_40  162000.0  152000.0  194000.0  158000.0\n",
       "40    DSM_41  194000.0  149000.0  226000.0  158000.0\n",
       "41    DSM_42  226000.0  151000.0  258000.0  158000.0\n",
       "42    DSM_43  258000.0  151000.0  264000.0  158000.0"
      ]
     },
     "execution_count": 46,
     "metadata": {},
     "output_type": "execute_result"
    }
   ],
   "source": [
    "df"
   ]
  },
  {
   "cell_type": "code",
   "execution_count": null,
   "id": "780e3847",
   "metadata": {},
   "outputs": [],
   "source": []
  },
  {
   "cell_type": "code",
   "execution_count": 48,
   "id": "2de96a6b",
   "metadata": {},
   "outputs": [
    {
     "data": {
      "text/plain": [
       "\"\\n 'polygon': [{'coordinates': [[[153913.09697395563, 212652.07560559362],\\n     [153909.20398195833, 212669.40699760243],\\n     [153904.5820299536, 212668.39899760485],\\n     [153907.5011979565, 212656.54043759406],\\n     [153908.57345395535, 212652.1845335923],\\n     [153908.816653952, 212651.1965655908],\\n     [153909.12673395127, 212651.2602455914],\\n     [153913.09697395563, 212652.07560559362]]],\\n   'type': 'Polygon'}]}\\n\""
      ]
     },
     "execution_count": 48,
     "metadata": {},
     "output_type": "execute_result"
    }
   ],
   "source": [
    "# This data comes from a random address\n",
    "\"\"\" ### x, y from -a- address ###\n",
    "\"\"\"\n",
    "\"\"\"\n",
    " 'x_value': 153908.9,\n",
    " 'y_value': 212660.38\n",
    "\"\"\"\n",
    "\n",
    "\n",
    "\"\"\" ### polygon from -a- address ###\n",
    "\"\"\"\n",
    "\"\"\"\n",
    " 'polygon': [{'coordinates': [[[153913.09697395563, 212652.07560559362],\n",
    "     [153909.20398195833, 212669.40699760243],\n",
    "     [153904.5820299536, 212668.39899760485],\n",
    "     [153907.5011979565, 212656.54043759406],\n",
    "     [153908.57345395535, 212652.1845335923],\n",
    "     [153908.816653952, 212651.1965655908],\n",
    "     [153909.12673395127, 212651.2602455914],\n",
    "     [153913.09697395563, 212652.07560559362]]],\n",
    "   'type': 'Polygon'}]}\n",
    "\"\"\""
   ]
  },
  {
   "cell_type": "code",
   "execution_count": 9,
   "id": "bd4243c4",
   "metadata": {},
   "outputs": [
    {
     "data": {
      "text/plain": [
       "' Download the DSM & DTM zip files '"
      ]
     },
     "execution_count": 9,
     "metadata": {},
     "output_type": "execute_result"
    }
   ],
   "source": [
    "\"\"\" Download the DSM & DTM zip files \"\"\""
   ]
  },
  {
   "cell_type": "code",
   "execution_count": 101,
   "id": "619798c5",
   "metadata": {
    "scrolled": true
   },
   "outputs": [
    {
     "name": "stdout",
     "output_type": "stream",
     "text": [
      "154972.19 207166.52\n"
     ]
    },
    {
     "data": {
      "text/plain": [
       "'k15'"
      ]
     },
     "execution_count": 101,
     "metadata": {},
     "output_type": "execute_result"
    }
   ],
   "source": [
    "### FIRST UNDERSTAND THE DATA\n",
    "\n",
    "#find_map_df = find_map_df.assingn...\n",
    "# ADD CONDITIONS TO THE NEW COLUMNS\n",
    "\n",
    "### figure out how the files are ordered to \n",
    "### enable to find the right box in the matrix\n",
    "x = data['LocationResult'][0]['Location']['X_Lambert72']\n",
    "y = data['LocationResult'][0]['Location']['Y_Lambert72']\n",
    "\n",
    "find_tif_df = df[[\"DSM Files\", \"xLeft\", \"xRight\", \"yBottom\", \"yTop\"]]\n",
    "\n",
    "for i in range(0, 43):\n",
    "    if find_tif_df['xLeft'][i] <= x:\n",
    "        if find_tif_df['xRight'][i] >= x:\n",
    "            if find_tif_df['yBottom'][i] <= y:\n",
    "                if find_tif_df['yTop'][i] >= y:\n",
    "                    i = i\n",
    "                    break\n",
    "\n",
    "if i < 9:\n",
    "    num = f'k0{i+1}'\n",
    "else:\n",
    "    num = f'k{i+1}' \n",
    "num\n",
    "    "
   ]
  },
  {
   "cell_type": "code",
   "execution_count": 72,
   "id": "c3b211b7",
   "metadata": {
    "scrolled": false
   },
   "outputs": [],
   "source": [
    "import tkinter\n",
    "\n",
    "\n",
    "\n",
    "#btn = Button(window, text=\"Request details\", command=window.destroy)\n",
    "#btn.grid(column=1, row=6)\n",
    "\n",
    "\n",
    "root=Tk()\n",
    "root.geometry(\"1000x700+200+100\")\n",
    "\n",
    "\n",
    "# place the buttons accordingly their x and y value that make the cover the\n",
    "# whole map of Vlaanderen\n",
    "# It looks like the map is upside down ....................\n",
    "for i in range(0, 43):  \n",
    "    b = f\"b{i+1}\"\n",
    "    btn = Button(root, text=f\"b{str(i)}\")\n",
    "\n",
    "    x = (find_tif_df.at[i, \"xLeft\"]/1000)\n",
    "    y = (find_tif_df.at[i, \"yBottom\"]/1000)\n",
    "    \n",
    "    btn.place_configure(x=x,y=y)\n",
    "\n",
    "# a copy of the buttons are now placed in a column together with their coordinates\n",
    "x, y = 330, 1\n",
    "v, w = 1, 14\n",
    "for i in range(1, 4):    \n",
    "    for j in range(v, w):  \n",
    "        b = f\"b{j+1}\"\n",
    "        btn = Button(root, text=f\"b{str(j)}\")\n",
    "        y += 45\n",
    "        btn.place_configure(x=x,y=y)\n",
    "    x += 200\n",
    "    y = 1\n",
    "    v += 14\n",
    "    w += 14\n",
    "# 2 buttons are missing: b42 and B43   \n",
    "root.mainloop()"
   ]
  },
  {
   "cell_type": "code",
   "execution_count": 66,
   "id": "36da9ca7",
   "metadata": {},
   "outputs": [
    {
     "data": {
      "text/plain": [
       "<AxesSubplot:xlabel='xLeft', ylabel='yBottom'>"
      ]
     },
     "execution_count": 66,
     "metadata": {},
     "output_type": "execute_result"
    },
    {
     "data": {
      "image/png": "[encoded data removed]",
      "text/plain": [
       "<Figure size 432x288 with 1 Axes>"
      ]
     },
     "metadata": {
      "needs_background": "light"
     },
     "output_type": "display_data"
    }
   ],
   "source": [
    "find_tif_df.plot(x=\"xLeft\", y=\"yBottom\", kind='scatter')\n",
    "\n",
    "\n",
    "\n"
   ]
  },
  {
   "cell_type": "code",
   "execution_count": 71,
   "id": "7cf97f9c",
   "metadata": {},
   "outputs": [
    {
     "data": {
      "text/plain": [
       "<seaborn.axisgrid.JointGrid at 0x7f10227a0a60>"
      ]
     },
     "execution_count": 71,
     "metadata": {},
     "output_type": "execute_result"
    },
    {
     "data": {
      "image/png": "[encoded data removed]",
      "text/plain": [
       "<Figure size 432x432 with 3 Axes>"
      ]
     },
     "metadata": {
      "needs_background": "light"
     },
     "output_type": "display_data"
    }
   ],
   "source": [
    "import matplotlib.pyplot as plt\n",
    "%matplotlib inline\n",
    "import seaborn as sns\n",
    "\n",
    "\n",
    "# x and y are from the actual find_tif_df DataFrame\n",
    "addr_xy = \n",
    " 'x_value': 153908.9,\n",
    " 'y_value': 212660.38\n",
    "sns.jointplot(x=find_tif_df.xLeft, y=find_tif_df.yBottom, data=find_tif_df)\n",
    "\n",
    "\n"
   ]
  },
  {
   "cell_type": "code",
   "execution_count": null,
   "id": "583f0732",
   "metadata": {},
   "outputs": [],
   "source": []
  },
  {
   "cell_type": "code",
   "execution_count": null,
   "id": "6768b660",
   "metadata": {},
   "outputs": [],
   "source": []
  },
  {
   "cell_type": "code",
   "execution_count": null,
   "id": "88e76b44",
   "metadata": {},
   "outputs": [],
   "source": []
  },
  {
   "cell_type": "code",
   "execution_count": 12,
   "id": "56ceae5e",
   "metadata": {},
   "outputs": [],
   "source": [
    "# OR work with code that stores data files temporarily"
   ]
  },
  {
   "cell_type": "code",
   "execution_count": null,
   "id": "197736f2",
   "metadata": {},
   "outputs": [],
   "source": []
  },
  {
   "cell_type": "code",
   "execution_count": 13,
   "id": "f98cad50",
   "metadata": {},
   "outputs": [],
   "source": [
    "# OR write a code that opens it remotely and gathers the data needed"
   ]
  },
  {
   "cell_type": "code",
   "execution_count": null,
   "id": "711220ac",
   "metadata": {},
   "outputs": [],
   "source": []
  },
  {
   "cell_type": "code",
   "execution_count": 14,
   "id": "75c56600",
   "metadata": {},
   "outputs": [
    {
     "data": {
      "text/plain": [
       "\" Get data from the address that's needed for the plot\\n    ----------------------------------------------------\\n\""
      ]
     },
     "execution_count": 14,
     "metadata": {},
     "output_type": "execute_result"
    }
   ],
   "source": [
    "\"\"\" Get data from the address that's needed for the plot\n",
    "    ----------------------------------------------------\n",
    "\"\"\""
   ]
  },
  {
   "cell_type": "code",
   "execution_count": 15,
   "id": "edc03f8c",
   "metadata": {},
   "outputs": [
    {
     "data": {
      "text/plain": [
       "' Check the files like .scp, .. to find usefull data '"
      ]
     },
     "execution_count": 15,
     "metadata": {},
     "output_type": "execute_result"
    }
   ],
   "source": [
    "\"\"\" Check the files like .scp, .. to find usefull data \"\"\""
   ]
  },
  {
   "cell_type": "code",
   "execution_count": 16,
   "id": "9ba5d44b",
   "metadata": {},
   "outputs": [],
   "source": [
    "# check the internet what files contain the plot data"
   ]
  },
  {
   "cell_type": "code",
   "execution_count": null,
   "id": "bd6eed96",
   "metadata": {},
   "outputs": [],
   "source": []
  },
  {
   "cell_type": "code",
   "execution_count": 17,
   "id": "ed307222",
   "metadata": {},
   "outputs": [],
   "source": [
    "# Assign the polygon coordinates to a list variable"
   ]
  },
  {
   "cell_type": "code",
   "execution_count": null,
   "id": "88ecccaf",
   "metadata": {},
   "outputs": [],
   "source": []
  },
  {
   "cell_type": "code",
   "execution_count": 18,
   "id": "2ea02ad1",
   "metadata": {},
   "outputs": [],
   "source": [
    "# Calculate the CHM like DSM - DTM"
   ]
  },
  {
   "cell_type": "code",
   "execution_count": null,
   "id": "5c273320",
   "metadata": {},
   "outputs": [],
   "source": []
  },
  {
   "cell_type": "code",
   "execution_count": 19,
   "id": "40cd34bb",
   "metadata": {},
   "outputs": [],
   "source": [
    "# Prepare the plot"
   ]
  },
  {
   "cell_type": "code",
   "execution_count": null,
   "id": "d6eafd77",
   "metadata": {},
   "outputs": [],
   "source": []
  },
  {
   "cell_type": "code",
   "execution_count": 20,
   "id": "01918884",
   "metadata": {},
   "outputs": [],
   "source": [
    "# Create the plot"
   ]
  },
  {
   "cell_type": "code",
   "execution_count": null,
   "id": "6bb0a060",
   "metadata": {},
   "outputs": [],
   "source": []
  },
  {
   "cell_type": "code",
   "execution_count": null,
   "id": "ad89d25b",
   "metadata": {},
   "outputs": [],
   "source": []
  }
 ],
 "metadata": {
  "kernelspec": {
   "display_name": "py39",
   "language": "python",
   "name": "py39"
  },
  "language_info": {
   "codemirror_mode": {
    "name": "ipython",
    "version": 3
   },
   "file_extension": ".py",
   "mimetype": "text/x-python",
   "name": "python",
   "nbconvert_exporter": "python",
   "pygments_lexer": "ipython3",
   "version": "3.9.4"
  }
 },
 "nbformat": 4,
 "nbformat_minor": 5
}
