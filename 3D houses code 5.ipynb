{
 "cells": [
  {
   "cell_type": "code",
   "execution_count": null,
   "id": "b2db3b70",
   "metadata": {},
   "outputs": [],
   "source": [
    "\"\"\" After looking and searching too long\n",
    "Now it is time to finally get a nice plot \"\"\""
   ]
  },
  {
   "cell_type": "code",
   "execution_count": null,
   "id": "65f84f1f",
   "metadata": {},
   "outputs": [],
   "source": [
    "\"\"\" first get the correct data (x, y, z) \"\"\""
   ]
  },
  {
   "cell_type": "code",
   "execution_count": 2,
   "id": "93f3580e",
   "metadata": {},
   "outputs": [],
   "source": [
    "import rioxarray\n",
    "import seaborn as sns\n",
    "# Prettier plotting with seaborn\n",
    "sns.set(font_scale=1.5, style=\"white\")"
   ]
  },
  {
   "cell_type": "code",
   "execution_count": 3,
   "id": "2c06daaf",
   "metadata": {},
   "outputs": [],
   "source": [
    "address = \"antwerpsestraat 165 2640 mortsel\""
   ]
  },
  {
   "cell_type": "code",
   "execution_count": 4,
   "id": "c864cc32",
   "metadata": {},
   "outputs": [
    {
     "ename": "NameError",
     "evalue": "name 'Dict' is not defined",
     "output_type": "error",
     "traceback": [
      "\u001b[0;31m---------------------------------------------------------------------------\u001b[0m",
      "\u001b[0;31mNameError\u001b[0m                                 Traceback (most recent call last)",
      "\u001b[0;32m<ipython-input-4-0d9dc7a60188>\u001b[0m in \u001b[0;36m<module>\u001b[0;34m\u001b[0m\n\u001b[0;32m----> 1\u001b[0;31m \u001b[0;32mdef\u001b[0m \u001b[0mget_address_data_from_geopunt\u001b[0m\u001b[0;34m(\u001b[0m\u001b[0maddress\u001b[0m\u001b[0;34m:\u001b[0m \u001b[0mstr\u001b[0m\u001b[0;34m)\u001b[0m \u001b[0;34m->\u001b[0m \u001b[0mDict\u001b[0m\u001b[0;34m[\u001b[0m\u001b[0mstr\u001b[0m\u001b[0;34m,\u001b[0m \u001b[0mstr\u001b[0m\u001b[0;34m]\u001b[0m\u001b[0;34m:\u001b[0m\u001b[0;34m\u001b[0m\u001b[0;34m\u001b[0m\u001b[0m\n\u001b[0m\u001b[1;32m      2\u001b[0m     \u001b[0mdata\u001b[0m \u001b[0;34m=\u001b[0m \u001b[0mrequests\u001b[0m\u001b[0;34m.\u001b[0m\u001b[0mget\u001b[0m\u001b[0;34m(\u001b[0m\u001b[0;34mf\"https://loc.geopunt.be/v4/Location?q={address}\"\u001b[0m\u001b[0;34m)\u001b[0m\u001b[0;34m.\u001b[0m\u001b[0mjson\u001b[0m\u001b[0;34m(\u001b[0m\u001b[0;34m)\u001b[0m\u001b[0;34m\u001b[0m\u001b[0;34m\u001b[0m\u001b[0m\n\u001b[1;32m      3\u001b[0m \u001b[0;31m#    print(data,\"\\n\")\u001b[0m\u001b[0;34m\u001b[0m\u001b[0;34m\u001b[0m\u001b[0;34m\u001b[0m\u001b[0m\n\u001b[1;32m      4\u001b[0m     info = {'address' : address, \n\u001b[1;32m      5\u001b[0m                 \u001b[0;34m'x_value'\u001b[0m \u001b[0;34m:\u001b[0m \u001b[0mdata\u001b[0m\u001b[0;34m[\u001b[0m\u001b[0;34m'LocationResult'\u001b[0m\u001b[0;34m]\u001b[0m\u001b[0;34m[\u001b[0m\u001b[0;36m0\u001b[0m\u001b[0;34m]\u001b[0m\u001b[0;34m[\u001b[0m\u001b[0;34m'Location'\u001b[0m\u001b[0;34m]\u001b[0m\u001b[0;34m[\u001b[0m\u001b[0;34m'X_Lambert72'\u001b[0m\u001b[0;34m]\u001b[0m\u001b[0;34m,\u001b[0m\u001b[0;34m\u001b[0m\u001b[0;34m\u001b[0m\u001b[0m\n",
      "\u001b[0;31mNameError\u001b[0m: name 'Dict' is not defined"
     ]
    }
   ],
   "source": [
    "def get_address_data_from_geopunt(address: str) -> Dict[str, str]:\n",
    "    data = requests.get(f\"https://loc.geopunt.be/v4/Location?q={address}\").json()\n",
    "#    print(data,\"\\n\")\n",
    "    info = {'address' : address, \n",
    "                'x_value' : data['LocationResult'][0]['Location']['X_Lambert72'],\n",
    "                'y_value' : data['LocationResult'][0]['Location']['Y_Lambert72'],\n",
    "                'street' : data['LocationResult'][0]['Thoroughfarename'],\n",
    "                'house_number' : data['LocationResult'][0]['Housenumber'], \n",
    "                'postcode': data['LocationResult'][0]['Zipcode'], \n",
    "                'municipality' : data['LocationResult'][0]['Municipality']}\n",
    "    \n",
    "    detail = requests.get(\"https://api.basisregisters.vlaanderen.be/v1/adresmatch\", \n",
    "                          params={\"postcode\": info['postcode'], \n",
    "                                  \"straatnaam\": info['street'],\n",
    "                                  \"huisnummer\": info['house_number']}).json()\n",
    "    building = requests.get(detail['adresMatches'][0]['adresseerbareObjecten'][0]['detail']).json()\n",
    "    build = requests.get(building['gebouw']['detail']).json()\n",
    "    info['polygon'] = [build['geometriePolygoon']['polygon']]\n",
    "#    print(info['polygon'][0]['coordinates'][0])\n",
    "#    print(info['polygon'][1]['coordinates'][1])\n",
    "    \n",
    "    \n",
    "    return info"
   ]
  },
  {
   "cell_type": "code",
   "execution_count": 5,
   "id": "7f47ece1",
   "metadata": {},
   "outputs": [
    {
     "ename": "NameError",
     "evalue": "name 'get_address_data_from_geopunt' is not defined",
     "output_type": "error",
     "traceback": [
      "\u001b[0;31m---------------------------------------------------------------------------\u001b[0m",
      "\u001b[0;31mNameError\u001b[0m                                 Traceback (most recent call last)",
      "\u001b[0;32m<ipython-input-5-50297b750a3e>\u001b[0m in \u001b[0;36m<module>\u001b[0;34m\u001b[0m\n\u001b[0;32m----> 1\u001b[0;31m \u001b[0maddress_info\u001b[0m \u001b[0;34m=\u001b[0m \u001b[0mget_address_data_from_geopunt\u001b[0m\u001b[0;34m(\u001b[0m\u001b[0maddress\u001b[0m\u001b[0;34m)\u001b[0m\u001b[0;34m\u001b[0m\u001b[0;34m\u001b[0m\u001b[0m\n\u001b[0m\u001b[1;32m      2\u001b[0m \u001b[0maddress_info\u001b[0m\u001b[0;34m\u001b[0m\u001b[0;34m\u001b[0m\u001b[0m\n",
      "\u001b[0;31mNameError\u001b[0m: name 'get_address_data_from_geopunt' is not defined"
     ]
    }
   ],
   "source": [
    "address_info = get_address_data_from_geopunt(address)\n",
    "address_info"
   ]
  },
  {
   "cell_type": "code",
   "execution_count": null,
   "id": "19409cd8",
   "metadata": {},
   "outputs": [],
   "source": [
    "\n",
    "# get the polygon coordinates in a x and a y list\n",
    "poly = address_info[\"polygon\"]\n",
    "coords = poly[0][\"coordinates\"]\n",
    "\n",
    "x_arr = []\n",
    "y_arr = []\n",
    "\n",
    "for i in range(len(coords)):\n",
    "    lst = coords[i]\n",
    "\n",
    "for j in range(len(lst)):\n",
    "    x_arr.append(lst[j][0])\n",
    "    y_arr.append(lst[j][1])\n",
    "\n",
    "x_arr = np.array(x_arr)\n",
    "y_arr = np.array(y_arr)\n",
    "\n",
    "print(\"x: \", x_arr)\n",
    "print(\"y: \", y_arr)  "
   ]
  },
  {
   "cell_type": "code",
   "execution_count": null,
   "id": "e5494f6d",
   "metadata": {},
   "outputs": [],
   "source": [
    "# get the max and min coordinates from the polygon for \n",
    "# in order to calculate the relative coordinates for the box\n",
    "xLeft = int(x_arr.min())\n",
    "yBottom = int(y_arr.min())\n",
    "xRight = int(x_arr.max())\n",
    "yTop = int(y_arr.max())\n",
    "print(xLeft, yBottom, xRight, yTop)"
   ]
  },
  {
   "cell_type": "code",
   "execution_count": null,
   "id": "ec53e005",
   "metadata": {},
   "outputs": [],
   "source": [
    "# exercise to find out if cropping and plotting works\n",
    "# create a raw cropped_img of the DSM tiff map\n",
    "dem_pre_path = 'data/DHMVIIDSMRAS1m_k15/GeoTIFF/DHMVIIDSMRAS1m_k15.tif'\n",
    "\n",
    "dsm_pre_arr = rxr.open_rasterio(dem_pre_path)\n",
    "cropped_img = dsm_pre_arr[:, 0:2500, 0:2500]\n",
    "\n",
    "cropped_img.plot()\n",
    "plt.show()\n",
    "#cropped_img_address = dsm_pre_arr[:, 81281:81813, 95400:95850]"
   ]
  },
  {
   "cell_type": "code",
   "execution_count": null,
   "id": "ae9e03ba",
   "metadata": {},
   "outputs": [],
   "source": [
    "# exercise to find out if cropping and plotting works\n",
    "# create a raw cropped_img of the DSM tiff map\n",
    "dem_pre_path = 'data/DHMVIIDSMRAS1m_k15/GeoTIFF/DHMVIIDSMRAS1m_k15.tif'\n",
    "\n",
    "dsm_pre_arr = rxr.open_rasterio(dem_pre_path)\n",
    "cropped_img = dsm_pre_arr[:, 2500:5000, 2500:5000]\n",
    "\n",
    "cropped_img.plot()\n",
    "plt.show()\n",
    "#cropped_img_address = dsm_pre_arr[:, 81281:81813, 95400:95850]"
   ]
  },
  {
   "cell_type": "code",
   "execution_count": null,
   "id": "eb43fc00",
   "metadata": {},
   "outputs": [],
   "source": [
    "# exercise to find out if cropping and plotting works\n",
    "# create a raw cropped_img of the DSM tiff map\n",
    "dem_pre_path = 'data/DHMVIIDSMRAS1m_k15/GeoTIFF/DHMVIIDSMRAS1m_k15.tif'\n",
    "\n",
    "dsm_pre_arr = rxr.open_rasterio(dem_pre_path)\n",
    "cropped_img = dsm_pre_arr[:, 10000:12500, 10000:12500]\n",
    "\n",
    "cropped_img.plot()\n",
    "plt.show()\n",
    "#cropped_img_address = dsm_pre_arr[:, 81281:81813, 95400:95850]"
   ]
  },
  {
   "cell_type": "code",
   "execution_count": null,
   "id": "032edd27",
   "metadata": {},
   "outputs": [],
   "source": [
    "# exercise to find out if cropping and plotting works\n",
    "# create a raw cropped_img of the DSM tiff map\n",
    "dem_pre_path = 'data/DHMVIIDSMRAS1m_k15/GeoTIFF/DHMVIIDSMRAS1m_k15.tif'\n",
    "\n",
    "dsm_pre_arr = rxr.open_rasterio(dem_pre_path)\n",
    "cropped_img = dsm_pre_arr[:, 15000:17500, 15000:17500]\n",
    "\n",
    "cropped_img.plot()\n",
    "plt.show()\n",
    "#cropped_img_address = dsm_pre_arr[:, 81281:81813, 95400:95850]"
   ]
  },
  {
   "cell_type": "code",
   "execution_count": null,
   "id": "0948f311",
   "metadata": {},
   "outputs": [],
   "source": [
    "# exercise to find out if cropping and plotting works\n",
    "# create a raw cropped_img of the DSM tiff map\n",
    "dem_pre_path = 'data/DHMVIIDSMRAS1m_k15/GeoTIFF/DHMVIIDSMRAS1m_k15.tif'\n",
    "\n",
    "dsm_pre_arr = rxr.open_rasterio(dem_pre_path)\n",
    "cropped_img = dsm_pre_arr[:, 17500:20000, 17500:20000]\n",
    "\n",
    "cropped_img.plot()\n",
    "plt.show()\n",
    "#cropped_img_address = dsm_pre_arr[:, 81281:81813, 95400:95850]\n",
    "\n",
    "\"\"\" FOR THIS TIF, X AND Y CANNOT EXCEED 20000 \"\"\""
   ]
  },
  {
   "cell_type": "code",
   "execution_count": null,
   "id": "01eab943",
   "metadata": {
    "scrolled": true
   },
   "outputs": [],
   "source": [
    "\"\"\" For the coordinates try:\n",
    "the actual (absolute) coordinates minus the tif's bounderies.. left\"\"\"\n",
    "\n",
    "import rioxarray\n",
    "import geopandas as gpd\n",
    "surface_HARV = rioxarray.open_rasterio('data/DHMVIIDSMRAS1m_k15/GeoTIFF/DHMVIIDSMRAS1m_k15.tif')\n",
    "#print(surface_HARV.min())\n",
    "#print(surface_HARV.max())\n",
    "aoi_boundary_HARV = gpd.read_file(\"data/DHMVIIDSMRAS1m_k15/DHMVII_vdc_k15.shp\")\n",
    "#print(aoi_boundary_HARV)\n",
    "\n",
    "aoi_boundary_HARV.plot()\n",
    "#aoi_boundary_HARV.crs"
   ]
  },
  {
   "cell_type": "code",
   "execution_count": null,
   "id": "17235e6f",
   "metadata": {},
   "outputs": [],
   "source": [
    "aoi_boundary_HARV.plot(figsize=(5,5), edgecolor=\"purple\", facecolor=\"None\")"
   ]
  },
  {
   "cell_type": "code",
   "execution_count": null,
   "id": "8e22fa6d",
   "metadata": {},
   "outputs": [],
   "source": []
  },
  {
   "cell_type": "code",
   "execution_count": 2,
   "id": "dee148c3",
   "metadata": {
    "scrolled": true
   },
   "outputs": [
    {
     "ename": "NameError",
     "evalue": "name 'gpd' is not defined",
     "output_type": "error",
     "traceback": [
      "\u001b[0;31m---------------------------------------------------------------------------\u001b[0m",
      "\u001b[0;31mNameError\u001b[0m                                 Traceback (most recent call last)",
      "\u001b[0;32m<ipython-input-2-f11ed640f954>\u001b[0m in \u001b[0;36m<module>\u001b[0;34m\u001b[0m\n\u001b[0;32m----> 1\u001b[0;31m aoi_boundary_HARV = gpd.read_file(\n\u001b[0m\u001b[1;32m      2\u001b[0m   \"data/DHMVIIDSMRAS1m_k15/DHMVII_vdc_k15.shp\")\n\u001b[1;32m      3\u001b[0m \u001b[0maoi_boundary_HARV\u001b[0m\u001b[0;34m\u001b[0m\u001b[0;34m\u001b[0m\u001b[0m\n",
      "\u001b[0;31mNameError\u001b[0m: name 'gpd' is not defined"
     ]
    }
   ],
   "source": [
    "aoi_boundary_HARV = gpd.read_file(\n",
    "  \"data/DHMVIIDSMRAS1m_k15/DHMVII_vdc_k15.shp\")\n",
    "aoi_boundary_HARV"
   ]
  },
  {
   "cell_type": "code",
   "execution_count": 3,
   "id": "65885198",
   "metadata": {
    "scrolled": true
   },
   "outputs": [
    {
     "ename": "NameError",
     "evalue": "name 'aoi_boundary_HARV' is not defined",
     "output_type": "error",
     "traceback": [
      "\u001b[0;31m---------------------------------------------------------------------------\u001b[0m",
      "\u001b[0;31mNameError\u001b[0m                                 Traceback (most recent call last)",
      "\u001b[0;32m<ipython-input-3-c407cd02e6ee>\u001b[0m in \u001b[0;36m<module>\u001b[0;34m\u001b[0m\n\u001b[0;32m----> 1\u001b[0;31m \u001b[0maoi_boundary_HARV\u001b[0m\u001b[0;34m.\u001b[0m\u001b[0mtype\u001b[0m\u001b[0;34m\u001b[0m\u001b[0;34m\u001b[0m\u001b[0m\n\u001b[0m",
      "\u001b[0;31mNameError\u001b[0m: name 'aoi_boundary_HARV' is not defined"
     ]
    }
   ],
   "source": [
    "aoi_boundary_HARV.type\n"
   ]
  },
  {
   "cell_type": "code",
   "execution_count": 4,
   "id": "1ed1deee",
   "metadata": {},
   "outputs": [
    {
     "ename": "NameError",
     "evalue": "name 'aoi_boundary_HARV' is not defined",
     "output_type": "error",
     "traceback": [
      "\u001b[0;31m---------------------------------------------------------------------------\u001b[0m",
      "\u001b[0;31mNameError\u001b[0m                                 Traceback (most recent call last)",
      "\u001b[0;32m<ipython-input-4-f9c137f96653>\u001b[0m in \u001b[0;36m<module>\u001b[0;34m\u001b[0m\n\u001b[0;32m----> 1\u001b[0;31m \u001b[0maoi_boundary_HARV\u001b[0m\u001b[0;34m.\u001b[0m\u001b[0mcrs\u001b[0m\u001b[0;34m\u001b[0m\u001b[0;34m\u001b[0m\u001b[0m\n\u001b[0m",
      "\u001b[0;31mNameError\u001b[0m: name 'aoi_boundary_HARV' is not defined"
     ]
    }
   ],
   "source": [
    "aoi_boundary_HARV.crs\n"
   ]
  },
  {
   "cell_type": "code",
   "execution_count": 5,
   "id": "132c0425",
   "metadata": {
    "scrolled": true
   },
   "outputs": [
    {
     "ename": "NameError",
     "evalue": "name 'aoi_boundary_HARV' is not defined",
     "output_type": "error",
     "traceback": [
      "\u001b[0;31m---------------------------------------------------------------------------\u001b[0m",
      "\u001b[0;31mNameError\u001b[0m                                 Traceback (most recent call last)",
      "\u001b[0;32m<ipython-input-5-7673fb838968>\u001b[0m in \u001b[0;36m<module>\u001b[0;34m\u001b[0m\n\u001b[0;32m----> 1\u001b[0;31m \u001b[0maoi_boundary_HARV\u001b[0m\u001b[0;34m.\u001b[0m\u001b[0mbounds\u001b[0m\u001b[0;34m\u001b[0m\u001b[0;34m\u001b[0m\u001b[0m\n\u001b[0m",
      "\u001b[0;31mNameError\u001b[0m: name 'aoi_boundary_HARV' is not defined"
     ]
    }
   ],
   "source": [
    "aoi_boundary_HARV.bounds\n"
   ]
  },
  {
   "cell_type": "code",
   "execution_count": 7,
   "id": "fc1e5b86",
   "metadata": {},
   "outputs": [
    {
     "ename": "NameError",
     "evalue": "name 'address' is not defined",
     "output_type": "error",
     "traceback": [
      "\u001b[0;31m---------------------------------------------------------------------------\u001b[0m",
      "\u001b[0;31mNameError\u001b[0m                                 Traceback (most recent call last)",
      "\u001b[0;32m<ipython-input-7-ebd52ad8d53a>\u001b[0m in \u001b[0;36m<module>\u001b[0;34m\u001b[0m\n\u001b[1;32m     35\u001b[0m \u001b[0mCHM_HARV\u001b[0m \u001b[0;34m=\u001b[0m \u001b[0mdsm_array\u001b[0m \u001b[0;34m-\u001b[0m \u001b[0mdtm_array\u001b[0m\u001b[0;34m\u001b[0m\u001b[0;34m\u001b[0m\u001b[0m\n\u001b[1;32m     36\u001b[0m \u001b[0;34m\u001b[0m\u001b[0m\n\u001b[0;32m---> 37\u001b[0;31m \u001b[0mdata\u001b[0m \u001b[0;34m=\u001b[0m \u001b[0mrequests\u001b[0m\u001b[0;34m.\u001b[0m\u001b[0mget\u001b[0m\u001b[0;34m(\u001b[0m\u001b[0;34mf\"https://loc.geopunt.be/v4/Location?q={address}\"\u001b[0m\u001b[0;34m)\u001b[0m\u001b[0;34m.\u001b[0m\u001b[0mjson\u001b[0m\u001b[0;34m(\u001b[0m\u001b[0;34m)\u001b[0m\u001b[0;34m\u001b[0m\u001b[0;34m\u001b[0m\u001b[0m\n\u001b[0m\u001b[1;32m     38\u001b[0m \u001b[0;31m#    print(data,\"\\n\")\u001b[0m\u001b[0;34m\u001b[0m\u001b[0;34m\u001b[0m\u001b[0;34m\u001b[0m\u001b[0m\n\u001b[1;32m     39\u001b[0m info = {'address' : address, \n",
      "\u001b[0;31mNameError\u001b[0m: name 'address' is not defined"
     ]
    }
   ],
   "source": [
    "import requests\n",
    "import json\n",
    "import numpy as np\n",
    "import pandas as pd\n",
    "\n",
    "from io import BytesIO\n",
    "from urllib.request import urlopen\n",
    "from zipfile import ZipFile\n",
    "\n",
    "import xarray\n",
    "import rioxarray\n",
    "\n",
    "import rasterio as rt\n",
    "from rasterio.mask import mask\n",
    "\n",
    "%matplotlib inline\n",
    "import matplotlib.pyplot as plt\n",
    "from shapely.geometry.polygon import Polygon\n",
    "\n",
    "import plotly.graph_objects as go\n",
    "\n",
    "from typing import Dict \n",
    "\n",
    "\n",
    "# we get the projection of the point data from our Canopy Height Model, \n",
    "# after examining the pandas DataFrame and seeing that the CRSs are the same\n",
    "dtm_src = 'data/DHMVIIDTMRAS1m_k15/GeoTIFF/DHMVIIDTMRAS1m_k15.tif'\n",
    "dtm_img = rt.open(dtm_src)\n",
    "dtm_array = dtm_img.read()\n",
    "# Get DSM data\n",
    "dsm_src = 'data/DHMVIIDSMRAS1m_k15/GeoTIFF/DHMVIIDSMRAS1m_k15.tif'\n",
    "dsm_img = rt.open(dsm_src)\n",
    "#show(dsm_img)\n",
    "dsm_array = dsm_img.read()\n",
    "CHM_HARV = dsm_array - dtm_array\n",
    "\n",
    "data = requests.get(f\"https://loc.geopunt.be/v4/Location?q={address}\").json()\n",
    "#    print(data,\"\\n\")\n",
    "info = {'address' : address, \n",
    "                'x_value' : data['LocationResult'][0]['Location']['X_Lambert72'],\n",
    "                'y_value' : data['LocationResult'][0]['Location']['Y_Lambert72'],\n",
    "                'street' : data['LocationResult'][0]['Thoroughfarename'],\n",
    "                'house_number' : data['LocationResult'][0]['Housenumber'], \n",
    "                'postcode': data['LocationResult'][0]['Zipcode'], \n",
    "                'municipality' : data['LocationResult'][0]['Municipality']}\n",
    "\n",
    "detail = requests.get(\"https://api.basisregisters.vlaanderen.be/v1/adresmatch\", \n",
    "                          params={\"postcode\": info['postcode'], \n",
    "                                  \"straatnaam\": info['street'],\n",
    "                                  \"huisnummer\": info['house_number']}).json()\n",
    "building = requests.get(detail['adresMatches'][0]['adresseerbareObjecten'][0]['detail']).json()\n",
    "build = requests.get(building['gebouw']['detail']).json()\n",
    "info['polygon'] = [build['geometriePolygoon']['polygon']]\n",
    "\n",
    "# get the polygon coordinates in a x and a y list\n",
    "poly = info[\"polygon\"]\n",
    "coords = poly[0][\"coordinates\"]\n",
    "\n",
    "x_arr = []\n",
    "y_arr = []\n",
    "\n",
    "for i in range(len(coords)):\n",
    "    lst = coords[i]\n",
    "\n",
    "for j in range(len(lst)):\n",
    "    x_arr.append(lst[j][0])\n",
    "    y_arr.append(lst[j][1])\n",
    "\n",
    "x_arr = np.array(x_arr)\n",
    "y_arr = np.array(y_arr)\n",
    "\n",
    "print(\"x: \", x_arr)\n",
    "print(\"y: \", y_arr)  \n",
    "\n",
    "\n",
    "#plot_locations_HARV = gpd.GeoDataFrame(plot_locations_HARV, \n",
    "#                    geometry=gpd.points_from_xy(x_arr, y_arr), \n",
    "#                    crs=CHM_HARV)\n",
    "\n",
    "plot_locations_HARV = gpd.GeoDataFrame(plot_locations_HARV, geometry=gpd.points_from_xy(x_arr, y_arr), crs=CHM_HARV)\n"
   ]
  },
  {
   "cell_type": "code",
   "execution_count": null,
   "id": "1e58521a",
   "metadata": {},
   "outputs": [],
   "source": [
    "tm_src = 'data/DHMVIIDTMRAS1m_k15/GeoTIFF/DHMVIIDTMRAS1m_k15.tif'\n",
    "dtm_img = rt.open(dtm_src)"
   ]
  },
  {
   "cell_type": "code",
   "execution_count": null,
   "id": "e6ed07cb",
   "metadata": {},
   "outputs": [],
   "source": [
    "dtm_img.width\n",
    "\n"
   ]
  },
  {
   "cell_type": "code",
   "execution_count": null,
   "id": "be35ad09",
   "metadata": {},
   "outputs": [],
   "source": []
  },
  {
   "cell_type": "code",
   "execution_count": null,
   "id": "d7c6af40",
   "metadata": {},
   "outputs": [],
   "source": []
  },
  {
   "cell_type": "code",
   "execution_count": null,
   "id": "5fdf660d",
   "metadata": {},
   "outputs": [],
   "source": []
  },
  {
   "cell_type": "code",
   "execution_count": null,
   "id": "cbdb1159",
   "metadata": {},
   "outputs": [],
   "source": []
  },
  {
   "cell_type": "code",
   "execution_count": 29,
   "id": "eafa6ef4",
   "metadata": {},
   "outputs": [
    {
     "ename": "AttributeError",
     "evalue": "'DataFrame' object has no attribute 'description'",
     "output_type": "error",
     "traceback": [
      "\u001b[0;31m---------------------------------------------------------------------------\u001b[0m",
      "\u001b[0;31mAttributeError\u001b[0m                            Traceback (most recent call last)",
      "\u001b[0;32m<ipython-input-29-a606a92042ee>\u001b[0m in \u001b[0;36m<module>\u001b[0;34m\u001b[0m\n\u001b[0;32m----> 1\u001b[0;31m \u001b[0maoi_boundary_HARV\u001b[0m\u001b[0;34m.\u001b[0m\u001b[0mbounds\u001b[0m\u001b[0;34m.\u001b[0m\u001b[0mdescription\u001b[0m\u001b[0;34m(\u001b[0m\u001b[0;34m)\u001b[0m\u001b[0;34m\u001b[0m\u001b[0;34m\u001b[0m\u001b[0m\n\u001b[0m",
      "\u001b[0;32m~/anaconda3/envs/py39/lib/python3.9/site-packages/pandas/core/generic.py\u001b[0m in \u001b[0;36m__getattr__\u001b[0;34m(self, name)\u001b[0m\n\u001b[1;32m   5463\u001b[0m             \u001b[0;32mif\u001b[0m \u001b[0mself\u001b[0m\u001b[0;34m.\u001b[0m\u001b[0m_info_axis\u001b[0m\u001b[0;34m.\u001b[0m\u001b[0m_can_hold_identifiers_and_holds_name\u001b[0m\u001b[0;34m(\u001b[0m\u001b[0mname\u001b[0m\u001b[0;34m)\u001b[0m\u001b[0;34m:\u001b[0m\u001b[0;34m\u001b[0m\u001b[0;34m\u001b[0m\u001b[0m\n\u001b[1;32m   5464\u001b[0m                 \u001b[0;32mreturn\u001b[0m \u001b[0mself\u001b[0m\u001b[0;34m[\u001b[0m\u001b[0mname\u001b[0m\u001b[0;34m]\u001b[0m\u001b[0;34m\u001b[0m\u001b[0;34m\u001b[0m\u001b[0m\n\u001b[0;32m-> 5465\u001b[0;31m             \u001b[0;32mreturn\u001b[0m \u001b[0mobject\u001b[0m\u001b[0;34m.\u001b[0m\u001b[0m__getattribute__\u001b[0m\u001b[0;34m(\u001b[0m\u001b[0mself\u001b[0m\u001b[0;34m,\u001b[0m \u001b[0mname\u001b[0m\u001b[0;34m)\u001b[0m\u001b[0;34m\u001b[0m\u001b[0;34m\u001b[0m\u001b[0m\n\u001b[0m\u001b[1;32m   5466\u001b[0m \u001b[0;34m\u001b[0m\u001b[0m\n\u001b[1;32m   5467\u001b[0m     \u001b[0;32mdef\u001b[0m \u001b[0m__setattr__\u001b[0m\u001b[0;34m(\u001b[0m\u001b[0mself\u001b[0m\u001b[0;34m,\u001b[0m \u001b[0mname\u001b[0m\u001b[0;34m:\u001b[0m \u001b[0mstr\u001b[0m\u001b[0;34m,\u001b[0m \u001b[0mvalue\u001b[0m\u001b[0;34m)\u001b[0m \u001b[0;34m->\u001b[0m \u001b[0;32mNone\u001b[0m\u001b[0;34m:\u001b[0m\u001b[0;34m\u001b[0m\u001b[0;34m\u001b[0m\u001b[0m\n",
      "\u001b[0;31mAttributeError\u001b[0m: 'DataFrame' object has no attribute 'description'"
     ]
    }
   ],
   "source": [
    "dsm_pre_arr = rxr.open_rasterio(dem_pre_path)\n",
    "cropped_img = dsm_pre_arr[:, 17500:20000, 17500:20000]\n",
    "\n",
    "cropped_img.plot()\n",
    "plt.show()\n",
    "\n"
   ]
  },
  {
   "cell_type": "code",
   "execution_count": 27,
   "id": "6ec98c46",
   "metadata": {},
   "outputs": [
    {
     "name": "stdout",
     "output_type": "stream",
     "text": [
      "154964.84225468338\n"
     ]
    },
    {
     "ename": "KeyError",
     "evalue": "0",
     "output_type": "error",
     "traceback": [
      "\u001b[0;31m---------------------------------------------------------------------------\u001b[0m",
      "\u001b[0;31mKeyError\u001b[0m                                  Traceback (most recent call last)",
      "\u001b[0;32m~/anaconda3/envs/py39/lib/python3.9/site-packages/pandas/core/indexes/base.py\u001b[0m in \u001b[0;36mget_loc\u001b[0;34m(self, key, method, tolerance)\u001b[0m\n\u001b[1;32m   3079\u001b[0m             \u001b[0;32mtry\u001b[0m\u001b[0;34m:\u001b[0m\u001b[0;34m\u001b[0m\u001b[0;34m\u001b[0m\u001b[0m\n\u001b[0;32m-> 3080\u001b[0;31m                 \u001b[0;32mreturn\u001b[0m \u001b[0mself\u001b[0m\u001b[0;34m.\u001b[0m\u001b[0m_engine\u001b[0m\u001b[0;34m.\u001b[0m\u001b[0mget_loc\u001b[0m\u001b[0;34m(\u001b[0m\u001b[0mcasted_key\u001b[0m\u001b[0;34m)\u001b[0m\u001b[0;34m\u001b[0m\u001b[0;34m\u001b[0m\u001b[0m\n\u001b[0m\u001b[1;32m   3081\u001b[0m             \u001b[0;32mexcept\u001b[0m \u001b[0mKeyError\u001b[0m \u001b[0;32mas\u001b[0m \u001b[0merr\u001b[0m\u001b[0;34m:\u001b[0m\u001b[0;34m\u001b[0m\u001b[0;34m\u001b[0m\u001b[0m\n",
      "\u001b[0;32mpandas/_libs/index.pyx\u001b[0m in \u001b[0;36mpandas._libs.index.IndexEngine.get_loc\u001b[0;34m()\u001b[0m\n",
      "\u001b[0;32mpandas/_libs/index.pyx\u001b[0m in \u001b[0;36mpandas._libs.index.IndexEngine.get_loc\u001b[0;34m()\u001b[0m\n",
      "\u001b[0;32mpandas/_libs/hashtable_class_helper.pxi\u001b[0m in \u001b[0;36mpandas._libs.hashtable.PyObjectHashTable.get_item\u001b[0;34m()\u001b[0m\n",
      "\u001b[0;32mpandas/_libs/hashtable_class_helper.pxi\u001b[0m in \u001b[0;36mpandas._libs.hashtable.PyObjectHashTable.get_item\u001b[0;34m()\u001b[0m\n",
      "\u001b[0;31mKeyError\u001b[0m: 0",
      "\nThe above exception was the direct cause of the following exception:\n",
      "\u001b[0;31mKeyError\u001b[0m                                  Traceback (most recent call last)",
      "\u001b[0;32m<ipython-input-27-19fbe3acf5f6>\u001b[0m in \u001b[0;36m<module>\u001b[0;34m\u001b[0m\n\u001b[1;32m      1\u001b[0m \u001b[0mprint\u001b[0m\u001b[0;34m(\u001b[0m\u001b[0mx_arr\u001b[0m\u001b[0;34m.\u001b[0m\u001b[0mmin\u001b[0m\u001b[0;34m(\u001b[0m\u001b[0;34m)\u001b[0m\u001b[0;34m)\u001b[0m\u001b[0;34m\u001b[0m\u001b[0;34m\u001b[0m\u001b[0m\n\u001b[0;32m----> 2\u001b[0;31m \u001b[0mprint\u001b[0m\u001b[0;34m(\u001b[0m\u001b[0mint\u001b[0m\u001b[0;34m(\u001b[0m\u001b[0maoi_boundary_HARV\u001b[0m\u001b[0;34m.\u001b[0m\u001b[0mbounds\u001b[0m\u001b[0;34m[\u001b[0m\u001b[0;36m0\u001b[0m\u001b[0;34m]\u001b[0m\u001b[0;34m.\u001b[0m\u001b[0mmin\u001b[0m\u001b[0;34m(\u001b[0m\u001b[0;34m)\u001b[0m\u001b[0;34m)\u001b[0m\u001b[0;34m)\u001b[0m\u001b[0;34m\u001b[0m\u001b[0;34m\u001b[0m\u001b[0m\n\u001b[0m\u001b[1;32m      3\u001b[0m \u001b[0mprint\u001b[0m\u001b[0;34m(\u001b[0m\u001b[0mx_arr\u001b[0m\u001b[0;34m.\u001b[0m\u001b[0mmax\u001b[0m\u001b[0;34m(\u001b[0m\u001b[0;34m)\u001b[0m\u001b[0;34m)\u001b[0m\u001b[0;34m\u001b[0m\u001b[0;34m\u001b[0m\u001b[0m\n\u001b[1;32m      4\u001b[0m \u001b[0;34m\u001b[0m\u001b[0m\n\u001b[1;32m      5\u001b[0m \u001b[0mprint\u001b[0m\u001b[0;34m(\u001b[0m\u001b[0my_arr\u001b[0m\u001b[0;34m.\u001b[0m\u001b[0mmin\u001b[0m\u001b[0;34m(\u001b[0m\u001b[0;34m)\u001b[0m\u001b[0;34m)\u001b[0m\u001b[0;34m\u001b[0m\u001b[0;34m\u001b[0m\u001b[0m\n",
      "\u001b[0;32m~/anaconda3/envs/py39/lib/python3.9/site-packages/pandas/core/frame.py\u001b[0m in \u001b[0;36m__getitem__\u001b[0;34m(self, key)\u001b[0m\n\u001b[1;32m   3022\u001b[0m             \u001b[0;32mif\u001b[0m \u001b[0mself\u001b[0m\u001b[0;34m.\u001b[0m\u001b[0mcolumns\u001b[0m\u001b[0;34m.\u001b[0m\u001b[0mnlevels\u001b[0m \u001b[0;34m>\u001b[0m \u001b[0;36m1\u001b[0m\u001b[0;34m:\u001b[0m\u001b[0;34m\u001b[0m\u001b[0;34m\u001b[0m\u001b[0m\n\u001b[1;32m   3023\u001b[0m                 \u001b[0;32mreturn\u001b[0m \u001b[0mself\u001b[0m\u001b[0;34m.\u001b[0m\u001b[0m_getitem_multilevel\u001b[0m\u001b[0;34m(\u001b[0m\u001b[0mkey\u001b[0m\u001b[0;34m)\u001b[0m\u001b[0;34m\u001b[0m\u001b[0;34m\u001b[0m\u001b[0m\n\u001b[0;32m-> 3024\u001b[0;31m             \u001b[0mindexer\u001b[0m \u001b[0;34m=\u001b[0m \u001b[0mself\u001b[0m\u001b[0;34m.\u001b[0m\u001b[0mcolumns\u001b[0m\u001b[0;34m.\u001b[0m\u001b[0mget_loc\u001b[0m\u001b[0;34m(\u001b[0m\u001b[0mkey\u001b[0m\u001b[0;34m)\u001b[0m\u001b[0;34m\u001b[0m\u001b[0;34m\u001b[0m\u001b[0m\n\u001b[0m\u001b[1;32m   3025\u001b[0m             \u001b[0;32mif\u001b[0m \u001b[0mis_integer\u001b[0m\u001b[0;34m(\u001b[0m\u001b[0mindexer\u001b[0m\u001b[0;34m)\u001b[0m\u001b[0;34m:\u001b[0m\u001b[0;34m\u001b[0m\u001b[0;34m\u001b[0m\u001b[0m\n\u001b[1;32m   3026\u001b[0m                 \u001b[0mindexer\u001b[0m \u001b[0;34m=\u001b[0m \u001b[0;34m[\u001b[0m\u001b[0mindexer\u001b[0m\u001b[0;34m]\u001b[0m\u001b[0;34m\u001b[0m\u001b[0;34m\u001b[0m\u001b[0m\n",
      "\u001b[0;32m~/anaconda3/envs/py39/lib/python3.9/site-packages/pandas/core/indexes/base.py\u001b[0m in \u001b[0;36mget_loc\u001b[0;34m(self, key, method, tolerance)\u001b[0m\n\u001b[1;32m   3080\u001b[0m                 \u001b[0;32mreturn\u001b[0m \u001b[0mself\u001b[0m\u001b[0;34m.\u001b[0m\u001b[0m_engine\u001b[0m\u001b[0;34m.\u001b[0m\u001b[0mget_loc\u001b[0m\u001b[0;34m(\u001b[0m\u001b[0mcasted_key\u001b[0m\u001b[0;34m)\u001b[0m\u001b[0;34m\u001b[0m\u001b[0;34m\u001b[0m\u001b[0m\n\u001b[1;32m   3081\u001b[0m             \u001b[0;32mexcept\u001b[0m \u001b[0mKeyError\u001b[0m \u001b[0;32mas\u001b[0m \u001b[0merr\u001b[0m\u001b[0;34m:\u001b[0m\u001b[0;34m\u001b[0m\u001b[0;34m\u001b[0m\u001b[0m\n\u001b[0;32m-> 3082\u001b[0;31m                 \u001b[0;32mraise\u001b[0m \u001b[0mKeyError\u001b[0m\u001b[0;34m(\u001b[0m\u001b[0mkey\u001b[0m\u001b[0;34m)\u001b[0m \u001b[0;32mfrom\u001b[0m \u001b[0merr\u001b[0m\u001b[0;34m\u001b[0m\u001b[0;34m\u001b[0m\u001b[0m\n\u001b[0m\u001b[1;32m   3083\u001b[0m \u001b[0;34m\u001b[0m\u001b[0m\n\u001b[1;32m   3084\u001b[0m         \u001b[0;32mif\u001b[0m \u001b[0mtolerance\u001b[0m \u001b[0;32mis\u001b[0m \u001b[0;32mnot\u001b[0m \u001b[0;32mNone\u001b[0m\u001b[0;34m:\u001b[0m\u001b[0;34m\u001b[0m\u001b[0;34m\u001b[0m\u001b[0m\n",
      "\u001b[0;31mKeyError\u001b[0m: 0"
     ]
    }
   ],
   "source": [
    "print(x_arr.min())\n",
    "print(int(aoi_boundary_HARV.bounds[0].min()))\n",
    "print(x_arr.max())\n",
    "\n",
    "print(y_arr.min())\n",
    "\n",
    "print(y_arr.max())\n",
    "\n",
    "yAbsB = y_"
   ]
  },
  {
   "cell_type": "code",
   "execution_count": 16,
   "id": "85716e03",
   "metadata": {},
   "outputs": [
    {
     "ename": "SyntaxError",
     "evalue": "invalid syntax (<ipython-input-16-3fdb4bf1e4ef>, line 5)",
     "output_type": "error",
     "traceback": [
      "\u001b[0;36m  File \u001b[0;32m\"<ipython-input-16-3fdb4bf1e4ef>\"\u001b[0;36m, line \u001b[0;32m5\u001b[0m\n\u001b[0;31m    yBottom =  int(aoi_boundary_HARV.bounds[1]) - int(y_arr.min)\u001b[0m\n\u001b[0m    ^\u001b[0m\n\u001b[0;31mSyntaxError\u001b[0m\u001b[0;31m:\u001b[0m invalid syntax\n"
     ]
    }
   ],
   "source": [
    "# get the max and min coordinates from the polygon for \n",
    "# in order to calculate the relative coordinates for the box\n",
    "\n",
    "xLeft = int(x_arr.min()- int(aoi_boundary_HARV.bounds[0])\n",
    "yBottom =  int(aoi_boundary_HARV.bounds[1]) - int(y_arr.min)\n",
    "xRight = int(x_arr.max() - int(aoi_boundary_HARV.bounds[2])\n",
    "yTop = int(y_arr.max() - int(aoi_boundary_HARV.bounds[3])\n",
    "print(xLeft, yBottom, xRight, yTop)"
   ]
  },
  {
   "cell_type": "code",
   "execution_count": null,
   "id": "b76e67b8",
   "metadata": {},
   "outputs": [],
   "source": []
  },
  {
   "cell_type": "code",
   "execution_count": null,
   "id": "7e71fe55",
   "metadata": {},
   "outputs": [],
   "source": []
  },
  {
   "cell_type": "code",
   "execution_count": 60,
   "id": "04c176f7",
   "metadata": {},
   "outputs": [
    {
     "name": "stdout",
     "output_type": "stream",
     "text": [
      "The CRS for this data is: EPSG:31370\n",
      "The spatial extent is: (130000.0, 198000.0, 162000.0, 218000.0)\n"
     ]
    }
   ],
   "source": [
    "# View the Coordinate Reference System (CRS) & spatial extent\n",
    "print(\"The CRS for this data is:\", dsm_pre_arr.rio.crs)\n",
    "print(\"The spatial extent is:\", dsm_pre_arr.rio.bounds())\n"
   ]
  },
  {
   "cell_type": "code",
   "execution_count": null,
   "id": "0916c92b",
   "metadata": {},
   "outputs": [],
   "source": [
    "print(\"The no data value is:\", dsm_pre_arr.rio.nodata)"
   ]
  },
  {
   "cell_type": "code",
   "execution_count": null,
   "id": "bf31836a",
   "metadata": {},
   "outputs": [],
   "source": []
  },
  {
   "cell_type": "code",
   "execution_count": null,
   "id": "09fa56d5",
   "metadata": {},
   "outputs": [],
   "source": []
  },
  {
   "cell_type": "code",
   "execution_count": null,
   "id": "52287916",
   "metadata": {},
   "outputs": [],
   "source": []
  },
  {
   "cell_type": "code",
   "execution_count": null,
   "id": "01f98389",
   "metadata": {},
   "outputs": [],
   "source": []
  },
  {
   "cell_type": "code",
   "execution_count": 7,
   "id": "78da6cfe",
   "metadata": {},
   "outputs": [
    {
     "name": "stdout",
     "output_type": "stream",
     "text": [
      "{'type': 'Polygon', 'coordinates': [[[4.082181, 51.271534], [4.08328, 51.091765], [4.540042, 51.091983], [4.540706, 51.271753], [4.082181, 51.271534]]]}\n"
     ]
    }
   ],
   "source": [
    "import rasterio\n",
    "import rasterio.features\n",
    "import rasterio.warp\n",
    "\n",
    "with rasterio.open(\"data/DHMVIIDSMRAS1m_k15/GeoTIFF/DHMVIIDSMRAS1m_k15.tif\") as dataset:\n",
    "\n",
    "    # Read the dataset's valid data mask as a ndarray.\n",
    "    mask = dataset.dataset_mask()\n",
    "\n",
    "    # Extract feature shapes and values from the array.\n",
    "    for geom, val in rasterio.features.shapes(\n",
    "            mask, transform=dataset.transform):\n",
    "\n",
    "        # Transform shapes from the dataset's own coordinate\n",
    "        # reference system to CRS84 (EPSG:4326).\n",
    "        geom = rasterio.warp.transform_geom(\n",
    "            dataset.crs, 'EPSG:4326', geom, precision=6)\n",
    "\n",
    "        # Print GeoJSON shapes to stdout.\n",
    "        print(geom)"
   ]
  },
  {
   "cell_type": "code",
   "execution_count": 6,
   "id": "81ca2d4b",
   "metadata": {},
   "outputs": [
    {
     "name": "stdout",
     "output_type": "stream",
     "text": [
      "{'type': 'Polygon', 'coordinates': [[[4.082181, 51.271534], [4.08328, 51.091765], [4.540042, 51.091983], [4.540706, 51.271753], [4.082181, 51.271534]]]}\n"
     ]
    }
   ],
   "source": [
    "import rasterio\n",
    "import rasterio.features\n",
    "import rasterio.warp\n",
    "\n",
    "with rasterio.open(\"data/DHMVIIDTMRAS1m_k15/GeoTIFF/DHMVIIDTMRAS1m_k15.tif\") as dataset:\n",
    "\n",
    "    # Read the dataset's valid data mask as a ndd\n",
    "            dataset.crs, 'EPSG:4326', geom, precision=6)\n",
    "\n",
    "        # Print GeoJSON shapes to stdout.\n",
    "        print(geom)"
   ]
  },
  {
   "cell_type": "code",
   "execution_count": 1,
   "id": "bfb1c862",
   "metadata": {},
   "outputs": [
    {
     "data": {
      "image/png": "[encoded data removed]",
      "text/plain": [
       "<Figure size 432x288 with 1 Axes>"
      ]
     },
     "metadata": {
      "needs_background": "light"
     },
     "output_type": "display_data"
    }
   ],
   "source": [
    "import rasterio\n",
    "from matplotlib import pyplot\n",
    "src = rasterio.open(\"data/DHMVIIDTMRAS1m_k15/GeoTIFF/DHMVIIDTMRAS1m_k15.tif\")\n",
    "pyplot.imshow(src.read(1), cmap='pink')\n",
    "#<matplotlib.image.AxesImage object at 0x...>\n",
    "pyplot.show()"
   ]
  },
  {
   "cell_type": "code",
   "execution_count": null,
   "id": "ecf6beaa",
   "metadata": {},
   "outputs": [],
   "source": []
  },
  {
   "cell_type": "code",
   "execution_count": null,
   "id": "5a42560a",
   "metadata": {},
   "outputs": [],
   "source": []
  },
  {
   "cell_type": "code",
   "execution_count": null,
   "id": "822bdbc7",
   "metadata": {},
   "outputs": [],
   "source": []
  },
  {
   "cell_type": "code",
   "execution_count": null,
   "id": "00580c20",
   "metadata": {},
   "outputs": [],
   "source": []
  },
  {
   "cell_type": "code",
   "execution_count": null,
   "id": "25888483",
   "metadata": {},
   "outputs": [],
   "source": []
  },
  {
   "cell_type": "code",
   "execution_count": null,
   "id": "d8d3fb9c",
   "metadata": {},
   "outputs": [],
   "source": []
  },
  {
   "cell_type": "code",
   "execution_count": null,
   "id": "34ed21f9",
   "metadata": {},
   "outputs": [],
   "source": []
  },
  {
   "cell_type": "code",
   "execution_count": 22,
   "id": "bfe3352b",
   "metadata": {},
   "outputs": [
    {
     "data": {
      "text/plain": [
       "' position a slice on the map to reduce data '"
      ]
     },
     "execution_count": 22,
     "metadata": {},
     "output_type": "execute_result"
    }
   ],
   "source": [
    "\"\"\" position a slice on the map to reduce data \"\"\""
   ]
  },
  {
   "cell_type": "code",
   "execution_count": null,
   "id": "6358e295",
   "metadata": {},
   "outputs": [],
   "source": [
    "\n"
   ]
  },
  {
   "cell_type": "code",
   "execution_count": null,
   "id": "68134696",
   "metadata": {},
   "outputs": [],
   "source": [
    "\"\"\" make a function to search the right file \"\"\""
   ]
  },
  {
   "cell_type": "code",
   "execution_count": null,
   "id": "e1e929b6",
   "metadata": {},
   "outputs": [],
   "source": []
  },
  {
   "cell_type": "code",
   "execution_count": null,
   "id": "ac6f665f",
   "metadata": {},
   "outputs": [],
   "source": []
  }
 ],
 "metadata": {
  "kernelspec": {
   "display_name": "py39",
   "language": "python",
   "name": "py39"
  },
  "language_info": {
   "codemirror_mode": {
    "name": "ipython",
    "version": 3
   },
   "file_extension": ".py",
   "mimetype": "text/x-python",
   "name": "python",
   "nbconvert_exporter": "python",
   "pygments_lexer": "ipython3",
   "version": "3.9.4"
  }
 },
 "nbformat": 4,
 "nbformat_minor": 5
}
