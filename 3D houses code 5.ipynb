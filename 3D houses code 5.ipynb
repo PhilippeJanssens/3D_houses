{
 "cells": [
  {
   "cell_type": "code",
   "execution_count": null,
   "id": "b2db3b70",
   "metadata": {},
   "outputs": [],
   "source": [
    "\"\"\" After looking and searching too long\n",
    "Now it is time to finally get a nice plot \"\"\""
   ]
  },
  {
   "cell_type": "code",
   "execution_count": null,
   "id": "65f84f1f",
   "metadata": {},
   "outputs": [],
   "source": [
    "\"\"\" first get the correct data (x, y, z) \"\"\""
   ]
  },
  {
   "cell_type": "code",
   "execution_count": 2,
   "id": "93f3580e",
   "metadata": {},
   "outputs": [],
   "source": [
    "import requests\n",
    "import json\n",
    "import numpy as np\n",
    "import pandas as pd\n",
    "\n",
    "from io import BytesIO\n",
    "from urllib.request import urlopen\n",
    "from zipfile import ZipFile\n",
    "\n",
    "import rasterio as rt\n",
    "from rasterio.mask import mask\n",
    "\n",
    "%matplotlib inline\n",
    "import matplotlib.pyplot as plt\n",
    "from shapely.geometry.polygon import Polygon\n",
    "\n",
    "import plotly.graph_objects as go\n",
    "\n",
    "from typing import Dict "
   ]
  },
  {
   "cell_type": "code",
   "execution_count": 3,
   "id": "2c06daaf",
   "metadata": {},
   "outputs": [],
   "source": [
    "address = \"Lange Van Sterbeeckstraat 8, 2060 Antwerpen\""
   ]
  },
  {
   "cell_type": "code",
   "execution_count": 4,
   "id": "c864cc32",
   "metadata": {},
   "outputs": [],
   "source": [
    "def get_address_data_from_geopunt(address: str):\n",
    "    data = requests.get(f\"https://loc.geopunt.be/v4/Location?q={address}\").json()\n",
    "#    print(data,\"\\n\")\n",
    "    info = {'address' : address, \n",
    "                'x_value' : data['LocationResult'][0]['Location']['X_Lambert72'],\n",
    "                'y_value' : data['LocationResult'][0]['Location']['Y_Lambert72'],\n",
    "                'street' : data['LocationResult'][0]['Thoroughfarename'],\n",
    "                'house_number' : data['LocationResult'][0]['Housenumber'], \n",
    "                'postcode': data['LocationResult'][0]['Zipcode'], \n",
    "                'municipality' : data['LocationResult'][0]['Municipality']}\n",
    "    \n",
    "    detail = requests.get(\"https://api.basisregisters.vlaanderen.be/v1/adresmatch\", \n",
    "                          params={\"postcode\": info['postcode'], \n",
    "                                  \"straatnaam\": info['street'],\n",
    "                                  \"huisnummer\": info['house_number']}).json()\n",
    "    building = requests.get(detail['adresMatches'][0]['adresseerbareObjecten'][0]['detail']).json()\n",
    "    build = requests.get(building['gebouw']['detail']).json()\n",
    "    info['polygon'] = [build['geometriePolygoon']['polygon']]\n",
    "#    print(info['polygon'][0]['coordinates'][0])\n",
    "#    print(info['polygon'][1]['coordinates'][1])\n",
    "    \n",
    "    \n",
    "    return info"
   ]
  },
  {
   "cell_type": "code",
   "execution_count": 5,
   "id": "7f47ece1",
   "metadata": {},
   "outputs": [
    {
     "data": {
      "text/plain": [
       "{'address': 'Lange Van Sterbeeckstraat 8, 2060 Antwerpen',\n",
       " 'x_value': 153908.9,\n",
       " 'y_value': 212660.38,\n",
       " 'street': 'Lange Van Sterbeeckstraat',\n",
       " 'house_number': '8',\n",
       " 'postcode': '2060',\n",
       " 'municipality': 'Antwerpen',\n",
       " 'polygon': [{'coordinates': [[[153913.09697395563, 212652.07560559362],\n",
       "     [153909.20398195833, 212669.40699760243],\n",
       "     [153904.5820299536, 212668.39899760485],\n",
       "     [153907.5011979565, 212656.54043759406],\n",
       "     [153908.57345395535, 212652.1845335923],\n",
       "     [153908.816653952, 212651.1965655908],\n",
       "     [153909.12673395127, 212651.2602455914],\n",
       "     [153913.09697395563, 212652.07560559362]]],\n",
       "   'type': 'Polygon'}]}"
      ]
     },
     "execution_count": 5,
     "metadata": {},
     "output_type": "execute_result"
    }
   ],
   "source": [
    "address_info = get_address_data_from_geopunt(address)\n",
    "address_info"
   ]
  },
  {
   "cell_type": "code",
   "execution_count": 17,
   "id": "ae9e03ba",
   "metadata": {},
   "outputs": [],
   "source": [
    "import pandas as pd\n",
    "import rioxarray\n",
    "from mpl_toolkits import mplot3d\n",
    "#from mpl_toolkits import axes3d\n",
    "import numpy as np\n",
    "import rasterio\n",
    "from rasterio.plot import show\n",
    "\n",
    "import matplotlib.pyplot as plt\n",
    "%matplotlib inline\n",
    "\n",
    "#dtm_src = 'data/DHMVIIDSMRAS1m_k01/GeoTIFF/DHMVIIDSMRAS1m_k01.tif'\n",
    "\n",
    "#dtm_img = rasterio.open(dtm_src)\n",
    "#dtm_array = dtm_img.read()\n",
    "xds = rioxarray.open_rasterio('data/DHMVIIDSMRAS1m_k01/GeoTIFF/DHMVIIDSMRAS1m_k01.tif', masked=True)\n",
    "\n"
   ]
  },
  {
   "cell_type": "code",
   "execution_count": 18,
   "id": "f361581d",
   "metadata": {},
   "outputs": [
    {
     "data": {
      "text/plain": [
       "<matplotlib.collections.QuadMesh at 0x7f5d64df6af0>"
      ]
     },
     "execution_count": 18,
     "metadata": {},
     "output_type": "execute_result"
    },
    {
     "data": {
      "image/png": "[encoded data removed]",
      "text/plain": [
       "<Figure size 432x288 with 2 Axes>"
      ]
     },
     "metadata": {
      "needs_background": "light"
     },
     "output_type": "display_data"
    }
   ],
   "source": [
    "xds.plot()"
   ]
  },
  {
   "cell_type": "code",
   "execution_count": null,
   "id": "34ed21f9",
   "metadata": {},
   "outputs": [],
   "source": []
  },
  {
   "cell_type": "code",
   "execution_count": 6,
   "id": "ff715172",
   "metadata": {},
   "outputs": [
    {
     "data": {
      "text/plain": [
       "list"
      ]
     },
     "execution_count": 6,
     "metadata": {},
     "output_type": "execute_result"
    }
   ],
   "source": [
    "poly = address_info[\"polygon\"]\n",
    "type(poly)\n"
   ]
  },
  {
   "cell_type": "code",
   "execution_count": 7,
   "id": "9b77446e",
   "metadata": {},
   "outputs": [
    {
     "name": "stdout",
     "output_type": "stream",
     "text": [
      "x:  [153913.09697396 153909.20398196 153904.58202995 153907.50119796\n",
      " 153908.57345396 153908.81665395 153909.12673395 153913.09697396]\n",
      "y:  [212652.07560559 212669.4069976  212668.3989976  212656.54043759\n",
      " 212652.18453359 212651.19656559 212651.26024559 212652.07560559]\n"
     ]
    }
   ],
   "source": [
    "x_arr = []\n",
    "y_arr = []\n",
    "\n",
    "pv = poly[0]['coordinates']\n",
    " #print(pv)\n",
    "for i in range(len(pv)):\n",
    "    #print(pv[i])\n",
    "    lst = pv[i]\n",
    "for j in range(len(lst)):\n",
    "    #print(lst[j])\n",
    "    x_arr.append(lst[j][0])\n",
    "    y_arr.append(lst[j][1])\n",
    "x_arr = np.array(x_arr)\n",
    "y_arr = np.array(y_arr)\n",
    "print(\"x: \", x_arr)\n",
    "print(\"y: \", y_arr)  \n"
   ]
  },
  {
   "cell_type": "code",
   "execution_count": 21,
   "id": "82c5eff7",
   "metadata": {},
   "outputs": [],
   "source": [
    "\"\"\" create the plot \"\"\"\n",
    "\n",
    "# get the min and maxes of address polygon's x and y\n",
    "x_min = x_arr.min()\n",
    "x_max = x_arr.max()\n",
    "y_min = y_arr.min()\n",
    "y_max = y_arr.max()"
   ]
  },
  {
   "cell_type": "code",
   "execution_count": 19,
   "id": "0ea61b23",
   "metadata": {},
   "outputs": [
    {
     "name": "stdout",
     "output_type": "stream",
     "text": [
      "[ 0.  1.  2.  3.  4.  5.  6.  7.  8.  9. 10. 11. 12. 13. 14. 15. 16. 17.\n",
      " 18.]\n",
      "50\n",
      "[ 0  1  2  3  4  5  6  7  8  9 10 11 12 13 14 15 16 17 18 19 20 21 22 23\n",
      " 24 25 26 27 28 29 30 31 32 33 34 35 36 37 38 39 40 41 42 43 44 45 46 47\n",
      " 48 49]\n"
     ]
    },
    {
     "data": {
      "image/png": "[encoded data removed]",
      "text/plain": [
       "<Figure size 432x288 with 1 Axes>"
      ]
     },
     "metadata": {
      "needs_background": "light"
     },
     "output_type": "display_data"
    }
   ],
   "source": [
    "\"\"\" create the raster \"\"\"\n",
    "# bounderies of the square sides holding the poligon\n",
    "x_len = np.arange(0, x_max - x_min)\n",
    "y_len = np.arange(0, y_max - y_min)\n",
    "print(y_len)\n",
    "# bounderies of the enlarged square for later cropping of the .tif map\n",
    "#xl_len = np.arange(x_min - 10, x_max + 10)\n",
    "xl_len = np.arange(50)\n",
    "print(len(xl_len))\n",
    "#yl_len = np.arange(y_min - 10, y_max + 10)\n",
    "yl_len = np.arange(50)\n",
    "print(yl_len)\n",
    "X = xl_len\n",
    "Y = yl_len\n",
    "\n",
    "# create 2D plot\n",
    "np.meshgrid(X, Y)\n",
    "\n",
    "plt.plot(X, Y)\n",
    "plt.show()\n"
   ]
  },
  {
   "cell_type": "code",
   "execution_count": null,
   "id": "79f44447",
   "metadata": {},
   "outputs": [
    {
     "data": {
      "text/plain": [
       "<matplotlib.collections.QuadMesh at 0x7f199989ad60>"
      ]
     },
     "execution_count": 4,
     "metadata": {},
     "output_type": "execute_result"
    }
   ],
   "source": [
    "import rioxarray\n",
    "%matplotlib inline\n",
    "xds = rioxarray.open_rasterio(\"data/DHMVIIDSMRAS1m_k01/GeoTIFF/DHMVIIDSMRAS1m_k01.tif\", masked=True,)\n",
    "xds.plot()\n"
   ]
  },
  {
   "cell_type": "code",
   "execution_count": 2,
   "id": "177278a2",
   "metadata": {},
   "outputs": [
    {
     "ename": "NoDataInBounds",
     "evalue": "No data found in bounds.",
     "output_type": "error",
     "traceback": [
      "\u001b[0;31m---------------------------------------------------------------------------\u001b[0m",
      "\u001b[0;31mNoDataInBounds\u001b[0m                            Traceback (most recent call last)",
      "\u001b[0;32m<ipython-input-2-cf19d44577fb>\u001b[0m in \u001b[0;36m<module>\u001b[0;34m\u001b[0m\n\u001b[1;32m     13\u001b[0m     }\n\u001b[1;32m     14\u001b[0m ]\n\u001b[0;32m---> 15\u001b[0;31m \u001b[0mclipped\u001b[0m \u001b[0;34m=\u001b[0m \u001b[0mxds\u001b[0m\u001b[0;34m.\u001b[0m\u001b[0mrio\u001b[0m\u001b[0;34m.\u001b[0m\u001b[0mclip\u001b[0m\u001b[0;34m(\u001b[0m\u001b[0mgeometries\u001b[0m\u001b[0;34m)\u001b[0m\u001b[0;34m\u001b[0m\u001b[0;34m\u001b[0m\u001b[0m\n\u001b[0m",
      "\u001b[0;32m~/anaconda3/envs/py39/lib/python3.9/site-packages/rioxarray/raster_array.py\u001b[0m in \u001b[0;36mclip\u001b[0;34m(self, geometries, crs, all_touched, drop, invert, from_disk)\u001b[0m\n\u001b[1;32m    785\u001b[0m             \u001b[0;32mor\u001b[0m \u001b[0mcropped_ds\u001b[0m\u001b[0;34m.\u001b[0m\u001b[0mcoords\u001b[0m\u001b[0;34m[\u001b[0m\u001b[0mself\u001b[0m\u001b[0;34m.\u001b[0m\u001b[0my_dim\u001b[0m\u001b[0;34m]\u001b[0m\u001b[0;34m.\u001b[0m\u001b[0msize\u001b[0m \u001b[0;34m<\u001b[0m \u001b[0;36m1\u001b[0m\u001b[0;34m\u001b[0m\u001b[0;34m\u001b[0m\u001b[0m\n\u001b[1;32m    786\u001b[0m         ):\n\u001b[0;32m--> 787\u001b[0;31m             raise NoDataInBounds(\n\u001b[0m\u001b[1;32m    788\u001b[0m                 \u001b[0;34mf\"No data found in bounds.{_get_data_var_message(self._obj)}\"\u001b[0m\u001b[0;34m\u001b[0m\u001b[0;34m\u001b[0m\u001b[0m\n\u001b[1;32m    789\u001b[0m             )\n",
      "\u001b[0;31mNoDataInBounds\u001b[0m: No data found in bounds."
     ]
    }
   ],
   "source": [
    "geometries = [\n",
    "    {'type': 'Polygon',\n",
    "    'coordinates': [[\n",
    "     [153913.09697395563, 212652.07560559362],\n",
    "     [153909.20398195833, 212669.40699760243],\n",
    "     [153904.5820299536, 212668.39899760485],\n",
    "     [153907.5011979565, 212656.54043759406],\n",
    "     [153908.57345395535, 212652.1845335923],\n",
    "     [153908.816653952, 212651.1965655908],\n",
    "     [153909.12673395127, 212651.2602455914],\n",
    "     [153913.09697395563, 212652.07560559362]\n",
    "    ]]\n",
    "    }\n",
    "]\n",
    "clipped = xds.rio.clip(geometries)"
   ]
  },
  {
   "cell_type": "code",
   "execution_count": 3,
   "id": "0a623e1d",
   "metadata": {},
   "outputs": [
    {
     "ename": "NameError",
     "evalue": "name 'clipped' is not defined",
     "output_type": "error",
     "traceback": [
      "\u001b[0;31m---------------------------------------------------------------------------\u001b[0m",
      "\u001b[0;31mNameError\u001b[0m                                 Traceback (most recent call last)",
      "\u001b[0;32m<ipython-input-3-99e396028156>\u001b[0m in \u001b[0;36m<module>\u001b[0;34m\u001b[0m\n\u001b[0;32m----> 1\u001b[0;31m \u001b[0mclipped\u001b[0m\u001b[0;34m.\u001b[0m\u001b[0mplot\u001b[0m\u001b[0;34m(\u001b[0m\u001b[0;34m)\u001b[0m\u001b[0;34m\u001b[0m\u001b[0;34m\u001b[0m\u001b[0m\n\u001b[0m",
      "\u001b[0;31mNameError\u001b[0m: name 'clipped' is not defined"
     ]
    }
   ],
   "source": [
    "clipped.plot()"
   ]
  },
  {
   "cell_type": "code",
   "execution_count": 27,
   "id": "fb17a138",
   "metadata": {},
   "outputs": [
    {
     "data": {
      "text/plain": [
       "[array([[153894.58202995, 153895.58202995, 153896.58202995, ...,\n",
       "         153920.58202995, 153921.58202995, 153922.58202995],\n",
       "        [153894.58202995, 153895.58202995, 153896.58202995, ...,\n",
       "         153920.58202995, 153921.58202995, 153922.58202995],\n",
       "        [153894.58202995, 153895.58202995, 153896.58202995, ...,\n",
       "         153920.58202995, 153921.58202995, 153922.58202995],\n",
       "        ...,\n",
       "        [153894.58202995, 153895.58202995, 153896.58202995, ...,\n",
       "         153920.58202995, 153921.58202995, 153922.58202995],\n",
       "        [153894.58202995, 153895.58202995, 153896.58202995, ...,\n",
       "         153920.58202995, 153921.58202995, 153922.58202995],\n",
       "        [153894.58202995, 153895.58202995, 153896.58202995, ...,\n",
       "         153920.58202995, 153921.58202995, 153922.58202995]]),\n",
       " array([[212641.19656559, 212641.19656559, 212641.19656559, ...,\n",
       "         212641.19656559, 212641.19656559, 212641.19656559],\n",
       "        [212642.19656559, 212642.19656559, 212642.19656559, ...,\n",
       "         212642.19656559, 212642.19656559, 212642.19656559],\n",
       "        [212643.19656559, 212643.19656559, 212643.19656559, ...,\n",
       "         212643.19656559, 212643.19656559, 212643.19656559],\n",
       "        ...,\n",
       "        [212677.19656559, 212677.19656559, 212677.19656559, ...,\n",
       "         212677.19656559, 212677.19656559, 212677.19656559],\n",
       "        [212678.19656559, 212678.19656559, 212678.19656559, ...,\n",
       "         212678.19656559, 212678.19656559, 212678.19656559],\n",
       "        [212679.19656559, 212679.19656559, 212679.19656559, ...,\n",
       "         212679.19656559, 212679.19656559, 212679.19656559]])]"
      ]
     },
     "execution_count": 27,
     "metadata": {},
     "output_type": "execute_result"
    }
   ],
   "source": [
    "# get the right canopy data\n",
    "\n",
    "#zarray = \n",
    "\n",
    "\n",
    "\n",
    "np.meshgrid(X, Y)\n",
    "\n",
    "#plt.plot_surface(X, Y, array)"
   ]
  },
  {
   "cell_type": "code",
   "execution_count": 22,
   "id": "bfe3352b",
   "metadata": {},
   "outputs": [
    {
     "data": {
      "text/plain": [
       "' position a slice on the map to reduce data '"
      ]
     },
     "execution_count": 22,
     "metadata": {},
     "output_type": "execute_result"
    }
   ],
   "source": [
    "\"\"\" position a slice on the map to reduce data \"\"\""
   ]
  },
  {
   "cell_type": "code",
   "execution_count": null,
   "id": "6358e295",
   "metadata": {},
   "outputs": [],
   "source": [
    "\n"
   ]
  },
  {
   "cell_type": "code",
   "execution_count": null,
   "id": "68134696",
   "metadata": {},
   "outputs": [],
   "source": [
    "\"\"\" make a function to search the right file \"\"\""
   ]
  },
  {
   "cell_type": "code",
   "execution_count": null,
   "id": "e1e929b6",
   "metadata": {},
   "outputs": [],
   "source": []
  },
  {
   "cell_type": "code",
   "execution_count": null,
   "id": "ac6f665f",
   "metadata": {},
   "outputs": [],
   "source": []
  }
 ],
 "metadata": {
  "kernelspec": {
   "display_name": "py39",
   "language": "python",
   "name": "py39"
  },
  "language_info": {
   "codemirror_mode": {
    "name": "ipython",
    "version": 3
   },
   "file_extension": ".py",
   "mimetype": "text/x-python",
   "name": "python",
   "nbconvert_exporter": "python",
   "pygments_lexer": "ipython3",
   "version": "3.9.4"
  }
 },
 "nbformat": 4,
 "nbformat_minor": 5
}
