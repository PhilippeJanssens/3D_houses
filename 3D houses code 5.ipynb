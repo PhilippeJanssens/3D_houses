{
 "cells": [
  {
   "cell_type": "code",
   "execution_count": null,
   "id": "b2db3b70",
   "metadata": {},
   "outputs": [],
   "source": [
    "\"\"\" After looking and searching too long\n",
    "Now it is time to finally get a nice plot \"\"\""
   ]
  },
  {
   "cell_type": "code",
   "execution_count": null,
   "id": "65f84f1f",
   "metadata": {},
   "outputs": [],
   "source": [
    "\"\"\" first get the correct data (x, y, z) \"\"\""
   ]
  },
  {
   "cell_type": "code",
   "execution_count": 3,
   "id": "93f3580e",
   "metadata": {},
   "outputs": [
    {
     "ename": "NameError",
     "evalue": "name 'sns' is not defined",
     "output_type": "error",
     "traceback": [
      "\u001b[0;31m---------------------------------------------------------------------------\u001b[0m",
      "\u001b[0;31mNameError\u001b[0m                                 Traceback (most recent call last)",
      "\u001b[0;32m<ipython-input-3-12c06ff49e33>\u001b[0m in \u001b[0;36m<module>\u001b[0;34m\u001b[0m\n\u001b[1;32m      2\u001b[0m \u001b[0;34m\u001b[0m\u001b[0m\n\u001b[1;32m      3\u001b[0m \u001b[0;31m# Prettier plotting with seaborn\u001b[0m\u001b[0;34m\u001b[0m\u001b[0;34m\u001b[0m\u001b[0;34m\u001b[0m\u001b[0m\n\u001b[0;32m----> 4\u001b[0;31m \u001b[0msns\u001b[0m\u001b[0;34m.\u001b[0m\u001b[0mset\u001b[0m\u001b[0;34m(\u001b[0m\u001b[0mfont_scale\u001b[0m\u001b[0;34m=\u001b[0m\u001b[0;36m1.5\u001b[0m\u001b[0;34m,\u001b[0m \u001b[0mstyle\u001b[0m\u001b[0;34m=\u001b[0m\u001b[0;34m\"white\"\u001b[0m\u001b[0;34m)\u001b[0m\u001b[0;34m\u001b[0m\u001b[0;34m\u001b[0m\u001b[0m\n\u001b[0m",
      "\u001b[0;31mNameError\u001b[0m: name 'sns' is not defined"
     ]
    }
   ],
   "source": [
    "import rioxarray\n",
    "\n",
    "# Prettier plotting with seaborn\n",
    "sns.set(font_scale=1.5, style=\"white\")"
   ]
  },
  {
   "cell_type": "code",
   "execution_count": null,
   "id": "2c06daaf",
   "metadata": {},
   "outputs": [],
   "source": [
    "address = \"antwerpsestraat 165 2640 mortsel\""
   ]
  },
  {
   "cell_type": "code",
   "execution_count": 4,
   "id": "c864cc32",
   "metadata": {},
   "outputs": [
    {
     "ename": "NameError",
     "evalue": "name 'Dict' is not defined",
     "output_type": "error",
     "traceback": [
      "\u001b[0;31m---------------------------------------------------------------------------\u001b[0m",
      "\u001b[0;31mNameError\u001b[0m                                 Traceback (most recent call last)",
      "\u001b[0;32m<ipython-input-4-0d9dc7a60188>\u001b[0m in \u001b[0;36m<module>\u001b[0;34m\u001b[0m\n\u001b[0;32m----> 1\u001b[0;31m \u001b[0;32mdef\u001b[0m \u001b[0mget_address_data_from_geopunt\u001b[0m\u001b[0;34m(\u001b[0m\u001b[0maddress\u001b[0m\u001b[0;34m:\u001b[0m \u001b[0mstr\u001b[0m\u001b[0;34m)\u001b[0m \u001b[0;34m->\u001b[0m \u001b[0mDict\u001b[0m\u001b[0;34m[\u001b[0m\u001b[0mstr\u001b[0m\u001b[0;34m,\u001b[0m \u001b[0mstr\u001b[0m\u001b[0;34m]\u001b[0m\u001b[0;34m:\u001b[0m\u001b[0;34m\u001b[0m\u001b[0;34m\u001b[0m\u001b[0m\n\u001b[0m\u001b[1;32m      2\u001b[0m     \u001b[0mdata\u001b[0m \u001b[0;34m=\u001b[0m \u001b[0mrequests\u001b[0m\u001b[0;34m.\u001b[0m\u001b[0mget\u001b[0m\u001b[0;34m(\u001b[0m\u001b[0;34mf\"https://loc.geopunt.be/v4/Location?q={address}\"\u001b[0m\u001b[0;34m)\u001b[0m\u001b[0;34m.\u001b[0m\u001b[0mjson\u001b[0m\u001b[0;34m(\u001b[0m\u001b[0;34m)\u001b[0m\u001b[0;34m\u001b[0m\u001b[0;34m\u001b[0m\u001b[0m\n\u001b[1;32m      3\u001b[0m \u001b[0;31m#    print(data,\"\\n\")\u001b[0m\u001b[0;34m\u001b[0m\u001b[0;34m\u001b[0m\u001b[0;34m\u001b[0m\u001b[0m\n\u001b[1;32m      4\u001b[0m     info = {'address' : address, \n\u001b[1;32m      5\u001b[0m                 \u001b[0;34m'x_value'\u001b[0m \u001b[0;34m:\u001b[0m \u001b[0mdata\u001b[0m\u001b[0;34m[\u001b[0m\u001b[0;34m'LocationResult'\u001b[0m\u001b[0;34m]\u001b[0m\u001b[0;34m[\u001b[0m\u001b[0;36m0\u001b[0m\u001b[0;34m]\u001b[0m\u001b[0;34m[\u001b[0m\u001b[0;34m'Location'\u001b[0m\u001b[0;34m]\u001b[0m\u001b[0;34m[\u001b[0m\u001b[0;34m'X_Lambert72'\u001b[0m\u001b[0;34m]\u001b[0m\u001b[0;34m,\u001b[0m\u001b[0;34m\u001b[0m\u001b[0;34m\u001b[0m\u001b[0m\n",
      "\u001b[0;31mNameError\u001b[0m: name 'Dict' is not defined"
     ]
    }
   ],
   "source": [
    "def get_address_data_from_geopunt(address: str) -> Dict[str, str]:\n",
    "    data = requests.get(f\"https://loc.geopunt.be/v4/Location?q={address}\").json()\n",
    "#    print(data,\"\\n\")\n",
    "    info = {'address' : address, \n",
    "                'x_value' : data['LocationResult'][0]['Location']['X_Lambert72'],\n",
    "                'y_value' : data['LocationResult'][0]['Location']['Y_Lambert72'],\n",
    "                'street' : data['LocationResult'][0]['Thoroughfarename'],\n",
    "                'house_number' : data['LocationResult'][0]['Housenumber'], \n",
    "                'postcode': data['LocationResult'][0]['Zipcode'], \n",
    "                'municipality' : data['LocationResult'][0]['Municipality']}\n",
    "    \n",
    "    detail = requests.get(\"https://api.basisregisters.vlaanderen.be/v1/adresmatch\", \n",
    "                          params={\"postcode\": info['postcode'], \n",
    "                                  \"straatnaam\": info['street'],\n",
    "                                  \"huisnummer\": info['house_number']}).json()\n",
    "    building = requests.get(detail['adresMatches'][0]['adresseerbareObjecten'][0]['detail']).json()\n",
    "    build = requests.get(building['gebouw']['detail']).json()\n",
    "    info['polygon'] = [build['geometriePolygoon']['polygon']]\n",
    "#    print(info['polygon'][0]['coordinates'][0])\n",
    "#    print(info['polygon'][1]['coordinates'][1])\n",
    "    \n",
    "    \n",
    "    return info"
   ]
  },
  {
   "cell_type": "code",
   "execution_count": 5,
   "id": "7f47ece1",
   "metadata": {},
   "outputs": [
    {
     "ename": "NameError",
     "evalue": "name 'get_address_data_from_geopunt' is not defined",
     "output_type": "error",
     "traceback": [
      "\u001b[0;31m---------------------------------------------------------------------------\u001b[0m",
      "\u001b[0;31mNameError\u001b[0m                                 Traceback (most recent call last)",
      "\u001b[0;32m<ipython-input-5-50297b750a3e>\u001b[0m in \u001b[0;36m<module>\u001b[0;34m\u001b[0m\n\u001b[0;32m----> 1\u001b[0;31m \u001b[0maddress_info\u001b[0m \u001b[0;34m=\u001b[0m \u001b[0mget_address_data_from_geopunt\u001b[0m\u001b[0;34m(\u001b[0m\u001b[0maddress\u001b[0m\u001b[0;34m)\u001b[0m\u001b[0;34m\u001b[0m\u001b[0;34m\u001b[0m\u001b[0m\n\u001b[0m\u001b[1;32m      2\u001b[0m \u001b[0maddress_info\u001b[0m\u001b[0;34m\u001b[0m\u001b[0;34m\u001b[0m\u001b[0m\n",
      "\u001b[0;31mNameError\u001b[0m: name 'get_address_data_from_geopunt' is not defined"
     ]
    }
   ],
   "source": [
    "address_info = get_address_data_from_geopunt(address)\n",
    "address_info"
   ]
  },
  {
   "cell_type": "code",
   "execution_count": 6,
   "id": "19409cd8",
   "metadata": {},
   "outputs": [
    {
     "ename": "NameError",
     "evalue": "name 'address_info' is not defined",
     "output_type": "error",
     "traceback": [
      "\u001b[0;31m---------------------------------------------------------------------------\u001b[0m",
      "\u001b[0;31mNameError\u001b[0m                                 Traceback (most recent call last)",
      "\u001b[0;32m<ipython-input-6-f6f622922d77>\u001b[0m in \u001b[0;36m<module>\u001b[0;34m\u001b[0m\n\u001b[1;32m      1\u001b[0m \u001b[0;31m# get the polygon coordinates in a x and a y list\u001b[0m\u001b[0;34m\u001b[0m\u001b[0;34m\u001b[0m\u001b[0;34m\u001b[0m\u001b[0m\n\u001b[0;32m----> 2\u001b[0;31m \u001b[0mpoly\u001b[0m \u001b[0;34m=\u001b[0m \u001b[0maddress_info\u001b[0m\u001b[0;34m[\u001b[0m\u001b[0;34m\"polygon\"\u001b[0m\u001b[0;34m]\u001b[0m\u001b[0;34m\u001b[0m\u001b[0;34m\u001b[0m\u001b[0m\n\u001b[0m\u001b[1;32m      3\u001b[0m \u001b[0mcoords\u001b[0m \u001b[0;34m=\u001b[0m \u001b[0mpoly\u001b[0m\u001b[0;34m[\u001b[0m\u001b[0;36m0\u001b[0m\u001b[0;34m]\u001b[0m\u001b[0;34m[\u001b[0m\u001b[0;34m\"coordinates\"\u001b[0m\u001b[0;34m]\u001b[0m\u001b[0;34m\u001b[0m\u001b[0;34m\u001b[0m\u001b[0m\n\u001b[1;32m      4\u001b[0m \u001b[0;34m\u001b[0m\u001b[0m\n\u001b[1;32m      5\u001b[0m \u001b[0mx_arr\u001b[0m \u001b[0;34m=\u001b[0m \u001b[0;34m[\u001b[0m\u001b[0;34m]\u001b[0m\u001b[0;34m\u001b[0m\u001b[0;34m\u001b[0m\u001b[0m\n",
      "\u001b[0;31mNameError\u001b[0m: name 'address_info' is not defined"
     ]
    }
   ],
   "source": [
    "\n",
    "# get the polygon coordinates in a x and a y list\n",
    "poly = address_info[\"polygon\"]\n",
    "coords = poly[0][\"coordinates\"]\n",
    "\n",
    "x_arr = []\n",
    "y_arr = []\n",
    "\n",
    "for i in range(len(coords)):\n",
    "    lst = coords[i]\n",
    "\n",
    "for j in range(len(lst)):\n",
    "    x_arr.append(lst[j][0])\n",
    "    y_arr.append(lst[j][1])\n",
    "\n",
    "x_arr = np.array(x_arr)\n",
    "y_arr = np.array(y_arr)\n",
    "\n",
    "print(\"x: \", x_arr)\n",
    "print(\"y: \", y_arr)  "
   ]
  },
  {
   "cell_type": "code",
   "execution_count": 7,
   "id": "e5494f6d",
   "metadata": {},
   "outputs": [
    {
     "ename": "NameError",
     "evalue": "name 'x_arr' is not defined",
     "output_type": "error",
     "traceback": [
      "\u001b[0;31m---------------------------------------------------------------------------\u001b[0m",
      "\u001b[0;31mNameError\u001b[0m                                 Traceback (most recent call last)",
      "\u001b[0;32m<ipython-input-7-646f74e72a45>\u001b[0m in \u001b[0;36m<module>\u001b[0;34m\u001b[0m\n\u001b[1;32m      1\u001b[0m \u001b[0;31m# get the max and min coordinates from the polygon for\u001b[0m\u001b[0;34m\u001b[0m\u001b[0;34m\u001b[0m\u001b[0;34m\u001b[0m\u001b[0m\n\u001b[1;32m      2\u001b[0m \u001b[0;31m# in order to calculate the relative coordinates for the box\u001b[0m\u001b[0;34m\u001b[0m\u001b[0;34m\u001b[0m\u001b[0;34m\u001b[0m\u001b[0m\n\u001b[0;32m----> 3\u001b[0;31m \u001b[0mxLeft\u001b[0m \u001b[0;34m=\u001b[0m \u001b[0mint\u001b[0m\u001b[0;34m(\u001b[0m\u001b[0mx_arr\u001b[0m\u001b[0;34m.\u001b[0m\u001b[0mmin\u001b[0m\u001b[0;34m(\u001b[0m\u001b[0;34m)\u001b[0m\u001b[0;34m)\u001b[0m\u001b[0;34m\u001b[0m\u001b[0;34m\u001b[0m\u001b[0m\n\u001b[0m\u001b[1;32m      4\u001b[0m \u001b[0myBottom\u001b[0m \u001b[0;34m=\u001b[0m \u001b[0mint\u001b[0m\u001b[0;34m(\u001b[0m\u001b[0my_arr\u001b[0m\u001b[0;34m.\u001b[0m\u001b[0mmin\u001b[0m\u001b[0;34m(\u001b[0m\u001b[0;34m)\u001b[0m\u001b[0;34m)\u001b[0m\u001b[0;34m\u001b[0m\u001b[0;34m\u001b[0m\u001b[0m\n\u001b[1;32m      5\u001b[0m \u001b[0mxRight\u001b[0m \u001b[0;34m=\u001b[0m \u001b[0mint\u001b[0m\u001b[0;34m(\u001b[0m\u001b[0mx_arr\u001b[0m\u001b[0;34m.\u001b[0m\u001b[0mmax\u001b[0m\u001b[0;34m(\u001b[0m\u001b[0;34m)\u001b[0m\u001b[0;34m)\u001b[0m\u001b[0;34m\u001b[0m\u001b[0;34m\u001b[0m\u001b[0m\n",
      "\u001b[0;31mNameError\u001b[0m: name 'x_arr' is not defined"
     ]
    }
   ],
   "source": [
    "# get the max and min coordinates from the polygon for \n",
    "# in order to calculate the relative coordinates for the box\n",
    "xLeft = int(x_arr.min())\n",
    "yBottom = int(y_arr.min())\n",
    "xRight = int(x_arr.max())\n",
    "yTop = int(y_arr.max())\n",
    "print(xLeft, yBottom, xRight, yTop)"
   ]
  },
  {
   "cell_type": "code",
   "execution_count": 8,
   "id": "ec53e005",
   "metadata": {},
   "outputs": [
    {
     "ename": "NameError",
     "evalue": "name 'rxr' is not defined",
     "output_type": "error",
     "traceback": [
      "\u001b[0;31m---------------------------------------------------------------------------\u001b[0m",
      "\u001b[0;31mNameError\u001b[0m                                 Traceback (most recent call last)",
      "\u001b[0;32m<ipython-input-8-54da4695047c>\u001b[0m in \u001b[0;36m<module>\u001b[0;34m\u001b[0m\n\u001b[1;32m      3\u001b[0m \u001b[0mdem_pre_path\u001b[0m \u001b[0;34m=\u001b[0m \u001b[0;34m'data/DHMVIIDSMRAS1m_k15/GeoTIFF/DHMVIIDSMRAS1m_k15.tif'\u001b[0m\u001b[0;34m\u001b[0m\u001b[0;34m\u001b[0m\u001b[0m\n\u001b[1;32m      4\u001b[0m \u001b[0;34m\u001b[0m\u001b[0m\n\u001b[0;32m----> 5\u001b[0;31m \u001b[0mdsm_pre_arr\u001b[0m \u001b[0;34m=\u001b[0m \u001b[0mrxr\u001b[0m\u001b[0;34m.\u001b[0m\u001b[0mopen_rasterio\u001b[0m\u001b[0;34m(\u001b[0m\u001b[0mdem_pre_path\u001b[0m\u001b[0;34m)\u001b[0m\u001b[0;34m\u001b[0m\u001b[0;34m\u001b[0m\u001b[0m\n\u001b[0m\u001b[1;32m      6\u001b[0m \u001b[0mcropped_img\u001b[0m \u001b[0;34m=\u001b[0m \u001b[0mdsm_pre_arr\u001b[0m\u001b[0;34m[\u001b[0m\u001b[0;34m:\u001b[0m\u001b[0;34m,\u001b[0m \u001b[0;36m0\u001b[0m\u001b[0;34m:\u001b[0m\u001b[0;36m2500\u001b[0m\u001b[0;34m,\u001b[0m \u001b[0;36m0\u001b[0m\u001b[0;34m:\u001b[0m\u001b[0;36m2500\u001b[0m\u001b[0;34m]\u001b[0m\u001b[0;34m\u001b[0m\u001b[0;34m\u001b[0m\u001b[0m\n\u001b[1;32m      7\u001b[0m \u001b[0;34m\u001b[0m\u001b[0m\n",
      "\u001b[0;31mNameError\u001b[0m: name 'rxr' is not defined"
     ]
    }
   ],
   "source": [
    "# exercise to find out if cropping and plotting works\n",
    "# create a raw cropped_img of the DSM tiff map\n",
    "dem_pre_path = 'data/DHMVIIDSMRAS1m_k15/GeoTIFF/DHMVIIDSMRAS1m_k15.tif'\n",
    "\n",
    "dsm_pre_arr = rxr.open_rasterio(dem_pre_path)\n",
    "cropped_img = dsm_pre_arr[:, 0:2500, 0:2500]\n",
    "\n",
    "cropped_img.plot()\n",
    "plt.show()\n",
    "#cropped_img_address = dsm_pre_arr[:, 81281:81813, 95400:95850]"
   ]
  },
  {
   "cell_type": "code",
   "execution_count": 9,
   "id": "ae9e03ba",
   "metadata": {},
   "outputs": [
    {
     "ename": "NameError",
     "evalue": "name 'rxr' is not defined",
     "output_type": "error",
     "traceback": [
      "\u001b[0;31m---------------------------------------------------------------------------\u001b[0m",
      "\u001b[0;31mNameError\u001b[0m                                 Traceback (most recent call last)",
      "\u001b[0;32m<ipython-input-9-d7dd504a5cdd>\u001b[0m in \u001b[0;36m<module>\u001b[0;34m\u001b[0m\n\u001b[1;32m      3\u001b[0m \u001b[0mdem_pre_path\u001b[0m \u001b[0;34m=\u001b[0m \u001b[0;34m'data/DHMVIIDSMRAS1m_k15/GeoTIFF/DHMVIIDSMRAS1m_k15.tif'\u001b[0m\u001b[0;34m\u001b[0m\u001b[0;34m\u001b[0m\u001b[0m\n\u001b[1;32m      4\u001b[0m \u001b[0;34m\u001b[0m\u001b[0m\n\u001b[0;32m----> 5\u001b[0;31m \u001b[0mdsm_pre_arr\u001b[0m \u001b[0;34m=\u001b[0m \u001b[0mrxr\u001b[0m\u001b[0;34m.\u001b[0m\u001b[0mopen_rasterio\u001b[0m\u001b[0;34m(\u001b[0m\u001b[0mdem_pre_path\u001b[0m\u001b[0;34m)\u001b[0m\u001b[0;34m\u001b[0m\u001b[0;34m\u001b[0m\u001b[0m\n\u001b[0m\u001b[1;32m      6\u001b[0m \u001b[0mcropped_img\u001b[0m \u001b[0;34m=\u001b[0m \u001b[0mdsm_pre_arr\u001b[0m\u001b[0;34m[\u001b[0m\u001b[0;34m:\u001b[0m\u001b[0;34m,\u001b[0m \u001b[0;36m2500\u001b[0m\u001b[0;34m:\u001b[0m\u001b[0;36m5000\u001b[0m\u001b[0;34m,\u001b[0m \u001b[0;36m2500\u001b[0m\u001b[0;34m:\u001b[0m\u001b[0;36m5000\u001b[0m\u001b[0;34m]\u001b[0m\u001b[0;34m\u001b[0m\u001b[0;34m\u001b[0m\u001b[0m\n\u001b[1;32m      7\u001b[0m \u001b[0;34m\u001b[0m\u001b[0m\n",
      "\u001b[0;31mNameError\u001b[0m: name 'rxr' is not defined"
     ]
    }
   ],
   "source": [
    "# exercise to find out if cropping and plotting works\n",
    "# create a raw cropped_img of the DSM tiff map\n",
    "dem_pre_path = 'data/DHMVIIDSMRAS1m_k15/GeoTIFF/DHMVIIDSMRAS1m_k15.tif'\n",
    "\n",
    "dsm_pre_arr = rxr.open_rasterio(dem_pre_path)\n",
    "cropped_img = dsm_pre_arr[:, 2500:5000, 2500:5000]\n",
    "\n",
    "cropped_img.plot()\n",
    "plt.show()\n",
    "#cropped_img_address = dsm_pre_arr[:, 81281:81813, 95400:95850]"
   ]
  },
  {
   "cell_type": "code",
   "execution_count": 10,
   "id": "eb43fc00",
   "metadata": {},
   "outputs": [
    {
     "ename": "NameError",
     "evalue": "name 'rxr' is not defined",
     "output_type": "error",
     "traceback": [
      "\u001b[0;31m---------------------------------------------------------------------------\u001b[0m",
      "\u001b[0;31mNameError\u001b[0m                                 Traceback (most recent call last)",
      "\u001b[0;32m<ipython-input-10-63715222bbce>\u001b[0m in \u001b[0;36m<module>\u001b[0;34m\u001b[0m\n\u001b[1;32m      3\u001b[0m \u001b[0mdem_pre_path\u001b[0m \u001b[0;34m=\u001b[0m \u001b[0;34m'data/DHMVIIDSMRAS1m_k15/GeoTIFF/DHMVIIDSMRAS1m_k15.tif'\u001b[0m\u001b[0;34m\u001b[0m\u001b[0;34m\u001b[0m\u001b[0m\n\u001b[1;32m      4\u001b[0m \u001b[0;34m\u001b[0m\u001b[0m\n\u001b[0;32m----> 5\u001b[0;31m \u001b[0mdsm_pre_arr\u001b[0m \u001b[0;34m=\u001b[0m \u001b[0mrxr\u001b[0m\u001b[0;34m.\u001b[0m\u001b[0mopen_rasterio\u001b[0m\u001b[0;34m(\u001b[0m\u001b[0mdem_pre_path\u001b[0m\u001b[0;34m)\u001b[0m\u001b[0;34m\u001b[0m\u001b[0;34m\u001b[0m\u001b[0m\n\u001b[0m\u001b[1;32m      6\u001b[0m \u001b[0mcropped_img\u001b[0m \u001b[0;34m=\u001b[0m \u001b[0mdsm_pre_arr\u001b[0m\u001b[0;34m[\u001b[0m\u001b[0;34m:\u001b[0m\u001b[0;34m,\u001b[0m \u001b[0;36m10000\u001b[0m\u001b[0;34m:\u001b[0m\u001b[0;36m12500\u001b[0m\u001b[0;34m,\u001b[0m \u001b[0;36m10000\u001b[0m\u001b[0;34m:\u001b[0m\u001b[0;36m12500\u001b[0m\u001b[0;34m]\u001b[0m\u001b[0;34m\u001b[0m\u001b[0;34m\u001b[0m\u001b[0m\n\u001b[1;32m      7\u001b[0m \u001b[0;34m\u001b[0m\u001b[0m\n",
      "\u001b[0;31mNameError\u001b[0m: name 'rxr' is not defined"
     ]
    }
   ],
   "source": [
    "# exercise to find out if cropping and plotting works\n",
    "# create a raw cropped_img of the DSM tiff map\n",
    "dem_pre_path = 'data/DHMVIIDSMRAS1m_k15/GeoTIFF/DHMVIIDSMRAS1m_k15.tif'\n",
    "\n",
    "dsm_pre_arr = rxr.open_rasterio(dem_pre_path)\n",
    "cropped_img = dsm_pre_arr[:, 10000:12500, 10000:12500]\n",
    "\n",
    "cropped_img.plot()\n",
    "plt.show()\n",
    "#cropped_img_address = dsm_pre_arr[:, 81281:81813, 95400:95850]"
   ]
  },
  {
   "cell_type": "code",
   "execution_count": 11,
   "id": "032edd27",
   "metadata": {},
   "outputs": [
    {
     "ename": "NameError",
     "evalue": "name 'rxr' is not defined",
     "output_type": "error",
     "traceback": [
      "\u001b[0;31m---------------------------------------------------------------------------\u001b[0m",
      "\u001b[0;31mNameError\u001b[0m                                 Traceback (most recent call last)",
      "\u001b[0;32m<ipython-input-11-bd27ef6fe98f>\u001b[0m in \u001b[0;36m<module>\u001b[0;34m\u001b[0m\n\u001b[1;32m      3\u001b[0m \u001b[0mdem_pre_path\u001b[0m \u001b[0;34m=\u001b[0m \u001b[0;34m'data/DHMVIIDSMRAS1m_k15/GeoTIFF/DHMVIIDSMRAS1m_k15.tif'\u001b[0m\u001b[0;34m\u001b[0m\u001b[0;34m\u001b[0m\u001b[0m\n\u001b[1;32m      4\u001b[0m \u001b[0;34m\u001b[0m\u001b[0m\n\u001b[0;32m----> 5\u001b[0;31m \u001b[0mdsm_pre_arr\u001b[0m \u001b[0;34m=\u001b[0m \u001b[0mrxr\u001b[0m\u001b[0;34m.\u001b[0m\u001b[0mopen_rasterio\u001b[0m\u001b[0;34m(\u001b[0m\u001b[0mdem_pre_path\u001b[0m\u001b[0;34m)\u001b[0m\u001b[0;34m\u001b[0m\u001b[0;34m\u001b[0m\u001b[0m\n\u001b[0m\u001b[1;32m      6\u001b[0m \u001b[0mcropped_img\u001b[0m \u001b[0;34m=\u001b[0m \u001b[0mdsm_pre_arr\u001b[0m\u001b[0;34m[\u001b[0m\u001b[0;34m:\u001b[0m\u001b[0;34m,\u001b[0m \u001b[0;36m15000\u001b[0m\u001b[0;34m:\u001b[0m\u001b[0;36m17500\u001b[0m\u001b[0;34m,\u001b[0m \u001b[0;36m15000\u001b[0m\u001b[0;34m:\u001b[0m\u001b[0;36m17500\u001b[0m\u001b[0;34m]\u001b[0m\u001b[0;34m\u001b[0m\u001b[0;34m\u001b[0m\u001b[0m\n\u001b[1;32m      7\u001b[0m \u001b[0;34m\u001b[0m\u001b[0m\n",
      "\u001b[0;31mNameError\u001b[0m: name 'rxr' is not defined"
     ]
    }
   ],
   "source": [
    "# exercise to find out if cropping and plotting works\n",
    "# create a raw cropped_img of the DSM tiff map\n",
    "dem_pre_path = 'data/DHMVIIDSMRAS1m_k15/GeoTIFF/DHMVIIDSMRAS1m_k15.tif'\n",
    "\n",
    "dsm_pre_arr = rxr.open_rasterio(dem_pre_path)\n",
    "cropped_img = dsm_pre_arr[:, 15000:17500, 15000:17500]\n",
    "\n",
    "cropped_img.plot()\n",
    "plt.show()\n",
    "#cropped_img_address = dsm_pre_arr[:, 81281:81813, 95400:95850]"
   ]
  },
  {
   "cell_type": "code",
   "execution_count": 12,
   "id": "0948f311",
   "metadata": {},
   "outputs": [
    {
     "ename": "NameError",
     "evalue": "name 'rxr' is not defined",
     "output_type": "error",
     "traceback": [
      "\u001b[0;31m---------------------------------------------------------------------------\u001b[0m",
      "\u001b[0;31mNameError\u001b[0m                                 Traceback (most recent call last)",
      "\u001b[0;32m<ipython-input-12-5d2cc124ccf1>\u001b[0m in \u001b[0;36m<module>\u001b[0;34m\u001b[0m\n\u001b[1;32m      3\u001b[0m \u001b[0mdem_pre_path\u001b[0m \u001b[0;34m=\u001b[0m \u001b[0;34m'data/DHMVIIDSMRAS1m_k15/GeoTIFF/DHMVIIDSMRAS1m_k15.tif'\u001b[0m\u001b[0;34m\u001b[0m\u001b[0;34m\u001b[0m\u001b[0m\n\u001b[1;32m      4\u001b[0m \u001b[0;34m\u001b[0m\u001b[0m\n\u001b[0;32m----> 5\u001b[0;31m \u001b[0mdsm_pre_arr\u001b[0m \u001b[0;34m=\u001b[0m \u001b[0mrxr\u001b[0m\u001b[0;34m.\u001b[0m\u001b[0mopen_rasterio\u001b[0m\u001b[0;34m(\u001b[0m\u001b[0mdem_pre_path\u001b[0m\u001b[0;34m)\u001b[0m\u001b[0;34m\u001b[0m\u001b[0;34m\u001b[0m\u001b[0m\n\u001b[0m\u001b[1;32m      6\u001b[0m \u001b[0mcropped_img\u001b[0m \u001b[0;34m=\u001b[0m \u001b[0mdsm_pre_arr\u001b[0m\u001b[0;34m[\u001b[0m\u001b[0;34m:\u001b[0m\u001b[0;34m,\u001b[0m \u001b[0;36m17500\u001b[0m\u001b[0;34m:\u001b[0m\u001b[0;36m20000\u001b[0m\u001b[0;34m,\u001b[0m \u001b[0;36m17500\u001b[0m\u001b[0;34m:\u001b[0m\u001b[0;36m20000\u001b[0m\u001b[0;34m]\u001b[0m\u001b[0;34m\u001b[0m\u001b[0;34m\u001b[0m\u001b[0m\n\u001b[1;32m      7\u001b[0m \u001b[0;34m\u001b[0m\u001b[0m\n",
      "\u001b[0;31mNameError\u001b[0m: name 'rxr' is not defined"
     ]
    }
   ],
   "source": [
    "# exercise to find out if cropping and plotting works\n",
    "# create a raw cropped_img of the DSM tiff map\n",
    "dem_pre_path = 'data/DHMVIIDSMRAS1m_k15/GeoTIFF/DHMVIIDSMRAS1m_k15.tif'\n",
    "\n",
    "dsm_pre_arr = rxr.open_rasterio(dem_pre_path)\n",
    "cropped_img = dsm_pre_arr[:, 17500:20000, 17500:20000]\n",
    "\n",
    "cropped_img.plot()\n",
    "plt.show()\n",
    "#cropped_img_address = dsm_pre_arr[:, 81281:81813, 95400:95850]\n",
    "\n",
    "\"\"\" FOR THIS TIF, X AND Y CANNOT EXCEED 20000 \"\"\""
   ]
  },
  {
   "cell_type": "code",
   "execution_count": 13,
   "id": "01eab943",
   "metadata": {
    "scrolled": true
   },
   "outputs": [
    {
     "data": {
      "text/plain": [
       "<AxesSubplot:>"
      ]
     },
     "execution_count": 13,
     "metadata": {},
     "output_type": "execute_result"
    },
    {
     "data": {
      "image/png": "[encoded data removed]",
      "text/plain": [
       "<Figure size 432x288 with 1 Axes>"
      ]
     },
     "metadata": {
      "needs_background": "light"
     },
     "output_type": "display_data"
    }
   ],
   "source": [
    "\"\"\" For the coordinates try:\n",
    "the actual (absolute) coordinates minus the tif's bounderies.. left\"\"\"\n",
    "\n",
    "import rioxarray\n",
    "import geopandas as gpd\n",
    "surface_HARV = rioxarray.open_rasterio('data/DHMVIIDSMRAS1m_k15/GeoTIFF/DHMVIIDSMRAS1m_k15.tif')\n",
    "#print(surface_HARV.min())\n",
    "#print(surface_HARV.max())\n",
    "aoi_boundary_HARV = gpd.read_file(\"data/DHMVIIDSMRAS1m_k15/DHMVII_vdc_k15.shp\")\n",
    "#print(aoi_boundary_HARV)\n",
    "\n",
    "aoi_boundary_HARV.plot()\n",
    "#aoi_boundary_HARV.crs"
   ]
  },
  {
   "cell_type": "code",
   "execution_count": 14,
   "id": "17235e6f",
   "metadata": {},
   "outputs": [
    {
     "data": {
      "text/plain": [
       "<AxesSubplot:>"
      ]
     },
     "execution_count": 14,
     "metadata": {},
     "output_type": "execute_result"
    },
    {
     "data": {
      "image/png": "[encoded data removed]",
      "text/plain": [
       "<Figure size 360x360 with 1 Axes>"
      ]
     },
     "metadata": {
      "needs_background": "light"
     },
     "output_type": "display_data"
    }
   ],
   "source": [
    "aoi_boundary_HARV.plot(figsize=(5,5), edgecolor=\"purple\", facecolor=\"None\")"
   ]
  },
  {
   "cell_type": "code",
   "execution_count": null,
   "id": "8e22fa6d",
   "metadata": {},
   "outputs": [],
   "source": []
  },
  {
   "cell_type": "code",
   "execution_count": 15,
   "id": "dee148c3",
   "metadata": {
    "scrolled": true
   },
   "outputs": [
    {
     "data": {
      "text/html": [
       "<div>\n",
       "<style scoped>\n",
       "    .dataframe tbody tr th:only-of-type {\n",
       "        vertical-align: middle;\n",
       "    }\n",
       "\n",
       "    .dataframe tbody tr th {\n",
       "        vertical-align: top;\n",
       "    }\n",
       "\n",
       "    .dataframe thead th {\n",
       "        text-align: right;\n",
       "    }\n",
       "</style>\n",
       "<table border=\"1\" class=\"dataframe\">\n",
       "  <thead>\n",
       "    <tr style=\"text-align: right;\">\n",
       "      <th></th>\n",
       "      <th>Date</th>\n",
       "      <th>OpnDatum1</th>\n",
       "      <th>OpnDatum2</th>\n",
       "      <th>OpnDatum3</th>\n",
       "      <th>geometry</th>\n",
       "    </tr>\n",
       "  </thead>\n",
       "  <tbody>\n",
       "    <tr>\n",
       "      <th>0</th>\n",
       "      <td>20131202</td>\n",
       "      <td>2013-12-02</td>\n",
       "      <td>None</td>\n",
       "      <td>None</td>\n",
       "      <td>POLYGON Z ((162000.000 216880.776 0.000, 16198...</td>\n",
       "    </tr>\n",
       "    <tr>\n",
       "      <th>1</th>\n",
       "      <td>20131203</td>\n",
       "      <td>2013-12-03</td>\n",
       "      <td>None</td>\n",
       "      <td>None</td>\n",
       "      <td>MULTIPOLYGON Z (((150997.353 216693.338 0.000,...</td>\n",
       "    </tr>\n",
       "    <tr>\n",
       "      <th>2</th>\n",
       "      <td>20131211</td>\n",
       "      <td>2013-12-11</td>\n",
       "      <td>None</td>\n",
       "      <td>None</td>\n",
       "      <td>POLYGON Z ((162000.000 215179.491 0.000, 16200...</td>\n",
       "    </tr>\n",
       "    <tr>\n",
       "      <th>3</th>\n",
       "      <td>20131213</td>\n",
       "      <td>2013-12-13</td>\n",
       "      <td>None</td>\n",
       "      <td>None</td>\n",
       "      <td>POLYGON Z ((162000.000 213004.450 0.000, 16200...</td>\n",
       "    </tr>\n",
       "    <tr>\n",
       "      <th>4</th>\n",
       "      <td>20131214</td>\n",
       "      <td>2013-12-14</td>\n",
       "      <td>None</td>\n",
       "      <td>None</td>\n",
       "      <td>MULTIPOLYGON Z (((151802.226 212171.997 0.000,...</td>\n",
       "    </tr>\n",
       "    <tr>\n",
       "      <th>5</th>\n",
       "      <td>20131216</td>\n",
       "      <td>2013-12-16</td>\n",
       "      <td>None</td>\n",
       "      <td>None</td>\n",
       "      <td>POLYGON Z ((162000.000 211735.009 0.000, 16200...</td>\n",
       "    </tr>\n",
       "    <tr>\n",
       "      <th>6</th>\n",
       "      <td>20131220</td>\n",
       "      <td>2013-12-20</td>\n",
       "      <td>None</td>\n",
       "      <td>None</td>\n",
       "      <td>POLYGON Z ((162000.000 210423.249 0.000, 16200...</td>\n",
       "    </tr>\n",
       "    <tr>\n",
       "      <th>7</th>\n",
       "      <td>20140110</td>\n",
       "      <td>2014-01-10</td>\n",
       "      <td>None</td>\n",
       "      <td>None</td>\n",
       "      <td>POLYGON Z ((162000.000 208407.188 0.000, 16200...</td>\n",
       "    </tr>\n",
       "    <tr>\n",
       "      <th>8</th>\n",
       "      <td>20140112</td>\n",
       "      <td>2014-11-12</td>\n",
       "      <td>None</td>\n",
       "      <td>None</td>\n",
       "      <td>POLYGON Z ((162000.000 206595.626 0.000, 16200...</td>\n",
       "    </tr>\n",
       "    <tr>\n",
       "      <th>9</th>\n",
       "      <td>20140118</td>\n",
       "      <td>2014-01-18</td>\n",
       "      <td>None</td>\n",
       "      <td>None</td>\n",
       "      <td>MULTIPOLYGON Z (((147423.205 204508.282 0.000,...</td>\n",
       "    </tr>\n",
       "    <tr>\n",
       "      <th>10</th>\n",
       "      <td>20140224</td>\n",
       "      <td>2014-02-24</td>\n",
       "      <td>None</td>\n",
       "      <td>None</td>\n",
       "      <td>MULTIPOLYGON Z (((162000.000 204179.085 0.000,...</td>\n",
       "    </tr>\n",
       "    <tr>\n",
       "      <th>11</th>\n",
       "      <td>20140305</td>\n",
       "      <td>2014-03-05</td>\n",
       "      <td>None</td>\n",
       "      <td>None</td>\n",
       "      <td>POLYGON Z ((162000.000 199464.089 0.000, 16200...</td>\n",
       "    </tr>\n",
       "    <tr>\n",
       "      <th>12</th>\n",
       "      <td>20131202</td>\n",
       "      <td>2013-12-02</td>\n",
       "      <td>2013-12-03</td>\n",
       "      <td>None</td>\n",
       "      <td>MULTIPOLYGON Z (((162000.000 216880.776 0.000,...</td>\n",
       "    </tr>\n",
       "    <tr>\n",
       "      <th>13</th>\n",
       "      <td>20140118</td>\n",
       "      <td>2013-12-02</td>\n",
       "      <td>2013-12-03</td>\n",
       "      <td>2014-01-18</td>\n",
       "      <td>MULTIPOLYGON Z (((138528.416 216751.285 0.000,...</td>\n",
       "    </tr>\n",
       "    <tr>\n",
       "      <th>14</th>\n",
       "      <td>20131203</td>\n",
       "      <td>2013-12-03</td>\n",
       "      <td>2013-12-11</td>\n",
       "      <td>None</td>\n",
       "      <td>POLYGON Z ((162000.000 215450.741 0.000, 16200...</td>\n",
       "    </tr>\n",
       "    <tr>\n",
       "      <th>15</th>\n",
       "      <td>20140118</td>\n",
       "      <td>2014-01-18</td>\n",
       "      <td>2013-12-03</td>\n",
       "      <td>2013-12-03</td>\n",
       "      <td>MULTIPOLYGON Z (((150997.353 216693.338 0.000,...</td>\n",
       "    </tr>\n",
       "    <tr>\n",
       "      <th>16</th>\n",
       "      <td>20131211</td>\n",
       "      <td>2013-12-11</td>\n",
       "      <td>2013-12-13</td>\n",
       "      <td>None</td>\n",
       "      <td>POLYGON Z ((162000.000 213347.141 0.000, 16200...</td>\n",
       "    </tr>\n",
       "    <tr>\n",
       "      <th>17</th>\n",
       "      <td>20131214</td>\n",
       "      <td>2013-12-13</td>\n",
       "      <td>2013-12-14</td>\n",
       "      <td>None</td>\n",
       "      <td>MULTIPOLYGON Z (((162000.000 212457.650 0.000,...</td>\n",
       "    </tr>\n",
       "    <tr>\n",
       "      <th>18</th>\n",
       "      <td>20131214</td>\n",
       "      <td>2013-12-14</td>\n",
       "      <td>2013-12-16</td>\n",
       "      <td>None</td>\n",
       "      <td>MULTIPOLYGON Z (((151801.661 212170.750 0.000,...</td>\n",
       "    </tr>\n",
       "    <tr>\n",
       "      <th>19</th>\n",
       "      <td>20140224</td>\n",
       "      <td>2014-02-24</td>\n",
       "      <td>None</td>\n",
       "      <td>None</td>\n",
       "      <td>MULTIPOLYGON Z (((162000.000 203146.660 0.000,...</td>\n",
       "    </tr>\n",
       "    <tr>\n",
       "      <th>20</th>\n",
       "      <td>20131216</td>\n",
       "      <td>2013-02-20</td>\n",
       "      <td>2013-12-16</td>\n",
       "      <td>None</td>\n",
       "      <td>POLYGON Z ((162000.000 210783.988 0.000, 16200...</td>\n",
       "    </tr>\n",
       "    <tr>\n",
       "      <th>21</th>\n",
       "      <td>20131220</td>\n",
       "      <td>2014-01-10</td>\n",
       "      <td>2013-02-20</td>\n",
       "      <td>None</td>\n",
       "      <td>MULTIPOLYGON Z (((162000.000 208807.844 0.000,...</td>\n",
       "    </tr>\n",
       "    <tr>\n",
       "      <th>22</th>\n",
       "      <td>20140110</td>\n",
       "      <td>2014-01-12</td>\n",
       "      <td>2014-01-10</td>\n",
       "      <td>None</td>\n",
       "      <td>POLYGON Z ((162000.000 206954.796 0.000, 16200...</td>\n",
       "    </tr>\n",
       "    <tr>\n",
       "      <th>23</th>\n",
       "      <td>20140118</td>\n",
       "      <td>2014-01-18</td>\n",
       "      <td>2014-01-12</td>\n",
       "      <td>None</td>\n",
       "      <td>POLYGON Z ((162000.000 204797.577 0.000, 16200...</td>\n",
       "    </tr>\n",
       "    <tr>\n",
       "      <th>24</th>\n",
       "      <td>20140224</td>\n",
       "      <td>2014-02-24</td>\n",
       "      <td>2014-01-18</td>\n",
       "      <td>None</td>\n",
       "      <td>POLYGON Z ((147525.912 204500.020 0.000, 14753...</td>\n",
       "    </tr>\n",
       "    <tr>\n",
       "      <th>25</th>\n",
       "      <td>20140305</td>\n",
       "      <td>2014-03-05</td>\n",
       "      <td>2014-02-24</td>\n",
       "      <td>None</td>\n",
       "      <td>MULTIPOLYGON Z (((162000.000 199764.423 0.000,...</td>\n",
       "    </tr>\n",
       "    <tr>\n",
       "      <th>26</th>\n",
       "      <td>20140118</td>\n",
       "      <td>2013-12-02</td>\n",
       "      <td>2013-12-03</td>\n",
       "      <td>2014-01-18</td>\n",
       "      <td>MULTIPOLYGON Z (((144954.650 216649.833 0.000,...</td>\n",
       "    </tr>\n",
       "    <tr>\n",
       "      <th>27</th>\n",
       "      <td>20131214</td>\n",
       "      <td>2013-12-13</td>\n",
       "      <td>2013-12-14</td>\n",
       "      <td>None</td>\n",
       "      <td>MULTIPOLYGON Z (((158363.670 212115.970 0.000,...</td>\n",
       "    </tr>\n",
       "    <tr>\n",
       "      <th>28</th>\n",
       "      <td>20140118</td>\n",
       "      <td>2014-01-12</td>\n",
       "      <td>2014-01-18</td>\n",
       "      <td>None</td>\n",
       "      <td>MULTIPOLYGON Z (((159859.838 204500.020 0.000,...</td>\n",
       "    </tr>\n",
       "  </tbody>\n",
       "</table>\n",
       "</div>"
      ],
      "text/plain": [
       "        Date   OpnDatum1   OpnDatum2   OpnDatum3  \\\n",
       "0   20131202  2013-12-02        None        None   \n",
       "1   20131203  2013-12-03        None        None   \n",
       "2   20131211  2013-12-11        None        None   \n",
       "3   20131213  2013-12-13        None        None   \n",
       "4   20131214  2013-12-14        None        None   \n",
       "5   20131216  2013-12-16        None        None   \n",
       "6   20131220  2013-12-20        None        None   \n",
       "7   20140110  2014-01-10        None        None   \n",
       "8   20140112  2014-11-12        None        None   \n",
       "9   20140118  2014-01-18        None        None   \n",
       "10  20140224  2014-02-24        None        None   \n",
       "11  20140305  2014-03-05        None        None   \n",
       "12  20131202  2013-12-02  2013-12-03        None   \n",
       "13  20140118  2013-12-02  2013-12-03  2014-01-18   \n",
       "14  20131203  2013-12-03  2013-12-11        None   \n",
       "15  20140118  2014-01-18  2013-12-03  2013-12-03   \n",
       "16  20131211  2013-12-11  2013-12-13        None   \n",
       "17  20131214  2013-12-13  2013-12-14        None   \n",
       "18  20131214  2013-12-14  2013-12-16        None   \n",
       "19  20140224  2014-02-24        None        None   \n",
       "20  20131216  2013-02-20  2013-12-16        None   \n",
       "21  20131220  2014-01-10  2013-02-20        None   \n",
       "22  20140110  2014-01-12  2014-01-10        None   \n",
       "23  20140118  2014-01-18  2014-01-12        None   \n",
       "24  20140224  2014-02-24  2014-01-18        None   \n",
       "25  20140305  2014-03-05  2014-02-24        None   \n",
       "26  20140118  2013-12-02  2013-12-03  2014-01-18   \n",
       "27  20131214  2013-12-13  2013-12-14        None   \n",
       "28  20140118  2014-01-12  2014-01-18        None   \n",
       "\n",
       "                                             geometry  \n",
       "0   POLYGON Z ((162000.000 216880.776 0.000, 16198...  \n",
       "1   MULTIPOLYGON Z (((150997.353 216693.338 0.000,...  \n",
       "2   POLYGON Z ((162000.000 215179.491 0.000, 16200...  \n",
       "3   POLYGON Z ((162000.000 213004.450 0.000, 16200...  \n",
       "4   MULTIPOLYGON Z (((151802.226 212171.997 0.000,...  \n",
       "5   POLYGON Z ((162000.000 211735.009 0.000, 16200...  \n",
       "6   POLYGON Z ((162000.000 210423.249 0.000, 16200...  \n",
       "7   POLYGON Z ((162000.000 208407.188 0.000, 16200...  \n",
       "8   POLYGON Z ((162000.000 206595.626 0.000, 16200...  \n",
       "9   MULTIPOLYGON Z (((147423.205 204508.282 0.000,...  \n",
       "10  MULTIPOLYGON Z (((162000.000 204179.085 0.000,...  \n",
       "11  POLYGON Z ((162000.000 199464.089 0.000, 16200...  \n",
       "12  MULTIPOLYGON Z (((162000.000 216880.776 0.000,...  \n",
       "13  MULTIPOLYGON Z (((138528.416 216751.285 0.000,...  \n",
       "14  POLYGON Z ((162000.000 215450.741 0.000, 16200...  \n",
       "15  MULTIPOLYGON Z (((150997.353 216693.338 0.000,...  \n",
       "16  POLYGON Z ((162000.000 213347.141 0.000, 16200...  \n",
       "17  MULTIPOLYGON Z (((162000.000 212457.650 0.000,...  \n",
       "18  MULTIPOLYGON Z (((151801.661 212170.750 0.000,...  \n",
       "19  MULTIPOLYGON Z (((162000.000 203146.660 0.000,...  \n",
       "20  POLYGON Z ((162000.000 210783.988 0.000, 16200...  \n",
       "21  MULTIPOLYGON Z (((162000.000 208807.844 0.000,...  \n",
       "22  POLYGON Z ((162000.000 206954.796 0.000, 16200...  \n",
       "23  POLYGON Z ((162000.000 204797.577 0.000, 16200...  \n",
       "24  POLYGON Z ((147525.912 204500.020 0.000, 14753...  \n",
       "25  MULTIPOLYGON Z (((162000.000 199764.423 0.000,...  \n",
       "26  MULTIPOLYGON Z (((144954.650 216649.833 0.000,...  \n",
       "27  MULTIPOLYGON Z (((158363.670 212115.970 0.000,...  \n",
       "28  MULTIPOLYGON Z (((159859.838 204500.020 0.000,...  "
      ]
     },
     "execution_count": 15,
     "metadata": {},
     "output_type": "execute_result"
    }
   ],
   "source": [
    "aoi_boundary_HARV = gpd.read_file(\n",
    "  \"data/DHMVIIDSMRAS1m_k15/DHMVII_vdc_k15.shp\")\n",
    "aoi_boundary_HARV"
   ]
  },
  {
   "cell_type": "code",
   "execution_count": 16,
   "id": "65885198",
   "metadata": {
    "scrolled": true
   },
   "outputs": [
    {
     "data": {
      "text/plain": [
       "0          Polygon\n",
       "1     MultiPolygon\n",
       "2          Polygon\n",
       "3          Polygon\n",
       "4     MultiPolygon\n",
       "5          Polygon\n",
       "6          Polygon\n",
       "7          Polygon\n",
       "8          Polygon\n",
       "9     MultiPolygon\n",
       "10    MultiPolygon\n",
       "11         Polygon\n",
       "12    MultiPolygon\n",
       "13    MultiPolygon\n",
       "14         Polygon\n",
       "15    MultiPolygon\n",
       "16         Polygon\n",
       "17    MultiPolygon\n",
       "18    MultiPolygon\n",
       "19    MultiPolygon\n",
       "20         Polygon\n",
       "21    MultiPolygon\n",
       "22         Polygon\n",
       "23         Polygon\n",
       "24         Polygon\n",
       "25    MultiPolygon\n",
       "26    MultiPolygon\n",
       "27    MultiPolygon\n",
       "28    MultiPolygon\n",
       "dtype: object"
      ]
     },
     "execution_count": 16,
     "metadata": {},
     "output_type": "execute_result"
    }
   ],
   "source": [
    "aoi_boundary_HARV.type\n"
   ]
  },
  {
   "cell_type": "code",
   "execution_count": 17,
   "id": "1ed1deee",
   "metadata": {},
   "outputs": [
    {
     "data": {
      "text/plain": [
       "<Projected CRS: PROJCS[\"Belge 1972 / Belgian Lambert 72\",GEOGCS[\"B ...>\n",
       "Name: Belge 1972 / Belgian Lambert 72\n",
       "Axis Info [cartesian]:\n",
       "- [east]: Easting (metre)\n",
       "- [north]: Northing (metre)\n",
       "Area of Use:\n",
       "- undefined\n",
       "Coordinate Operation:\n",
       "- name: unnamed\n",
       "- method: Lambert Conic Conformal (2SP)\n",
       "Datum: Reseau National Belge 1972\n",
       "- Ellipsoid: International 1924\n",
       "- Prime Meridian: Greenwich"
      ]
     },
     "execution_count": 17,
     "metadata": {},
     "output_type": "execute_result"
    }
   ],
   "source": [
    "aoi_boundary_HARV.crs\n"
   ]
  },
  {
   "cell_type": "code",
   "execution_count": 18,
   "id": "132c0425",
   "metadata": {
    "scrolled": false
   },
   "outputs": [
    {
     "data": {
      "text/html": [
       "<div>\n",
       "<style scoped>\n",
       "    .dataframe tbody tr th:only-of-type {\n",
       "        vertical-align: middle;\n",
       "    }\n",
       "\n",
       "    .dataframe tbody tr th {\n",
       "        vertical-align: top;\n",
       "    }\n",
       "\n",
       "    .dataframe thead th {\n",
       "        text-align: right;\n",
       "    }\n",
       "</style>\n",
       "<table border=\"1\" class=\"dataframe\">\n",
       "  <thead>\n",
       "    <tr style=\"text-align: right;\">\n",
       "      <th></th>\n",
       "      <th>minx</th>\n",
       "      <th>miny</th>\n",
       "      <th>maxx</th>\n",
       "      <th>maxy</th>\n",
       "    </tr>\n",
       "  </thead>\n",
       "  <tbody>\n",
       "    <tr>\n",
       "      <th>0</th>\n",
       "      <td>130000.000000</td>\n",
       "      <td>216732.670105</td>\n",
       "      <td>162000.000000</td>\n",
       "      <td>218000.000000</td>\n",
       "    </tr>\n",
       "    <tr>\n",
       "      <th>1</th>\n",
       "      <td>130000.000000</td>\n",
       "      <td>215309.060120</td>\n",
       "      <td>162000.000000</td>\n",
       "      <td>216717.100098</td>\n",
       "    </tr>\n",
       "    <tr>\n",
       "      <th>2</th>\n",
       "      <td>130000.000000</td>\n",
       "      <td>213267.500122</td>\n",
       "      <td>162000.000000</td>\n",
       "      <td>215285.430115</td>\n",
       "    </tr>\n",
       "    <tr>\n",
       "      <th>3</th>\n",
       "      <td>130000.000000</td>\n",
       "      <td>212201.690125</td>\n",
       "      <td>162000.000000</td>\n",
       "      <td>213262.970093</td>\n",
       "    </tr>\n",
       "    <tr>\n",
       "      <th>4</th>\n",
       "      <td>130000.000000</td>\n",
       "      <td>201899.400085</td>\n",
       "      <td>162000.000000</td>\n",
       "      <td>212231.090088</td>\n",
       "    </tr>\n",
       "    <tr>\n",
       "      <th>5</th>\n",
       "      <td>130000.000000</td>\n",
       "      <td>210579.561707</td>\n",
       "      <td>162000.000000</td>\n",
       "      <td>211889.160095</td>\n",
       "    </tr>\n",
       "    <tr>\n",
       "      <th>6</th>\n",
       "      <td>130000.000000</td>\n",
       "      <td>208418.710083</td>\n",
       "      <td>162000.000000</td>\n",
       "      <td>210483.129883</td>\n",
       "    </tr>\n",
       "    <tr>\n",
       "      <th>7</th>\n",
       "      <td>130000.000000</td>\n",
       "      <td>206757.180115</td>\n",
       "      <td>162000.000000</td>\n",
       "      <td>208571.560120</td>\n",
       "    </tr>\n",
       "    <tr>\n",
       "      <th>8</th>\n",
       "      <td>130000.000000</td>\n",
       "      <td>204742.680115</td>\n",
       "      <td>162000.000000</td>\n",
       "      <td>206759.580078</td>\n",
       "    </tr>\n",
       "    <tr>\n",
       "      <th>9</th>\n",
       "      <td>130000.000000</td>\n",
       "      <td>204412.189880</td>\n",
       "      <td>161730.768603</td>\n",
       "      <td>204560.660095</td>\n",
       "    </tr>\n",
       "    <tr>\n",
       "      <th>10</th>\n",
       "      <td>130000.000000</td>\n",
       "      <td>199521.310873</td>\n",
       "      <td>162000.000000</td>\n",
       "      <td>204223.240112</td>\n",
       "    </tr>\n",
       "    <tr>\n",
       "      <th>11</th>\n",
       "      <td>130000.000000</td>\n",
       "      <td>198000.000000</td>\n",
       "      <td>162000.000000</td>\n",
       "      <td>199613.473694</td>\n",
       "    </tr>\n",
       "    <tr>\n",
       "      <th>12</th>\n",
       "      <td>130000.000000</td>\n",
       "      <td>216596.100098</td>\n",
       "      <td>162000.000000</td>\n",
       "      <td>216936.970093</td>\n",
       "    </tr>\n",
       "    <tr>\n",
       "      <th>13</th>\n",
       "      <td>138460.848794</td>\n",
       "      <td>216733.670105</td>\n",
       "      <td>138824.838285</td>\n",
       "      <td>216770.710083</td>\n",
       "    </tr>\n",
       "    <tr>\n",
       "      <th>14</th>\n",
       "      <td>130000.000000</td>\n",
       "      <td>215070.910095</td>\n",
       "      <td>162000.000000</td>\n",
       "      <td>215558.009888</td>\n",
       "    </tr>\n",
       "    <tr>\n",
       "      <th>15</th>\n",
       "      <td>130000.000000</td>\n",
       "      <td>216250.580078</td>\n",
       "      <td>162000.000000</td>\n",
       "      <td>216702.048273</td>\n",
       "    </tr>\n",
       "    <tr>\n",
       "      <th>16</th>\n",
       "      <td>130000.000000</td>\n",
       "      <td>212994.500122</td>\n",
       "      <td>162000.000000</td>\n",
       "      <td>213407.850098</td>\n",
       "    </tr>\n",
       "    <tr>\n",
       "      <th>17</th>\n",
       "      <td>130000.000000</td>\n",
       "      <td>212091.200073</td>\n",
       "      <td>162000.000000</td>\n",
       "      <td>212545.600098</td>\n",
       "    </tr>\n",
       "    <tr>\n",
       "      <th>18</th>\n",
       "      <td>130000.000000</td>\n",
       "      <td>211651.890076</td>\n",
       "      <td>162000.000000</td>\n",
       "      <td>212171.996824</td>\n",
       "    </tr>\n",
       "    <tr>\n",
       "      <th>19</th>\n",
       "      <td>130000.000000</td>\n",
       "      <td>201627.750122</td>\n",
       "      <td>162000.000000</td>\n",
       "      <td>203245.610107</td>\n",
       "    </tr>\n",
       "    <tr>\n",
       "      <th>20</th>\n",
       "      <td>130000.000000</td>\n",
       "      <td>210339.490112</td>\n",
       "      <td>162000.000000</td>\n",
       "      <td>210845.770081</td>\n",
       "    </tr>\n",
       "    <tr>\n",
       "      <th>21</th>\n",
       "      <td>130000.000000</td>\n",
       "      <td>208309.210083</td>\n",
       "      <td>162000.000000</td>\n",
       "      <td>208864.350098</td>\n",
       "    </tr>\n",
       "    <tr>\n",
       "      <th>22</th>\n",
       "      <td>130000.000000</td>\n",
       "      <td>206488.460083</td>\n",
       "      <td>162000.000000</td>\n",
       "      <td>206999.470093</td>\n",
       "    </tr>\n",
       "    <tr>\n",
       "      <th>23</th>\n",
       "      <td>130000.000000</td>\n",
       "      <td>204500.020081</td>\n",
       "      <td>162000.000000</td>\n",
       "      <td>204822.350098</td>\n",
       "    </tr>\n",
       "    <tr>\n",
       "      <th>24</th>\n",
       "      <td>130000.000000</td>\n",
       "      <td>204132.060120</td>\n",
       "      <td>162000.000000</td>\n",
       "      <td>204508.282105</td>\n",
       "    </tr>\n",
       "    <tr>\n",
       "      <th>25</th>\n",
       "      <td>130000.000000</td>\n",
       "      <td>199362.560120</td>\n",
       "      <td>162000.000000</td>\n",
       "      <td>199843.380127</td>\n",
       "    </tr>\n",
       "    <tr>\n",
       "      <th>26</th>\n",
       "      <td>130000.000000</td>\n",
       "      <td>216473.520081</td>\n",
       "      <td>162000.000000</td>\n",
       "      <td>216822.870117</td>\n",
       "    </tr>\n",
       "    <tr>\n",
       "      <th>27</th>\n",
       "      <td>130143.941472</td>\n",
       "      <td>212038.490112</td>\n",
       "      <td>162000.000000</td>\n",
       "      <td>212219.180115</td>\n",
       "    </tr>\n",
       "    <tr>\n",
       "      <th>28</th>\n",
       "      <td>130051.369587</td>\n",
       "      <td>204500.020081</td>\n",
       "      <td>162000.000000</td>\n",
       "      <td>204542.520081</td>\n",
       "    </tr>\n",
       "  </tbody>\n",
       "</table>\n",
       "</div>"
      ],
      "text/plain": [
       "             minx           miny           maxx           maxy\n",
       "0   130000.000000  216732.670105  162000.000000  218000.000000\n",
       "1   130000.000000  215309.060120  162000.000000  216717.100098\n",
       "2   130000.000000  213267.500122  162000.000000  215285.430115\n",
       "3   130000.000000  212201.690125  162000.000000  213262.970093\n",
       "4   130000.000000  201899.400085  162000.000000  212231.090088\n",
       "5   130000.000000  210579.561707  162000.000000  211889.160095\n",
       "6   130000.000000  208418.710083  162000.000000  210483.129883\n",
       "7   130000.000000  206757.180115  162000.000000  208571.560120\n",
       "8   130000.000000  204742.680115  162000.000000  206759.580078\n",
       "9   130000.000000  204412.189880  161730.768603  204560.660095\n",
       "10  130000.000000  199521.310873  162000.000000  204223.240112\n",
       "11  130000.000000  198000.000000  162000.000000  199613.473694\n",
       "12  130000.000000  216596.100098  162000.000000  216936.970093\n",
       "13  138460.848794  216733.670105  138824.838285  216770.710083\n",
       "14  130000.000000  215070.910095  162000.000000  215558.009888\n",
       "15  130000.000000  216250.580078  162000.000000  216702.048273\n",
       "16  130000.000000  212994.500122  162000.000000  213407.850098\n",
       "17  130000.000000  212091.200073  162000.000000  212545.600098\n",
       "18  130000.000000  211651.890076  162000.000000  212171.996824\n",
       "19  130000.000000  201627.750122  162000.000000  203245.610107\n",
       "20  130000.000000  210339.490112  162000.000000  210845.770081\n",
       "21  130000.000000  208309.210083  162000.000000  208864.350098\n",
       "22  130000.000000  206488.460083  162000.000000  206999.470093\n",
       "23  130000.000000  204500.020081  162000.000000  204822.350098\n",
       "24  130000.000000  204132.060120  162000.000000  204508.282105\n",
       "25  130000.000000  199362.560120  162000.000000  199843.380127\n",
       "26  130000.000000  216473.520081  162000.000000  216822.870117\n",
       "27  130143.941472  212038.490112  162000.000000  212219.180115\n",
       "28  130051.369587  204500.020081  162000.000000  204542.520081"
      ]
     },
     "execution_count": 18,
     "metadata": {},
     "output_type": "execute_result"
    }
   ],
   "source": [
    "aoi_boundary_HARV.bounds\n"
   ]
  },
  {
   "cell_type": "code",
   "execution_count": 8,
   "id": "fc1e5b86",
   "metadata": {},
   "outputs": [
    {
     "ename": "NameError",
     "evalue": "name 'address' is not defined",
     "output_type": "error",
     "traceback": [
      "\u001b[0;31m---------------------------------------------------------------------------\u001b[0m",
      "\u001b[0;31mNameError\u001b[0m                                 Traceback (most recent call last)",
      "\u001b[0;32m<ipython-input-8-ebd52ad8d53a>\u001b[0m in \u001b[0;36m<module>\u001b[0;34m\u001b[0m\n\u001b[1;32m     35\u001b[0m \u001b[0mCHM_HARV\u001b[0m \u001b[0;34m=\u001b[0m \u001b[0mdsm_array\u001b[0m \u001b[0;34m-\u001b[0m \u001b[0mdtm_array\u001b[0m\u001b[0;34m\u001b[0m\u001b[0;34m\u001b[0m\u001b[0m\n\u001b[1;32m     36\u001b[0m \u001b[0;34m\u001b[0m\u001b[0m\n\u001b[0;32m---> 37\u001b[0;31m \u001b[0mdata\u001b[0m \u001b[0;34m=\u001b[0m \u001b[0mrequests\u001b[0m\u001b[0;34m.\u001b[0m\u001b[0mget\u001b[0m\u001b[0;34m(\u001b[0m\u001b[0;34mf\"https://loc.geopunt.be/v4/Location?q={address}\"\u001b[0m\u001b[0;34m)\u001b[0m\u001b[0;34m.\u001b[0m\u001b[0mjson\u001b[0m\u001b[0;34m(\u001b[0m\u001b[0;34m)\u001b[0m\u001b[0;34m\u001b[0m\u001b[0;34m\u001b[0m\u001b[0m\n\u001b[0m\u001b[1;32m     38\u001b[0m \u001b[0;31m#    print(data,\"\\n\")\u001b[0m\u001b[0;34m\u001b[0m\u001b[0;34m\u001b[0m\u001b[0;34m\u001b[0m\u001b[0m\n\u001b[1;32m     39\u001b[0m info = {'address' : address, \n",
      "\u001b[0;31mNameError\u001b[0m: name 'address' is not defined"
     ]
    }
   ],
   "source": [
    "import requests\n",
    "import json\n",
    "import numpy as np\n",
    "import pandas as pd\n",
    "\n",
    "from io import BytesIO\n",
    "from urllib.request import urlopen\n",
    "from zipfile import ZipFile\n",
    "\n",
    "import xarray\n",
    "import rioxarray\n",
    "\n",
    "import rasterio as rt\n",
    "from rasterio.mask import mask\n",
    "\n",
    "%matplotlib inline\n",
    "import matplotlib.pyplot as plt\n",
    "from shapely.geometry.polygon import Polygon\n",
    "\n",
    "import plotly.graph_objects as go\n",
    "\n",
    "from typing import Dict \n",
    "\n",
    "\n",
    "# we get the projection of the point data from our Canopy Height Model, \n",
    "# after examining the pandas DataFrame and seeing that the CRSs are the same\n",
    "dtm_src = 'data/DHMVIIDTMRAS1m_k15/GeoTIFF/DHMVIIDTMRAS1m_k15.tif'\n",
    "dtm_img = rt.open(dtm_src)\n",
    "dtm_array = dtm_img.read()\n",
    "# Get DSM data\n",
    "dsm_src = 'data/DHMVIIDSMRAS1m_k15/GeoTIFF/DHMVIIDSMRAS1m_k15.tif'\n",
    "dsm_img = rt.open(dsm_src)\n",
    "#show(dsm_img)\n",
    "dsm_array = dsm_img.read()\n",
    "CHM_HARV = dsm_array - dtm_array\n",
    "\n",
    "data = requests.get(f\"https://loc.geopunt.be/v4/Location?q={address}\").json()\n",
    "#    print(data,\"\\n\")\n",
    "info = {'address' : address, \n",
    "                'x_value' : data['LocationResult'][0]['Location']['X_Lambert72'],\n",
    "                'y_value' : data['LocationResult'][0]['Location']['Y_Lambert72'],\n",
    "                'street' : data['LocationResult'][0]['Thoroughfarename'],\n",
    "                'house_number' : data['LocationResult'][0]['Housenumber'], \n",
    "                'postcode': data['LocationResult'][0]['Zipcode'], \n",
    "                'municipality' : data['LocationResult'][0]['Municipality']}\n",
    "\n",
    "detail = requests.get(\"https://api.basisregisters.vlaanderen.be/v1/adresmatch\", \n",
    "                          params={\"postcode\": info['postcode'], \n",
    "                                  \"straatnaam\": info['street'],\n",
    "                                  \"huisnummer\": info['house_number']}).json()\n",
    "building = requests.get(detail['adresMatches'][0]['adresseerbareObjecten'][0]['detail']).json()\n",
    "build = requests.get(building['gebouw']['detail']).json()\n",
    "info['polygon'] = [build['geometriePolygoon']['polygon']]\n",
    "\n",
    "# get the polygon coordinates in a x and a y list\n",
    "poly = info[\"polygon\"]\n",
    "coords = poly[0][\"coordinates\"]\n",
    "\n",
    "x_arr = []\n",
    "y_arr = []\n",
    "\n",
    "for i in range(len(coords)):\n",
    "    lst = coords[i]\n",
    "\n",
    "for j in range(len(lst)):\n",
    "    x_arr.append(lst[j][0])\n",
    "    y_arr.append(lst[j][1])\n",
    "\n",
    "x_arr = np.array(x_arr)\n",
    "y_arr = np.array(y_arr)\n",
    "\n",
    "print(\"x: \", x_arr)\n",
    "print(\"y: \", y_arr)  \n",
    "\n",
    "\n",
    "#plot_locations_HARV = gpd.GeoDataFrame(plot_locations_HARV, \n",
    "#                    geometry=gpd.points_from_xy(x_arr, y_arr), \n",
    "#                    crs=CHM_HARV)\n",
    "\n",
    "plot_locations_HARV = gpd.GeoDataFrame(plot_locations_HARV, geometry=gpd.points_from_xy(x_arr, y_arr), crs=CHM_HARV)\n"
   ]
  },
  {
   "cell_type": "code",
   "execution_count": 9,
   "id": "1e58521a",
   "metadata": {},
   "outputs": [],
   "source": [
    "tm_src = 'data/DHMVIIDTMRAS1m_k15/GeoTIFF/DHMVIIDTMRAS1m_k15.tif'\n",
    "dtm_img = rt.open(dtm_src)"
   ]
  },
  {
   "cell_type": "code",
   "execution_count": 13,
   "id": "e6ed07cb",
   "metadata": {},
   "outputs": [
    {
     "data": {
      "text/plain": [
       "32000"
      ]
     },
     "execution_count": 13,
     "metadata": {},
     "output_type": "execute_result"
    }
   ],
   "source": [
    "dtm_img.width\n",
    "\n"
   ]
  },
  {
   "cell_type": "code",
   "execution_count": null,
   "id": "be35ad09",
   "metadata": {},
   "outputs": [],
   "source": []
  },
  {
   "cell_type": "code",
   "execution_count": null,
   "id": "d7c6af40",
   "metadata": {},
   "outputs": [],
   "source": []
  },
  {
   "cell_type": "code",
   "execution_count": null,
   "id": "5fdf660d",
   "metadata": {},
   "outputs": [],
   "source": []
  },
  {
   "cell_type": "code",
   "execution_count": null,
   "id": "cbdb1159",
   "metadata": {},
   "outputs": [],
   "source": []
  },
  {
   "cell_type": "code",
   "execution_count": 29,
   "id": "eafa6ef4",
   "metadata": {},
   "outputs": [
    {
     "ename": "AttributeError",
     "evalue": "'DataFrame' object has no attribute 'description'",
     "output_type": "error",
     "traceback": [
      "\u001b[0;31m---------------------------------------------------------------------------\u001b[0m",
      "\u001b[0;31mAttributeError\u001b[0m                            Traceback (most recent call last)",
      "\u001b[0;32m<ipython-input-29-a606a92042ee>\u001b[0m in \u001b[0;36m<module>\u001b[0;34m\u001b[0m\n\u001b[0;32m----> 1\u001b[0;31m \u001b[0maoi_boundary_HARV\u001b[0m\u001b[0;34m.\u001b[0m\u001b[0mbounds\u001b[0m\u001b[0;34m.\u001b[0m\u001b[0mdescription\u001b[0m\u001b[0;34m(\u001b[0m\u001b[0;34m)\u001b[0m\u001b[0;34m\u001b[0m\u001b[0;34m\u001b[0m\u001b[0m\n\u001b[0m",
      "\u001b[0;32m~/anaconda3/envs/py39/lib/python3.9/site-packages/pandas/core/generic.py\u001b[0m in \u001b[0;36m__getattr__\u001b[0;34m(self, name)\u001b[0m\n\u001b[1;32m   5463\u001b[0m             \u001b[0;32mif\u001b[0m \u001b[0mself\u001b[0m\u001b[0;34m.\u001b[0m\u001b[0m_info_axis\u001b[0m\u001b[0;34m.\u001b[0m\u001b[0m_can_hold_identifiers_and_holds_name\u001b[0m\u001b[0;34m(\u001b[0m\u001b[0mname\u001b[0m\u001b[0;34m)\u001b[0m\u001b[0;34m:\u001b[0m\u001b[0;34m\u001b[0m\u001b[0;34m\u001b[0m\u001b[0m\n\u001b[1;32m   5464\u001b[0m                 \u001b[0;32mreturn\u001b[0m \u001b[0mself\u001b[0m\u001b[0;34m[\u001b[0m\u001b[0mname\u001b[0m\u001b[0;34m]\u001b[0m\u001b[0;34m\u001b[0m\u001b[0;34m\u001b[0m\u001b[0m\n\u001b[0;32m-> 5465\u001b[0;31m             \u001b[0;32mreturn\u001b[0m \u001b[0mobject\u001b[0m\u001b[0;34m.\u001b[0m\u001b[0m__getattribute__\u001b[0m\u001b[0;34m(\u001b[0m\u001b[0mself\u001b[0m\u001b[0;34m,\u001b[0m \u001b[0mname\u001b[0m\u001b[0;34m)\u001b[0m\u001b[0;34m\u001b[0m\u001b[0;34m\u001b[0m\u001b[0m\n\u001b[0m\u001b[1;32m   5466\u001b[0m \u001b[0;34m\u001b[0m\u001b[0m\n\u001b[1;32m   5467\u001b[0m     \u001b[0;32mdef\u001b[0m \u001b[0m__setattr__\u001b[0m\u001b[0;34m(\u001b[0m\u001b[0mself\u001b[0m\u001b[0;34m,\u001b[0m \u001b[0mname\u001b[0m\u001b[0;34m:\u001b[0m \u001b[0mstr\u001b[0m\u001b[0;34m,\u001b[0m \u001b[0mvalue\u001b[0m\u001b[0;34m)\u001b[0m \u001b[0;34m->\u001b[0m \u001b[0;32mNone\u001b[0m\u001b[0;34m:\u001b[0m\u001b[0;34m\u001b[0m\u001b[0;34m\u001b[0m\u001b[0m\n",
      "\u001b[0;31mAttributeError\u001b[0m: 'DataFrame' object has no attribute 'description'"
     ]
    }
   ],
   "source": [
    "dsm_pre_arr = rxr.open_rasterio(dem_pre_path)\n",
    "cropped_img = dsm_pre_arr[:, 17500:20000, 17500:20000]\n",
    "\n",
    "cropped_img.plot()\n",
    "plt.show()\n",
    "\n"
   ]
  },
  {
   "cell_type": "code",
   "execution_count": 27,
   "id": "6ec98c46",
   "metadata": {},
   "outputs": [
    {
     "name": "stdout",
     "output_type": "stream",
     "text": [
      "154964.84225468338\n"
     ]
    },
    {
     "ename": "KeyError",
     "evalue": "0",
     "output_type": "error",
     "traceback": [
      "\u001b[0;31m---------------------------------------------------------------------------\u001b[0m",
      "\u001b[0;31mKeyError\u001b[0m                                  Traceback (most recent call last)",
      "\u001b[0;32m~/anaconda3/envs/py39/lib/python3.9/site-packages/pandas/core/indexes/base.py\u001b[0m in \u001b[0;36mget_loc\u001b[0;34m(self, key, method, tolerance)\u001b[0m\n\u001b[1;32m   3079\u001b[0m             \u001b[0;32mtry\u001b[0m\u001b[0;34m:\u001b[0m\u001b[0;34m\u001b[0m\u001b[0;34m\u001b[0m\u001b[0m\n\u001b[0;32m-> 3080\u001b[0;31m                 \u001b[0;32mreturn\u001b[0m \u001b[0mself\u001b[0m\u001b[0;34m.\u001b[0m\u001b[0m_engine\u001b[0m\u001b[0;34m.\u001b[0m\u001b[0mget_loc\u001b[0m\u001b[0;34m(\u001b[0m\u001b[0mcasted_key\u001b[0m\u001b[0;34m)\u001b[0m\u001b[0;34m\u001b[0m\u001b[0;34m\u001b[0m\u001b[0m\n\u001b[0m\u001b[1;32m   3081\u001b[0m             \u001b[0;32mexcept\u001b[0m \u001b[0mKeyError\u001b[0m \u001b[0;32mas\u001b[0m \u001b[0merr\u001b[0m\u001b[0;34m:\u001b[0m\u001b[0;34m\u001b[0m\u001b[0;34m\u001b[0m\u001b[0m\n",
      "\u001b[0;32mpandas/_libs/index.pyx\u001b[0m in \u001b[0;36mpandas._libs.index.IndexEngine.get_loc\u001b[0;34m()\u001b[0m\n",
      "\u001b[0;32mpandas/_libs/index.pyx\u001b[0m in \u001b[0;36mpandas._libs.index.IndexEngine.get_loc\u001b[0;34m()\u001b[0m\n",
      "\u001b[0;32mpandas/_libs/hashtable_class_helper.pxi\u001b[0m in \u001b[0;36mpandas._libs.hashtable.PyObjectHashTable.get_item\u001b[0;34m()\u001b[0m\n",
      "\u001b[0;32mpandas/_libs/hashtable_class_helper.pxi\u001b[0m in \u001b[0;36mpandas._libs.hashtable.PyObjectHashTable.get_item\u001b[0;34m()\u001b[0m\n",
      "\u001b[0;31mKeyError\u001b[0m: 0",
      "\nThe above exception was the direct cause of the following exception:\n",
      "\u001b[0;31mKeyError\u001b[0m                                  Traceback (most recent call last)",
      "\u001b[0;32m<ipython-input-27-19fbe3acf5f6>\u001b[0m in \u001b[0;36m<module>\u001b[0;34m\u001b[0m\n\u001b[1;32m      1\u001b[0m \u001b[0mprint\u001b[0m\u001b[0;34m(\u001b[0m\u001b[0mx_arr\u001b[0m\u001b[0;34m.\u001b[0m\u001b[0mmin\u001b[0m\u001b[0;34m(\u001b[0m\u001b[0;34m)\u001b[0m\u001b[0;34m)\u001b[0m\u001b[0;34m\u001b[0m\u001b[0;34m\u001b[0m\u001b[0m\n\u001b[0;32m----> 2\u001b[0;31m \u001b[0mprint\u001b[0m\u001b[0;34m(\u001b[0m\u001b[0mint\u001b[0m\u001b[0;34m(\u001b[0m\u001b[0maoi_boundary_HARV\u001b[0m\u001b[0;34m.\u001b[0m\u001b[0mbounds\u001b[0m\u001b[0;34m[\u001b[0m\u001b[0;36m0\u001b[0m\u001b[0;34m]\u001b[0m\u001b[0;34m.\u001b[0m\u001b[0mmin\u001b[0m\u001b[0;34m(\u001b[0m\u001b[0;34m)\u001b[0m\u001b[0;34m)\u001b[0m\u001b[0;34m)\u001b[0m\u001b[0;34m\u001b[0m\u001b[0;34m\u001b[0m\u001b[0m\n\u001b[0m\u001b[1;32m      3\u001b[0m \u001b[0mprint\u001b[0m\u001b[0;34m(\u001b[0m\u001b[0mx_arr\u001b[0m\u001b[0;34m.\u001b[0m\u001b[0mmax\u001b[0m\u001b[0;34m(\u001b[0m\u001b[0;34m)\u001b[0m\u001b[0;34m)\u001b[0m\u001b[0;34m\u001b[0m\u001b[0;34m\u001b[0m\u001b[0m\n\u001b[1;32m      4\u001b[0m \u001b[0;34m\u001b[0m\u001b[0m\n\u001b[1;32m      5\u001b[0m \u001b[0mprint\u001b[0m\u001b[0;34m(\u001b[0m\u001b[0my_arr\u001b[0m\u001b[0;34m.\u001b[0m\u001b[0mmin\u001b[0m\u001b[0;34m(\u001b[0m\u001b[0;34m)\u001b[0m\u001b[0;34m)\u001b[0m\u001b[0;34m\u001b[0m\u001b[0;34m\u001b[0m\u001b[0m\n",
      "\u001b[0;32m~/anaconda3/envs/py39/lib/python3.9/site-packages/pandas/core/frame.py\u001b[0m in \u001b[0;36m__getitem__\u001b[0;34m(self, key)\u001b[0m\n\u001b[1;32m   3022\u001b[0m             \u001b[0;32mif\u001b[0m \u001b[0mself\u001b[0m\u001b[0;34m.\u001b[0m\u001b[0mcolumns\u001b[0m\u001b[0;34m.\u001b[0m\u001b[0mnlevels\u001b[0m \u001b[0;34m>\u001b[0m \u001b[0;36m1\u001b[0m\u001b[0;34m:\u001b[0m\u001b[0;34m\u001b[0m\u001b[0;34m\u001b[0m\u001b[0m\n\u001b[1;32m   3023\u001b[0m                 \u001b[0;32mreturn\u001b[0m \u001b[0mself\u001b[0m\u001b[0;34m.\u001b[0m\u001b[0m_getitem_multilevel\u001b[0m\u001b[0;34m(\u001b[0m\u001b[0mkey\u001b[0m\u001b[0;34m)\u001b[0m\u001b[0;34m\u001b[0m\u001b[0;34m\u001b[0m\u001b[0m\n\u001b[0;32m-> 3024\u001b[0;31m             \u001b[0mindexer\u001b[0m \u001b[0;34m=\u001b[0m \u001b[0mself\u001b[0m\u001b[0;34m.\u001b[0m\u001b[0mcolumns\u001b[0m\u001b[0;34m.\u001b[0m\u001b[0mget_loc\u001b[0m\u001b[0;34m(\u001b[0m\u001b[0mkey\u001b[0m\u001b[0;34m)\u001b[0m\u001b[0;34m\u001b[0m\u001b[0;34m\u001b[0m\u001b[0m\n\u001b[0m\u001b[1;32m   3025\u001b[0m             \u001b[0;32mif\u001b[0m \u001b[0mis_integer\u001b[0m\u001b[0;34m(\u001b[0m\u001b[0mindexer\u001b[0m\u001b[0;34m)\u001b[0m\u001b[0;34m:\u001b[0m\u001b[0;34m\u001b[0m\u001b[0;34m\u001b[0m\u001b[0m\n\u001b[1;32m   3026\u001b[0m                 \u001b[0mindexer\u001b[0m \u001b[0;34m=\u001b[0m \u001b[0;34m[\u001b[0m\u001b[0mindexer\u001b[0m\u001b[0;34m]\u001b[0m\u001b[0;34m\u001b[0m\u001b[0;34m\u001b[0m\u001b[0m\n",
      "\u001b[0;32m~/anaconda3/envs/py39/lib/python3.9/site-packages/pandas/core/indexes/base.py\u001b[0m in \u001b[0;36mget_loc\u001b[0;34m(self, key, method, tolerance)\u001b[0m\n\u001b[1;32m   3080\u001b[0m                 \u001b[0;32mreturn\u001b[0m \u001b[0mself\u001b[0m\u001b[0;34m.\u001b[0m\u001b[0m_engine\u001b[0m\u001b[0;34m.\u001b[0m\u001b[0mget_loc\u001b[0m\u001b[0;34m(\u001b[0m\u001b[0mcasted_key\u001b[0m\u001b[0;34m)\u001b[0m\u001b[0;34m\u001b[0m\u001b[0;34m\u001b[0m\u001b[0m\n\u001b[1;32m   3081\u001b[0m             \u001b[0;32mexcept\u001b[0m \u001b[0mKeyError\u001b[0m \u001b[0;32mas\u001b[0m \u001b[0merr\u001b[0m\u001b[0;34m:\u001b[0m\u001b[0;34m\u001b[0m\u001b[0;34m\u001b[0m\u001b[0m\n\u001b[0;32m-> 3082\u001b[0;31m                 \u001b[0;32mraise\u001b[0m \u001b[0mKeyError\u001b[0m\u001b[0;34m(\u001b[0m\u001b[0mkey\u001b[0m\u001b[0;34m)\u001b[0m \u001b[0;32mfrom\u001b[0m \u001b[0merr\u001b[0m\u001b[0;34m\u001b[0m\u001b[0;34m\u001b[0m\u001b[0m\n\u001b[0m\u001b[1;32m   3083\u001b[0m \u001b[0;34m\u001b[0m\u001b[0m\n\u001b[1;32m   3084\u001b[0m         \u001b[0;32mif\u001b[0m \u001b[0mtolerance\u001b[0m \u001b[0;32mis\u001b[0m \u001b[0;32mnot\u001b[0m \u001b[0;32mNone\u001b[0m\u001b[0;34m:\u001b[0m\u001b[0;34m\u001b[0m\u001b[0;34m\u001b[0m\u001b[0m\n",
      "\u001b[0;31mKeyError\u001b[0m: 0"
     ]
    }
   ],
   "source": [
    "print(x_arr.min())\n",
    "print(int(aoi_boundary_HARV.bounds[0].min()))\n",
    "print(x_arr.max())\n",
    "\n",
    "print(y_arr.min())\n",
    "\n",
    "print(y_arr.max())\n",
    "\n",
    "yAbsB = y_"
   ]
  },
  {
   "cell_type": "code",
   "execution_count": 16,
   "id": "85716e03",
   "metadata": {},
   "outputs": [
    {
     "ename": "SyntaxError",
     "evalue": "invalid syntax (<ipython-input-16-3fdb4bf1e4ef>, line 5)",
     "output_type": "error",
     "traceback": [
      "\u001b[0;36m  File \u001b[0;32m\"<ipython-input-16-3fdb4bf1e4ef>\"\u001b[0;36m, line \u001b[0;32m5\u001b[0m\n\u001b[0;31m    yBottom =  int(aoi_boundary_HARV.bounds[1]) - int(y_arr.min)\u001b[0m\n\u001b[0m    ^\u001b[0m\n\u001b[0;31mSyntaxError\u001b[0m\u001b[0;31m:\u001b[0m invalid syntax\n"
     ]
    }
   ],
   "source": [
    "# get the max and min coordinates from the polygon for \n",
    "# in order to calculate the relative coordinates for the box\n",
    "\n",
    "xLeft = int(x_arr.min()- int(aoi_boundary_HARV.bounds[0])\n",
    "yBottom =  int(aoi_boundary_HARV.bounds[1]) - int(y_arr.min)\n",
    "xRight = int(x_arr.max() - int(aoi_boundary_HARV.bounds[2])\n",
    "yTop = int(y_arr.max() - int(aoi_boundary_HARV.bounds[3])\n",
    "print(xLeft, yBottom, xRight, yTop)"
   ]
  },
  {
   "cell_type": "code",
   "execution_count": null,
   "id": "b76e67b8",
   "metadata": {},
   "outputs": [],
   "source": []
  },
  {
   "cell_type": "code",
   "execution_count": null,
   "id": "7e71fe55",
   "metadata": {},
   "outputs": [],
   "source": []
  },
  {
   "cell_type": "code",
   "execution_count": 60,
   "id": "04c176f7",
   "metadata": {},
   "outputs": [
    {
     "name": "stdout",
     "output_type": "stream",
     "text": [
      "The CRS for this data is: EPSG:31370\n",
      "The spatial extent is: (130000.0, 198000.0, 162000.0, 218000.0)\n"
     ]
    }
   ],
   "source": [
    "# View the Coordinate Reference System (CRS) & spatial extent\n",
    "print(\"The CRS for this data is:\", dsm_pre_arr.rio.crs)\n",
    "print(\"The spatial extent is:\", dsm_pre_arr.rio.bounds())\n"
   ]
  },
  {
   "cell_type": "code",
   "execution_count": null,
   "id": "0916c92b",
   "metadata": {},
   "outputs": [],
   "source": [
    "print(\"The no data value is:\", dsm_pre_arr.rio.nodata)"
   ]
  },
  {
   "cell_type": "code",
   "execution_count": null,
   "id": "bf31836a",
   "metadata": {},
   "outputs": [],
   "source": []
  },
  {
   "cell_type": "code",
   "execution_count": null,
   "id": "09fa56d5",
   "metadata": {},
   "outputs": [],
   "source": []
  },
  {
   "cell_type": "code",
   "execution_count": null,
   "id": "52287916",
   "metadata": {},
   "outputs": [],
   "source": []
  },
  {
   "cell_type": "code",
   "execution_count": null,
   "id": "01f98389",
   "metadata": {},
   "outputs": [],
   "source": []
  },
  {
   "cell_type": "code",
   "execution_count": 7,
   "id": "78da6cfe",
   "metadata": {},
   "outputs": [
    {
     "name": "stdout",
     "output_type": "stream",
     "text": [
      "{'type': 'Polygon', 'coordinates': [[[4.082181, 51.271534], [4.08328, 51.091765], [4.540042, 51.091983], [4.540706, 51.271753], [4.082181, 51.271534]]]}\n"
     ]
    }
   ],
   "source": [
    "import rasterio\n",
    "import rasterio.features\n",
    "import rasterio.warp\n",
    "\n",
    "with rasterio.open(\"data/DHMVIIDSMRAS1m_k15/GeoTIFF/DHMVIIDSMRAS1m_k15.tif\") as dataset:\n",
    "\n",
    "    # Read the dataset's valid data mask as a ndarray.\n",
    "    mask = dataset.dataset_mask()\n",
    "\n",
    "    # Extract feature shapes and values from the array.\n",
    "    for geom, val in rasterio.features.shapes(\n",
    "            mask, transform=dataset.transform):\n",
    "\n",
    "        # Transform shapes from the dataset's own coordinate\n",
    "        # reference system to CRS84 (EPSG:4326).\n",
    "        geom = rasterio.warp.transform_geom(\n",
    "            dataset.crs, 'EPSG:4326', geom, precision=6)\n",
    "\n",
    "        # Print GeoJSON shapes to stdout.\n",
    "        print(geom)"
   ]
  },
  {
   "cell_type": "code",
   "execution_count": 6,
   "id": "81ca2d4b",
   "metadata": {},
   "outputs": [
    {
     "name": "stdout",
     "output_type": "stream",
     "text": [
      "{'type': 'Polygon', 'coordinates': [[[4.082181, 51.271534], [4.08328, 51.091765], [4.540042, 51.091983], [4.540706, 51.271753], [4.082181, 51.271534]]]}\n"
     ]
    }
   ],
   "source": [
    "import rasterio\n",
    "import rasterio.features\n",
    "import rasterio.warp\n",
    "\n",
    "with rasterio.open(\"data/DHMVIIDTMRAS1m_k15/GeoTIFF/DHMVIIDTMRAS1m_k15.tif\") as dataset:\n",
    "\n",
    "    # Read the dataset's valid data mask as a ndarray.\n",
    "    mask = dataset.dataset_mask()\n",
    "\n",
    "    # Extract feature shapes and values from the array.\n",
    "    for geom, val in rasterio.features.shapes(\n",
    "            mask, transform=dataset.transform):\n",
    "\n",
    "        # Transform shapes from the dataset's own coordinate\n",
    "        # reference system to CRS84 (EPSG:4326).\n",
    "        geom = rasterio.warp.transform_geom(\n",
    "            dataset.crs, 'EPSG:4326', geom, precision=6)\n",
    "\n",
    "        # Print GeoJSON shapes to stdout.\n",
    "        print(geom)"
   ]
  },
  {
   "cell_type": "code",
   "execution_count": 1,
   "id": "bfb1c862",
   "metadata": {},
   "outputs": [
    {
     "data": {
      "image/png": "[encoded data removed]",
      "text/plain": [
       "<Figure size 432x288 with 1 Axes>"
      ]
     },
     "metadata": {
      "needs_background": "light"
     },
     "output_type": "display_data"
    }
   ],
   "source": [
    "import rasterio\n",
    "from matplotlib import pyplot\n",
    "src = rasterio.open(\"data/DHMVIIDTMRAS1m_k15/GeoTIFF/DHMVIIDTMRAS1m_k15.tif\")\n",
    "pyplot.imshow(src.read(1), cmap='pink')\n",
    "#<matplotlib.image.AxesImage object at 0x...>\n",
    "pyplot.show()"
   ]
  },
  {
   "cell_type": "code",
   "execution_count": null,
   "id": "ecf6beaa",
   "metadata": {},
   "outputs": [],
   "source": []
  },
  {
   "cell_type": "code",
   "execution_count": null,
   "id": "5a42560a",
   "metadata": {},
   "outputs": [],
   "source": []
  },
  {
   "cell_type": "code",
   "execution_count": null,
   "id": "822bdbc7",
   "metadata": {},
   "outputs": [],
   "source": []
  },
  {
   "cell_type": "code",
   "execution_count": null,
   "id": "00580c20",
   "metadata": {},
   "outputs": [],
   "source": []
  },
  {
   "cell_type": "code",
   "execution_count": null,
   "id": "25888483",
   "metadata": {},
   "outputs": [],
   "source": []
  },
  {
   "cell_type": "code",
   "execution_count": null,
   "id": "d8d3fb9c",
   "metadata": {},
   "outputs": [],
   "source": []
  },
  {
   "cell_type": "code",
   "execution_count": null,
   "id": "34ed21f9",
   "metadata": {},
   "outputs": [],
   "source": []
  },
  {
   "cell_type": "code",
   "execution_count": 22,
   "id": "bfe3352b",
   "metadata": {},
   "outputs": [
    {
     "data": {
      "text/plain": [
       "' position a slice on the map to reduce data '"
      ]
     },
     "execution_count": 22,
     "metadata": {},
     "output_type": "execute_result"
    }
   ],
   "source": [
    "\"\"\" position a slice on the map to reduce data \"\"\""
   ]
  },
  {
   "cell_type": "code",
   "execution_count": null,
   "id": "6358e295",
   "metadata": {},
   "outputs": [],
   "source": [
    "\n"
   ]
  },
  {
   "cell_type": "code",
   "execution_count": null,
   "id": "68134696",
   "metadata": {},
   "outputs": [],
   "source": [
    "\"\"\" make a function to search the right file \"\"\""
   ]
  },
  {
   "cell_type": "code",
   "execution_count": null,
   "id": "e1e929b6",
   "metadata": {},
   "outputs": [],
   "source": []
  },
  {
   "cell_type": "code",
   "execution_count": null,
   "id": "ac6f665f",
   "metadata": {},
   "outputs": [],
   "source": []
  }
 ],
 "metadata": {
  "kernelspec": {
   "display_name": "py39",
   "language": "python",
   "name": "py39"
  },
  "language_info": {
   "codemirror_mode": {
    "name": "ipython",
    "version": 3
   },
   "file_extension": ".py",
   "mimetype": "text/x-python",
   "name": "python",
   "nbconvert_exporter": "python",
   "pygments_lexer": "ipython3",
   "version": "3.9.4"
  }
 },
 "nbformat": 4,
 "nbformat_minor": 5
}
