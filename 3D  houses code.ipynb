{
 "cells": [
  {
   "cell_type": "code",
   "execution_count": null,
   "id": "a91d87a9",
   "metadata": {},
   "outputs": [],
   "source": [
    "\"\"\" FINAL GOAL IS:\n",
    "    =============\n",
    "    You get an address and your program models that house in 3D\n",
    "\"\"\""
   ]
  },
  {
   "cell_type": "code",
   "execution_count": null,
   "id": "543a0c5a",
   "metadata": {},
   "outputs": [],
   "source": [
    "\"\"\"\n",
    "The request for this challenge:\n",
    "==============================\n",
    "- <what?> Given a random home address, model a house in 3D\n",
    "- <why?> This can help the insurance business\n",
    "\"\"\""
   ]
  },
  {
   "cell_type": "code",
   "execution_count": null,
   "id": "698d7e8b",
   "metadata": {},
   "outputs": [],
   "source": [
    "\"\"\"\n",
    "Steps:\n",
    "=====\n",
    "-1- download the maps \n",
    "-2- Identify the technical challenges needed\n",
    "\"\"\""
   ]
  },
  {
   "cell_type": "code",
   "execution_count": null,
   "id": "1a4d2b9b",
   "metadata": {},
   "outputs": [],
   "source": [
    "\"\"\"\n",
    "Step 1\n",
    "Download the maps:\n",
    "=================\n",
    "DSM\n",
    "\"\"\""
   ]
  },
  {
   "cell_type": "code",
   "execution_count": null,
   "id": "c11f35c3",
   "metadata": {},
   "outputs": [],
   "source": []
  },
  {
   "cell_type": "code",
   "execution_count": null,
   "id": "fa9e919b",
   "metadata": {},
   "outputs": [],
   "source": [
    "\"\"\"\n",
    "Step 2\n",
    "Technical challeges:\n",
    "===================\n",
    "\"\"\""
   ]
  },
  {
   "cell_type": "code",
   "execution_count": null,
   "id": "690d1f55",
   "metadata": {},
   "outputs": [],
   "source": [
    "\"\"\"\n",
    "- Shapefile:\n",
    "  ---------  \n",
    "    is a geospatial vector data format for geographic information system (GIS) software.\n",
    "    The shapefile format can spatially describe vector features: points, lines and polygons, representing\n",
    "    f.e. water wells, rivers, and lakes.\n",
    "    Each item usually has attributes that describe it, such as name or temperature.\n",
    "\n",
    "    -- Shapefile shape format (.shp)\n",
    "        The main file contains the geometry data\n",
    "\n",
    "    -- Shapefile shape index format (.shx)\n",
    "        The index file contains positional index of the feature geometry and the same 100-byte header as the .shp ..\n",
    "\n",
    "    -- Shapefile attribute format (.dbf)\n",
    "        This file stores the attributes for each shape (using dBase IV format)\n",
    "\n",
    "<source: wikipedia>\n",
    "\n",
    "    -- use PyShp for reading and writing ESRI Shapefiles in pure Python (pip install pyshp)\n",
    "\"\"\""
   ]
  },
  {
   "cell_type": "code",
   "execution_count": null,
   "id": "8477ac22",
   "metadata": {},
   "outputs": [],
   "source": [
    "\"\"\"\n",
    "- GeoTIFF:\n",
    "  -------\n",
    "    is a standard .tif or image file format that includes additinoal spacing (georeferencing) information\n",
    "    embedded in the .tif file as tags (tig tags).\n",
    "    These tags can include the following raster metadata:\n",
    "    -1- Spatial Extent (what aria does this dataset cover)\n",
    "    -2- Coordinate reference system (what spatial projection : coordinate reference system is used to store\n",
    "        the data?  Will it line up with other data?)\n",
    "    -3- Resolution (The data appears to be in raster format; i.o.w. composed of pixels)\n",
    "    -4- nodata value\n",
    "    -5- How many layers are in the .tif file\n",
    "    \n",
    "<source: www.earthdatascience.org/ .. /intro-to-the-geotiff-file-format/\n",
    "\n",
    "    -- use PyPi (is a noGDAL tool for reading geotiff files)\n",
    "        --- noGDAL = Geospatial Python without GDAL\n",
    "                (GDAL = a translator library for raster and vector geospatial data formats ...)\n",
    "        (pip install geotiff) (pip install rioxarray)\n",
    "\"\"\""
   ]
  },
  {
   "cell_type": "code",
   "execution_count": null,
   "id": "029b7810",
   "metadata": {},
   "outputs": [],
   "source": [
    "\"\"\"\n",
    "De data worden aangeboden in GeoTIFF-formaat met volgende parameters:\n",
    "\n",
    "PARAMETER     WAARDE                  OPMERKINGEN\n",
    "------------------------------------------------------------------------------------\n",
    "Pixelgrootte  1 m / 5 m               Afhankelijk van het type product\n",
    "Datatype      floating point 32 bit\n",
    "Compressie    deflate\n",
    "NoData Value  -9999\n",
    "piramides     ja                      standaard berekend voor een versnelde weergave\n",
    "colormaps     nee                     er is geen standaard legende toegepast\n",
    "CRS           EPSG 31370              Belgische Lambert 1972 projectie\n",
    "2.2           TAW                     Tweede Algemene Waterpassing\n",
    "\n",
    "\"\"\""
   ]
  },
  {
   "cell_type": "code",
   "execution_count": null,
   "id": "c57027b7",
   "metadata": {},
   "outputs": [],
   "source": [
    "\"\"\"\n",
    "Naamgeving downloadpakket\n",
    "De naamgeving van het downloadpakket per artikel is gelijk aan de code van het artikel:\n",
    "    Pakketnaam = “<codeArtikel>.zip”\n",
    "     voorbeeld: “DHMVIIDTMRAS1m_k07.zip”\n",
    "\n",
    "Mappenstructuur downloadpakket\n",
    "In het downloadpakket per artikel zitten volgende mappen:\n",
    "(Try to understand the data)\n",
    "\n",
    "<pakketnaam>.zip\n",
    "    └<pakketnaam>\n",
    "        ├───<documenten>\n",
    "        └───<formaatmap>\n",
    "            └───<data>\n",
    "\"\"\""
   ]
  },
  {
   "cell_type": "code",
   "execution_count": null,
   "id": "a9f25218",
   "metadata": {},
   "outputs": [],
   "source": [
    "\"\"\"\n",
    "- Lidar:\n",
    "  -----\n",
    "    is a method for detertmining ranges (variable distance) by targeting an object with a laser and measuring\n",
    "    the time for the reflected light to return to the receiver.  Linar can also be used to make digital\n",
    "    3-D representations \n",
    "    \n",
    "    f.e.: Forestry\n",
    "            Lidar systems have also been applied to improve forestry management.\n",
    "            Measurements are used to take inventory in forest plots as well as calculate individual tree heights,\n",
    "            crown width and crown diameter.\n",
    "    \n",
    "<source: wikipedia>\n",
    "\n",
    "    (pip install lidar)\n",
    "<source: pypi.org/project/lidar>\n",
    "\"\"\""
   ]
  },
  {
   "cell_type": "code",
   "execution_count": null,
   "id": "9d05cf27",
   "metadata": {},
   "outputs": [],
   "source": [
    "\"\"\" Before starting to code:\n",
    "    =======================\n",
    "    THE PLAN:\n",
    "    --------\n",
    "        -- download all data from DSM and DTM form the 3D_houses.md\n",
    "\"\"\""
   ]
  },
  {
   "cell_type": "code",
   "execution_count": null,
   "id": "b4194627",
   "metadata": {},
   "outputs": [],
   "source": [
    "\"\"\"\n",
    "try: numpy\n",
    "\n",
    "Rasterio: access to geospatial raster data (numeric format)\n",
    "\n",
    "\"\"\""
   ]
  },
  {
   "cell_type": "code",
   "execution_count": null,
   "id": "b85894e6",
   "metadata": {},
   "outputs": [],
   "source": [
    "\"\"\" check the given address \"\"\"\n",
    "import geopandas as gpd\n",
    "\n",
    "address = \"Lange Van Sterbeeckstraat 8 2060 Antwerpen\"\n",
    "gpd.tools.geocode(address)\n"
   ]
  },
  {
   "cell_type": "code",
   "execution_count": null,
   "id": "6e247431",
   "metadata": {
    "scrolled": true
   },
   "outputs": [],
   "source": [
    "# with PyShp\n",
    "\n",
    "import shapefile\n",
    "shape = shapefile.Reader(\"data/DHMVII_vdc_k01.shp\")\n",
    "#first feature of the shapefile\n",
    "feature = shape.shapeRecords()[0]\n",
    "first = feature.shape.__geo_interface__  \n",
    "print(first) # (GeoJSON format)\n",
    "{'type': 'LineString', 'coordinates': ((0.0, 0.0), (25.0, 10.0), (50.0, 50.0))}\n"
   ]
  },
  {
   "cell_type": "code",
   "execution_count": null,
   "id": "f0af160c",
   "metadata": {
    "scrolled": true
   },
   "outputs": [],
   "source": [
    "\"\"\"\n",
    "# with Fiona\n",
    "\n",
    "import fiona\n",
    "shape = fiona.open(\"data/DHMVII_vdc_k01.shp\")\n",
    "print(shape.schema)\n",
    "{'geometry': 'LineString', 'properties': OrderedDict([(u'FID', 'float:11')])}\n",
    "#first feature of the shapefile\n",
    "first = shape.next()\n",
    "print(first) # (GeoJSON format)\n",
    "{'geometry': {'type': 'LineString', 'coordinates': [(0.0, 0.0), (25.0, 10.0), (50.0, 50.0)]}, 'type': 'Feature', 'id': '0', 'properties': OrderedDict([(u'FID', 0.0)])}\n",
    "\n",
    "# with ogr:\n",
    "\n",
    "from osgeo import ogr\n",
    "file = ogr.Open(\"data/DHMVII_vdc_k01.shp\")\n",
    "shape = file.GetLayer(0)\n",
    "#first feature of the shapefile\n",
    "feature = shape.GetFeature(0)\n",
    "first = feature.ExportToJson()\n",
    "print(first) # (GeoJSON format)\n",
    "{\"geometry\": {\"type\": \"LineString\", \"coordinates\": [[0.0, 0.0], [25.0, 10.0], [50.0, 50.0]]}, \"type\": \"Feature\", \"properties\": {\"FID\": 0.0}, \"id\": 0}\n",
    "\n",
    "\"\"\""
   ]
  },
  {
   "cell_type": "code",
   "execution_count": null,
   "id": "5a6e011e",
   "metadata": {},
   "outputs": [],
   "source": [
    "import pandas as pd\n",
    "from dbfread import DBF\n",
    "db_in_dbf = DBF(\"data/DHMVII_vdc_k01.dbf\")\n",
    "db = pd.DataFrame(db_in_dbf)\n",
    "db\n"
   ]
  },
  {
   "cell_type": "code",
   "execution_count": null,
   "id": "ea4fceb9",
   "metadata": {},
   "outputs": [],
   "source": []
  },
  {
   "cell_type": "code",
   "execution_count": 14,
   "id": "d1b5b0b6",
   "metadata": {},
   "outputs": [
    {
     "name": "stdout",
     "output_type": "stream",
     "text": [
      "[[[-9.999e+03 -9.999e+03 -9.999e+03 ...  1.275e+01  1.279e+01  1.280e+01]\n",
      "  [-9.999e+03 -9.999e+03 -9.999e+03 ...  1.280e+01  1.281e+01  1.284e+01]\n",
      "  [-9.999e+03 -9.999e+03 -9.999e+03 ...  1.284e+01  1.283e+01  1.288e+01]\n",
      "  ...\n",
      "  [ 4.520e+00  4.550e+00  4.570e+00 ...  1.680e+01  1.693e+01  1.690e+01]\n",
      "  [ 4.490e+00  4.570e+00  4.580e+00 ...  1.691e+01  1.691e+01  1.695e+01]\n",
      "  [ 4.480e+00  4.550e+00  4.570e+00 ...  1.687e+01  1.688e+01  1.691e+01]]]\n"
     ]
    },
    {
     "data": {
      "text/plain": [
       "(1, 9000, 17000)"
      ]
     },
     "execution_count": 14,
     "metadata": {},
     "output_type": "execute_result"
    }
   ],
   "source": [
    "\"\"\" Read the DSM files\"\"\"\n",
    "\n",
    "import numpy as np\n",
    "import rasterio\n",
    "from rasterio.plot import show\n",
    "\n",
    "dsm_src = 'data/DHMVIIDSMRAS1m_k01/GeoTIFF/DHMVIIDSMRAS1m_k01.tif'\n",
    "dsm_img = rasterio.open(dsm_src)\n",
    "#show(dsm_img)\n",
    "dsm_array = dsm_img.read()\n",
    "print(dsm_array)\n",
    "dsm_array.shape\n"
   ]
  },
  {
   "cell_type": "code",
   "execution_count": 15,
   "id": "1bbc655b",
   "metadata": {},
   "outputs": [
    {
     "name": "stdout",
     "output_type": "stream",
     "text": [
      "[[[-9.999e+03 -9.999e+03 -9.999e+03 ...  1.275e+01  1.279e+01  1.280e+01]\n",
      "  [-9.999e+03 -9.999e+03 -9.999e+03 ...  1.280e+01  1.281e+01  1.284e+01]\n",
      "  [-9.999e+03 -9.999e+03 -9.999e+03 ...  1.284e+01  1.283e+01  1.288e+01]\n",
      "  ...\n",
      "  [ 4.520e+00  4.550e+00  4.570e+00 ...  1.680e+01  1.693e+01  1.690e+01]\n",
      "  [ 4.490e+00  4.570e+00  4.580e+00 ...  1.691e+01  1.691e+01  1.693e+01]\n",
      "  [ 4.480e+00  4.550e+00  4.570e+00 ...  1.686e+01  1.688e+01  1.690e+01]]]\n"
     ]
    },
    {
     "data": {
      "text/plain": [
       "(1, 9000, 17000)"
      ]
     },
     "execution_count": 15,
     "metadata": {},
     "output_type": "execute_result"
    }
   ],
   "source": [
    "\"\"\" Read the DTM files\"\"\"\n",
    "\n",
    "import numpy as np\n",
    "import rasterio\n",
    "from rasterio.plot import show\n",
    "\n",
    "dtm_src = 'data/DHMVIIDTMRAS1m_k01/GeoTIFF/DHMVIIDTMRAS1m_k01.tif'\n",
    "dtm_img = rasterio.open(dtm_src)\n",
    "#show(dtm_img)\n",
    "dtm_array = dtm_img.read()\n",
    "print(dtm_array)\n",
    "dtm_array.shape\n"
   ]
  },
  {
   "cell_type": "code",
   "execution_count": 20,
   "id": "b6bd8c99",
   "metadata": {},
   "outputs": [
    {
     "data": {
      "text/plain": [
       "(1, 9000, 17000)"
      ]
     },
     "execution_count": 20,
     "metadata": {},
     "output_type": "execute_result"
    }
   ],
   "source": [
    "\"\"\" Make the heights visible < DSM minus DTM > \"\"\"\n",
    "\n",
    "height_dsm_min_dtm = dsm_array - dtm_array\n",
    "height_dsm_min_dtm\n",
    "height_dsm_min_dtm.shape"
   ]
  },
  {
   "cell_type": "code",
   "execution_count": 27,
   "id": "06faee7e",
   "metadata": {},
   "outputs": [
    {
     "name": "stderr",
     "output_type": "stream",
     "text": [
      "<ipython-input-27-ef5a60683f8e>:9: FutureWarning: Using a non-tuple sequence for multidimensional indexing is deprecated; use `arr[tuple(seq)]` instead of `arr[seq]`. In the future this will be interpreted as an array index, `arr[np.array(seq)]`, which will result either in an error or a different result.\n",
      "  height_dsm_min_dtm[['label']].to_numpy()\n"
     ]
    },
    {
     "ename": "IndexError",
     "evalue": "only integers, slices (`:`), ellipsis (`...`), numpy.newaxis (`None`) and integer or boolean arrays are valid indices",
     "output_type": "error",
     "traceback": [
      "\u001b[0;31m---------------------------------------------------------------------------\u001b[0m",
      "\u001b[0;31mIndexError\u001b[0m                                Traceback (most recent call last)",
      "\u001b[0;32m<ipython-input-27-ef5a60683f8e>\u001b[0m in \u001b[0;36m<module>\u001b[0;34m\u001b[0m\n\u001b[1;32m      7\u001b[0m \u001b[0;31m#numpy_data = np.array([[1, 2], [3, 4]])\u001b[0m\u001b[0;34m\u001b[0m\u001b[0;34m\u001b[0m\u001b[0;34m\u001b[0m\u001b[0m\n\u001b[1;32m      8\u001b[0m \u001b[0;31m#b=df.iloc[:,1:].values\u001b[0m\u001b[0;34m\u001b[0m\u001b[0;34m\u001b[0m\u001b[0;34m\u001b[0m\u001b[0m\n\u001b[0;32m----> 9\u001b[0;31m \u001b[0mheight_dsm_min_dtm\u001b[0m\u001b[0;34m[\u001b[0m\u001b[0;34m[\u001b[0m\u001b[0;34m'label'\u001b[0m\u001b[0;34m]\u001b[0m\u001b[0;34m]\u001b[0m\u001b[0;34m.\u001b[0m\u001b[0mto_numpy\u001b[0m\u001b[0;34m(\u001b[0m\u001b[0;34m)\u001b[0m\u001b[0;34m\u001b[0m\u001b[0;34m\u001b[0m\u001b[0m\n\u001b[0m\u001b[1;32m     10\u001b[0m \u001b[0;34m\u001b[0m\u001b[0m\n\u001b[1;32m     11\u001b[0m \u001b[0;34m\u001b[0m\u001b[0m\n",
      "\u001b[0;31mIndexError\u001b[0m: only integers, slices (`:`), ellipsis (`...`), numpy.newaxis (`None`) and integer or boolean arrays are valid indices"
     ]
    }
   ],
   "source": [
    "\"\"\" Make an image \"\"\"\n",
    "import pandas as pd\n",
    "from matplotlib import pyplot as plt\n",
    "%matplotlib inline\n",
    "import seaborn as sns\n",
    "\n",
    "#numpy_data = np.array([[1, 2], [3, 4]])\n",
    "#b=df.iloc[:,1:].values\n",
    "height_dsm_min_dtm[['label']].to_numpy()\n",
    "\n",
    "\n",
    "# Distribution Plot\n",
    "#sns.distplot(df.Attack)\n",
    "# Density Plot\n",
    "#sns.kdeplot(df.Attack, df.Defense)"
   ]
  },
  {
   "cell_type": "code",
   "execution_count": null,
   "id": "3dfdbb8c",
   "metadata": {},
   "outputs": [],
   "source": []
  },
  {
   "cell_type": "code",
   "execution_count": null,
   "id": "4644a8f3",
   "metadata": {},
   "outputs": [],
   "source": []
  },
  {
   "cell_type": "code",
   "execution_count": null,
   "id": "f3b1b9c5",
   "metadata": {},
   "outputs": [],
   "source": []
  },
  {
   "cell_type": "code",
   "execution_count": null,
   "id": "b437bdbe",
   "metadata": {},
   "outputs": [],
   "source": []
  },
  {
   "cell_type": "code",
   "execution_count": null,
   "id": "fff938ad",
   "metadata": {},
   "outputs": [],
   "source": [
    "# since there are 3 bands\n",
    "# we store in 3 different variables\n",
    "band1 = dataset.GetRasterBand(1) # Red channel\n",
    "band2 = dataset.GetRasterBand(2) # Green channel\n",
    "band3 = dataset.GetRasterBand(3) # Blue channel"
   ]
  },
  {
   "cell_type": "code",
   "execution_count": null,
   "id": "61a6dc3e",
   "metadata": {},
   "outputs": [],
   "source": [
    "b1 = band1.ReadAsArray()\n",
    "b2 = band2.ReadAsArray()\n",
    "b3 = band3.ReadAsArray()"
   ]
  },
  {
   "cell_type": "code",
   "execution_count": null,
   "id": "50db4b36",
   "metadata": {},
   "outputs": [],
   "source": [
    "\"\"\" Read DSM & DTM \"\"\"\n",
    "import numpy as np\n",
    "import matplotlib.pyplot as plt\n",
    "import seaborn as sns\n",
    "import geopandas as gpd\n",
    "\n",
    "bounds = gpd.read_file('')\n",
    "\n",
    "\n",
    "\n",
    "\n",
    "numpy array"
   ]
  },
  {
   "cell_type": "code",
   "execution_count": null,
   "id": "c3450252",
   "metadata": {},
   "outputs": [],
   "source": [
    "dir()"
   ]
  },
  {
   "cell_type": "code",
   "execution_count": null,
   "id": "136280b9",
   "metadata": {},
   "outputs": [],
   "source": []
  }
 ],
 "metadata": {
  "kernelspec": {
   "display_name": "py39",
   "language": "python",
   "name": "py39"
  },
  "language_info": {
   "codemirror_mode": {
    "name": "ipython",
    "version": 3
   },
   "file_extension": ".py",
   "mimetype": "text/x-python",
   "name": "python",
   "nbconvert_exporter": "python",
   "pygments_lexer": "ipython3",
   "version": "3.9.4"
  }
 },
 "nbformat": 4,
 "nbformat_minor": 5
}
