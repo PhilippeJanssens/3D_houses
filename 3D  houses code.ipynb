{
 "cells": [
  {
   "cell_type": "code",
   "execution_count": null,
   "id": "a91d87a9",
   "metadata": {},
   "outputs": [],
   "source": [
    "\"\"\" FINAL GOAL IS:\n",
    "    =============\n",
    "    You get an address and your program models that house in 3D\n",
    "\"\"\""
   ]
  },
  {
   "cell_type": "code",
   "execution_count": null,
   "id": "543a0c5a",
   "metadata": {},
   "outputs": [],
   "source": [
    "\"\"\"\n",
    "The request for this challenge:\n",
    "==============================\n",
    "- <what?> Given a random home address, model a house in 3D\n",
    "- <why?> This can help the insurance business\n",
    "\"\"\""
   ]
  },
  {
   "cell_type": "code",
   "execution_count": null,
   "id": "698d7e8b",
   "metadata": {},
   "outputs": [],
   "source": [
    "\"\"\"\n",
    "Steps:\n",
    "=====\n",
    "-1- download the maps \n",
    "-2- Identify the technical challenges needed\n",
    "\"\"\""
   ]
  },
  {
   "cell_type": "code",
   "execution_count": null,
   "id": "1a4d2b9b",
   "metadata": {},
   "outputs": [],
   "source": [
    "\"\"\"\n",
    "Step 1\n",
    "Download the maps:\n",
    "=================\n",
    "DSM\n",
    "\"\"\""
   ]
  },
  {
   "cell_type": "code",
   "execution_count": null,
   "id": "c11f35c3",
   "metadata": {},
   "outputs": [],
   "source": []
  },
  {
   "cell_type": "code",
   "execution_count": null,
   "id": "fa9e919b",
   "metadata": {},
   "outputs": [],
   "source": [
    "\"\"\"\n",
    "Step 2\n",
    "Technical challeges:\n",
    "===================\n",
    "\"\"\""
   ]
  },
  {
   "cell_type": "code",
   "execution_count": null,
   "id": "690d1f55",
   "metadata": {},
   "outputs": [],
   "source": [
    "\"\"\"\n",
    "- Shapefile:\n",
    "  ---------  \n",
    "    is a geospatial vector data format for geographic information system (GIS) software.\n",
    "    The shapefile format can spatially describe vector features: points, lines and polygons, representing\n",
    "    f.e. water wells, rivers, and lakes.\n",
    "    Each item usually has attributes that describe it, such as name or temperature.\n",
    "\n",
    "    -- Shapefile shape format (.shp)\n",
    "        The main file contains the geometry data\n",
    "\n",
    "    -- Shapefile shape index format (.shx)\n",
    "        The index file contains positional index of the feature geometry and the same 100-byte header as the .shp ..\n",
    "\n",
    "    -- Shapefile attribute format (.dbf)\n",
    "        This file stores the attributes for each shape (using dBase IV format)\n",
    "\n",
    "<source: wikipedia>\n",
    "\n",
    "    -- use PyShp for reading and writing ESRI Shapefiles in pure Python (pip install pyshp)\n",
    "\"\"\""
   ]
  },
  {
   "cell_type": "code",
   "execution_count": null,
   "id": "8477ac22",
   "metadata": {},
   "outputs": [],
   "source": [
    "\"\"\"\n",
    "- GeoTIFF:\n",
    "  -------\n",
    "    is a standard .tif or image file format that includes additinoal spacing (georeferencing) information\n",
    "    embedded in the .tif file as tags (tig tags).\n",
    "    These tags can include the following raster metadata:\n",
    "    -1- Spatial Extent (what aria does this dataset cover)\n",
    "    -2- Coordinate reference system (what spatial projection : coordinate reference system is used to store\n",
    "        the data?  Will it line up with other data?)\n",
    "    -3- Resolution (The data appears to be in raster format; i.o.w. composed of pixels)\n",
    "    -4- nodata value\n",
    "    -5- How many layers are in the .tif file\n",
    "    \n",
    "<source: www.earthdatascience.org/ .. /intro-to-the-geotiff-file-format/\n",
    "\n",
    "    -- use PyPi (is a noGDAL tool for reading geotiff files)\n",
    "        --- noGDAL = Geospatial Python without GDAL\n",
    "                (GDAL = a translator library for raster and vector geospatial data formats ...)\n",
    "        (pip install geotiff) (pip install rioxarray)\n",
    "\"\"\""
   ]
  },
  {
   "cell_type": "code",
   "execution_count": null,
   "id": "029b7810",
   "metadata": {},
   "outputs": [],
   "source": [
    "\"\"\"\n",
    "De data worden aangeboden in GeoTIFF-formaat met volgende parameters:\n",
    "\n",
    "PARAMETER     WAARDE                  OPMERKINGEN\n",
    "------------------------------------------------------------------------------------\n",
    "Pixelgrootte  1 m / 5 m               Afhankelijk van het type product\n",
    "Datatype      floating point 32 bit\n",
    "Compressie    deflate\n",
    "NoData Value  -9999\n",
    "piramides     ja                      standaard berekend voor een versnelde weergave\n",
    "colormaps     nee                     er is geen standaard legende toegepast\n",
    "CRS           EPSG 31370              Belgische Lambert 1972 projectie\n",
    "2.2           TAW                     Tweede Algemene Waterpassing\n",
    "\n",
    "\"\"\""
   ]
  },
  {
   "cell_type": "code",
   "execution_count": null,
   "id": "c57027b7",
   "metadata": {},
   "outputs": [],
   "source": [
    "\"\"\"\n",
    "Naamgeving downloadpakket\n",
    "De naamgeving van het downloadpakket per artikel is gelijk aan de code van het artikel:\n",
    "    Pakketnaam = “<codeArtikel>.zip”\n",
    "     voorbeeld: “DHMVIIDTMRAS1m_k07.zip”\n",
    "\n",
    "Mappenstructuur downloadpakket\n",
    "In het downloadpakket per artikel zitten volgende mappen:\n",
    "(Try to understand the data)\n",
    "\n",
    "<pakketnaam>.zip\n",
    "    └<pakketnaam>\n",
    "        ├───<documenten>\n",
    "        └───<formaatmap>\n",
    "            └───<data>\n",
    "\"\"\""
   ]
  },
  {
   "cell_type": "code",
   "execution_count": null,
   "id": "a9f25218",
   "metadata": {},
   "outputs": [],
   "source": [
    "\"\"\"\n",
    "- Lidar:\n",
    "  -----\n",
    "    is a method for detertmining ranges (variable distance) by targeting an object with a laser and measuring\n",
    "    the time for the reflected light to return to the receiver.  Linar can also be used to make digital\n",
    "    3-D representations \n",
    "    \n",
    "    f.e.: Forestry\n",
    "            Lidar systems have also been applied to improve forestry management.\n",
    "            Measurements are used to take inventory in forest plots as well as calculate individual tree heights,\n",
    "            crown width and crown diameter.\n",
    "    \n",
    "<source: wikipedia>\n",
    "\n",
    "    (pip install lidar)\n",
    "<source: pypi.org/project/lidar>\n",
    "\"\"\""
   ]
  },
  {
   "cell_type": "code",
   "execution_count": null,
   "id": "9d05cf27",
   "metadata": {},
   "outputs": [],
   "source": [
    "\"\"\" Before starting to code:\n",
    "    =======================\n",
    "    THE PLAN:\n",
    "    --------\n",
    "        -- download all data from DSM and DTM form the 3D_houses.md\n",
    "\"\"\""
   ]
  },
  {
   "cell_type": "code",
   "execution_count": null,
   "id": "b4194627",
   "metadata": {},
   "outputs": [],
   "source": []
  },
  {
   "cell_type": "code",
   "execution_count": null,
   "id": "6e247431",
   "metadata": {},
   "outputs": [],
   "source": [
    "import shapefile\n",
    "\n",
    "with shapefile.Reader(\"shp/DHMVII_vdc_k01.shp\") as shp:\n",
    "    print(shp)\n",
    "\n"
   ]
  },
  {
   "cell_type": "code",
   "execution_count": null,
   "id": "f0af160c",
   "metadata": {
    "scrolled": true
   },
   "outputs": [],
   "source": [
    "from osgeo import gdal\n",
    "import matplotlib.pyplot as plt\n",
    "import numpy as np\n",
    "\n",
    "\n",
    "dataset = gdal.Open(r'shp/GeoTIFF/DHMVIIDSMRAS1m_k01.tif')\n",
    "\n",
    "print(dataset.RasterCount)\n",
    "dir(dataset)\n",
    "\n",
    "\n",
    "#img = np.dstack(())"
   ]
  },
  {
   "cell_type": "code",
   "execution_count": null,
   "id": "5a6e011e",
   "metadata": {},
   "outputs": [],
   "source": [
    "dataset.GetDescription()"
   ]
  },
  {
   "cell_type": "code",
   "execution_count": null,
   "id": "ea4fceb9",
   "metadata": {},
   "outputs": [],
   "source": [
    "\"\"\"\n",
    "try: numpy\n",
    "\n",
    "Rasterio: access to geospatial raster data (numeric format)\n",
    "\n",
    "\"\"\""
   ]
  },
  {
   "cell_type": "code",
   "execution_count": null,
   "id": "b6bd8c99",
   "metadata": {},
   "outputs": [],
   "source": [
    "    "
   ]
  },
  {
   "cell_type": "code",
   "execution_count": null,
   "id": "fff938ad",
   "metadata": {},
   "outputs": [],
   "source": []
  },
  {
   "cell_type": "code",
   "execution_count": 4,
   "id": "61a6dc3e",
   "metadata": {},
   "outputs": [
    {
     "ename": "NameError",
     "evalue": "name 'rasterio_io' is not defined",
     "output_type": "error",
     "traceback": [
      "\u001b[0;31m---------------------------------------------------------------------------\u001b[0m",
      "\u001b[0;31mNameError\u001b[0m                                 Traceback (most recent call last)",
      "\u001b[0;32m<ipython-input-4-0efb2e9de489>\u001b[0m in \u001b[0;36m<module>\u001b[0;34m\u001b[0m\n\u001b[1;32m      5\u001b[0m     \u001b[0mraster\u001b[0m \u001b[0;34m=\u001b[0m \u001b[0msrc\u001b[0m\u001b[0;34m.\u001b[0m\u001b[0mread\u001b[0m\u001b[0;34m(\u001b[0m\u001b[0;34m)\u001b[0m\u001b[0;34m\u001b[0m\u001b[0;34m\u001b[0m\u001b[0m\n\u001b[1;32m      6\u001b[0m \u001b[0mtype\u001b[0m\u001b[0;34m(\u001b[0m\u001b[0mraster\u001b[0m\u001b[0;34m)\u001b[0m\u001b[0;34m\u001b[0m\u001b[0;34m\u001b[0m\u001b[0m\n\u001b[0;32m----> 7\u001b[0;31m \u001b[0mrasterio_io\u001b[0m\u001b[0;34m.\u001b[0m\u001b[0mRasterReader\u001b[0m\u001b[0;34m\u001b[0m\u001b[0;34m\u001b[0m\u001b[0m\n\u001b[0m",
      "\u001b[0;31mNameError\u001b[0m: name 'rasterio_io' is not defined"
     ]
    }
   ],
   "source": [
    "import numpy as np\n",
    "import rasterio\n",
    "\n",
    "with rasterio.open(\"shp/GeoTIFF/DHMVIIDSMRAS1m_k01.tif\") as src:\n",
    "    raster = src.read()\n",
    "type(raster)\n",
    "rasterio_io.RasterReader"
   ]
  },
  {
   "cell_type": "code",
   "execution_count": null,
   "id": "edda5066",
   "metadata": {},
   "outputs": [],
   "source": []
  },
  {
   "cell_type": "code",
   "execution_count": null,
   "id": "50db4b36",
   "metadata": {},
   "outputs": [],
   "source": []
  },
  {
   "cell_type": "code",
   "execution_count": null,
   "id": "c3450252",
   "metadata": {},
   "outputs": [],
   "source": [
    " "
   ]
  },
  {
   "cell_type": "code",
   "execution_count": null,
   "id": "136280b9",
   "metadata": {},
   "outputs": [],
   "source": []
  }
 ],
 "metadata": {
  "kernelspec": {
   "display_name": "py39",
   "language": "python",
   "name": "py39"
  },
  "language_info": {
   "codemirror_mode": {
    "name": "ipython",
    "version": 3
   },
   "file_extension": ".py",
   "mimetype": "text/x-python",
   "name": "python",
   "nbconvert_exporter": "python",
   "pygments_lexer": "ipython3",
   "version": "3.9.4"
  }
 },
 "nbformat": 4,
 "nbformat_minor": 5
}
