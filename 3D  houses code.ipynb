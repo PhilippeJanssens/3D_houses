{
 "cells": [
  {
   "cell_type": "code",
   "execution_count": null,
   "id": "a91d87a9",
   "metadata": {},
   "outputs": [],
   "source": [
    "\"\"\" FINAL GOAL IS:\n",
    "    =============\n",
    "    You get an address and your program models that house in 3D\n",
    "\"\"\""
   ]
  },
  {
   "cell_type": "code",
   "execution_count": null,
   "id": "543a0c5a",
   "metadata": {},
   "outputs": [],
   "source": [
    "\"\"\"\n",
    "The request for this challenge:\n",
    "==============================\n",
    "- <what?> Given a random home address, model a house in 3D\n",
    "- <why?> This can help the insurance business\n",
    "\"\"\""
   ]
  },
  {
   "cell_type": "code",
   "execution_count": null,
   "id": "698d7e8b",
   "metadata": {},
   "outputs": [],
   "source": [
    "\"\"\"\n",
    "Steps:\n",
    "=====\n",
    "-1- download the maps \n",
    "-2- Identify the technical challenges needed\n",
    "\"\"\""
   ]
  },
  {
   "cell_type": "code",
   "execution_count": null,
   "id": "1a4d2b9b",
   "metadata": {},
   "outputs": [],
   "source": [
    "\"\"\"\n",
    "Step 1\n",
    "Download the maps:\n",
    "=================\n",
    "DSM\n",
    "\"\"\""
   ]
  },
  {
   "cell_type": "code",
   "execution_count": null,
   "id": "c11f35c3",
   "metadata": {},
   "outputs": [],
   "source": []
  },
  {
   "cell_type": "code",
   "execution_count": null,
   "id": "fa9e919b",
   "metadata": {},
   "outputs": [],
   "source": [
    "\"\"\"\n",
    "Step 2\n",
    "Technical challeges:\n",
    "===================\n",
    "\"\"\""
   ]
  },
  {
   "cell_type": "code",
   "execution_count": 1,
   "id": "690d1f55",
   "metadata": {},
   "outputs": [
    {
     "data": {
      "text/plain": [
       "'\\n- Shapefile:\\n  ---------  \\n    is a geospatial vector data format for geographic information system (GIS) software.\\n    The shapefile format can spatially describe vector features: points, lines and polygons, representing\\n    f.e. water wells, rivers, and lakes.\\n    Each item usually has attributes that describe it, such as name or temperature.\\n\\n    -- Shapefile shape format (.shp)\\n        The main file contains the geometry data\\n\\n    -- Shapefile shape index format (.shx)\\n        The index file contains positional index of the feature geometry and the same 100-byte header as the .shp ..\\n\\n    -- Shapefile attribute format (.dbf)\\n        This file stores the attributes for each shape (using dBase IV format)\\n\\n<source: wikipedia>\\n\\n    -- use PyShp for reading and writing ESRI Shapefiles in pure Python (pip install pyshp)\\n'"
      ]
     },
     "execution_count": 1,
     "metadata": {},
     "output_type": "execute_result"
    }
   ],
   "source": [
    "\"\"\"\n",
    "- Shapefile:\n",
    "  ---------  \n",
    "    is a geospatial vector data format for geographic information system (GIS) software.\n",
    "    The shapefile format can spatially describe vector features: points, lines and polygons, representing\n",
    "    f.e. water wells, rivers, and lakes.\n",
    "    Each item usually has attributes that describe it, such as name or temperature.\n",
    "\n",
    "    -- Shapefile shape format (.shp)\n",
    "        The main file contains the geometry data\n",
    "\n",
    "    -- Shapefile shape index format (.shx)\n",
    "        The index file contains positional index of the feature geometry and the same 100-byte header as the .shp ..\n",
    "\n",
    "    -- Shapefile attribute format (.dbf)\n",
    "        This file stores the attributes for each shape (using dBase IV format)\n",
    "\n",
    "<source: wikipedia>\n",
    "\n",
    "    -- use PyShp for reading and writing ESRI Shapefiles in pure Python (pip install pyshp)\n",
    "\"\"\""
   ]
  },
  {
   "cell_type": "code",
   "execution_count": 2,
   "id": "8477ac22",
   "metadata": {},
   "outputs": [
    {
     "data": {
      "text/plain": [
       "'\\n- GeoTIFF:\\n  -------\\n    is a standard .tif or image file format that includes additinoal spacing (georeferencing) information\\n    embedded in the .tif file as tags (tig tags).\\n    These tags can include the following raster metadata:\\n    -1- Spatial Extent (what aria does this dataset cover)\\n    -2- Coordinate reference system (what spatial projection : coordinate reference system is used to store\\n        the data?  Will it line up with other data?)\\n    -3- Resolution (The data appears to be in raster format; i.o.w. composed of pixels)\\n    -4- nodata value\\n    -5- How many layers are in the .tif file\\n    \\n<source: www.earthdatascience.org/ .. /intro-to-the-geotiff-file-format/\\n\\n    -- use PyPi (is a noGDAL tool for reading geotiff files)\\n        --- noGDAL = Geospatial Python without GDAL\\n                (GDAL = a translator library for raster and vector geospatial data formats ...)\\n        (pip install geotiff) (pip install rioxarray)\\n'"
      ]
     },
     "execution_count": 2,
     "metadata": {},
     "output_type": "execute_result"
    }
   ],
   "source": [
    "\"\"\"\n",
    "- GeoTIFF:\n",
    "  -------\n",
    "    is a standard .tif or image file format that includes additinoal spacing (georeferencing) information\n",
    "    embedded in the .tif file as tags (tig tags).\n",
    "    These tags can include the following raster metadata:\n",
    "    -1- Spatial Extent (what aria does this dataset cover)\n",
    "    -2- Coordinate reference system (what spatial projection : coordinate reference system is used to store\n",
    "        the data?  Will it line up with other data?)\n",
    "    -3- Resolution (The data appears to be in raster format; i.o.w. composed of pixels)\n",
    "    -4- nodata value\n",
    "    -5- How many layers are in the .tif file\n",
    "    \n",
    "<source: www.earthdatascience.org/ .. /intro-to-the-geotiff-file-format/\n",
    "\n",
    "    -- use PyPi (is a noGDAL tool for reading geotiff files)\n",
    "        --- noGDAL = Geospatial Python without GDAL\n",
    "                (GDAL = a translator library for raster and vector geospatial data formats ...)\n",
    "        (pip install geotiff) (pip install rioxarray)\n",
    "\"\"\""
   ]
  },
  {
   "cell_type": "code",
   "execution_count": 3,
   "id": "a9f25218",
   "metadata": {},
   "outputs": [
    {
     "data": {
      "text/plain": [
       "'\\n- Lidar:\\n  -----\\n    is a method for detertmining ranges (variable distance) by targeting an object with a laser and measuring\\n    the time for the reflected light to return to the receiver.  Linar can also be used to make digital\\n    3-D representations \\n    \\n    f.e.: Forestry\\n            Lidar systems have also been applied to improve forestry management.\\n            Measurements are used to take inventory in forest plots as well as calculate individual tree heights,\\n            crown width and crown diameter.\\n    \\n<source: wikipedia>\\n\\n    (pip install lidar)\\n<source: pypi.org/project/lidar>\\n'"
      ]
     },
     "execution_count": 3,
     "metadata": {},
     "output_type": "execute_result"
    }
   ],
   "source": [
    "\"\"\"\n",
    "- Lidar:\n",
    "  -----\n",
    "    is a method for detertmining ranges (variable distance) by targeting an object with a laser and measuring\n",
    "    the time for the reflected light to return to the receiver.  Linar can also be used to make digital\n",
    "    3-D representations \n",
    "    \n",
    "    f.e.: Forestry\n",
    "            Lidar systems have also been applied to improve forestry management.\n",
    "            Measurements are used to take inventory in forest plots as well as calculate individual tree heights,\n",
    "            crown width and crown diameter.\n",
    "    \n",
    "<source: wikipedia>\n",
    "\n",
    "    (pip install lidar)\n",
    "<source: pypi.org/project/lidar>\n",
    "\"\"\""
   ]
  },
  {
   "cell_type": "code",
   "execution_count": 4,
   "id": "9d05cf27",
   "metadata": {},
   "outputs": [
    {
     "data": {
      "text/plain": [
       "' Before starting to code:\\n    =======================\\n    THE PLAN:\\n    --------\\n        -- download all data from DSM and DTM form the 3D_houses.md\\n'"
      ]
     },
     "execution_count": 4,
     "metadata": {},
     "output_type": "execute_result"
    }
   ],
   "source": [
    "\"\"\" Before starting to code:\n",
    "    =======================\n",
    "    THE PLAN:\n",
    "    --------\n",
    "        -- download all data from DSM and DTM form the 3D_houses.md\n",
    "\"\"\""
   ]
  },
  {
   "cell_type": "code",
   "execution_count": null,
   "id": "b4194627",
   "metadata": {},
   "outputs": [],
   "source": []
  },
  {
   "cell_type": "code",
   "execution_count": null,
   "id": "6e247431",
   "metadata": {},
   "outputs": [],
   "source": [
    "import shapefile\n",
    "\n",
    "\n"
   ]
  },
  {
   "cell_type": "code",
   "execution_count": null,
   "id": "f0af160c",
   "metadata": {},
   "outputs": [],
   "source": []
  },
  {
   "cell_type": "code",
   "execution_count": null,
   "id": "5a6e011e",
   "metadata": {},
   "outputs": [],
   "source": []
  },
  {
   "cell_type": "code",
   "execution_count": null,
   "id": "c57027b7",
   "metadata": {},
   "outputs": [],
   "source": []
  },
  {
   "cell_type": "code",
   "execution_count": null,
   "id": "ea4fceb9",
   "metadata": {},
   "outputs": [],
   "source": []
  }
 ],
 "metadata": {
  "kernelspec": {
   "display_name": "Python 3 (ipykernel)",
   "language": "python",
   "name": "python3"
  },
  "language_info": {
   "codemirror_mode": {
    "name": "ipython",
    "version": 3
   },
   "file_extension": ".py",
   "mimetype": "text/x-python",
   "name": "python",
   "nbconvert_exporter": "python",
   "pygments_lexer": "ipython3",
   "version": "3.8.10"
  }
 },
 "nbformat": 4,
 "nbformat_minor": 5
}
