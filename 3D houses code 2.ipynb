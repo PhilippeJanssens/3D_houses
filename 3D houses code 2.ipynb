{
 "cells": [
  {
   "cell_type": "code",
   "execution_count": null,
   "id": "7abeb3fb",
   "metadata": {},
   "outputs": [],
   "source": []
  },
  {
   "cell_type": "code",
   "execution_count": 2,
   "id": "734ca9b0",
   "metadata": {},
   "outputs": [
    {
     "name": "stdout",
     "output_type": "stream",
     "text": [
      "Please enter your Flanders address: pjqstraat 7 2222 anvers\n",
      "pjqstraat 7 2222 anvers\n"
     ]
    }
   ],
   "source": [
    "address = input(\"Please enter your Flanders address: \")\n",
    "print(address)\n"
   ]
  },
  {
   "cell_type": "code",
   "execution_count": null,
   "id": "f1d6c3ab",
   "metadata": {},
   "outputs": [],
   "source": [
    "\"\"\" get location of geopunt.be \"\"\""
   ]
  },
  {
   "cell_type": "code",
   "execution_count": null,
   "id": "36d7b244",
   "metadata": {},
   "outputs": [],
   "source": [
    "GET v4/Location?q={q}&latlon={latlon}&xy={xy}&type={type}&c={c}"
   ]
  },
  {
   "cell_type": "code",
   "execution_count": null,
   "id": "a28c6573",
   "metadata": {},
   "outputs": [],
   "source": [
    "\"\"\"\n",
    "q \t\n",
    "\n",
    "[Optional] A free form search string. May contain community names, sub-community area names, zip codes, street names, house numbers or parts thereof. A minimum of two characters is required.\n",
    "\n",
    "\t\n",
    "\n",
    "Define this parameter in the request URI.\n",
    "latlon \t\n",
    "\n",
    "[Optional] A coordinate in WGS84 projection. Input takes the form [lat,lon] where lat and lon are provided in decimal degrees.\n",
    "\n",
    "\t\n",
    "\n",
    "Define this parameter in the request URI.\n",
    "xy \t\n",
    "\n",
    "[Optional] A coordinate in Lambert-72 projection. Input takes the form [x,y] where x and y are provided in meters.\n",
    "\n",
    "\t\n",
    "\n",
    "Define this parameter in the request URI.\n",
    "type \t\n",
    "\n",
    "[Optional] The location types you want to restrict the result to. Valid types are 'Municipality' (1), 'Thoroughfarename' (2), 'Housenumber' (3). The filter has no effect on reverse geocoding requests.\n",
    "\n",
    "\t\n",
    "\n",
    "Define this parameter in the request URI.\n",
    "c \t\n",
    "\n",
    "[Optional] The maximum number of items you want to retrieve in the result. You may not ask more than 5 items. If omitted defaults to 1.\n",
    "\n",
    "\t\n",
    "\n",
    "Define this parameter in the request URI.\n",
    "\"\"\""
   ]
  },
  {
   "cell_type": "code",
   "execution_count": 28,
   "id": "14246e45",
   "metadata": {},
   "outputs": [
    {
     "ename": "ModuleNotFoundError",
     "evalue": "No module named 'utils.api'",
     "output_type": "error",
     "traceback": [
      "\u001b[0;31m----------------------------------------------------------------------\u001b[0m",
      "\u001b[0;31mModuleNotFoundError\u001b[0m                  Traceback (most recent call last)",
      "\u001b[0;32m<ipython-input-28-3870ef516af6>\u001b[0m in \u001b[0;36m<module>\u001b[0;34m\u001b[0m\n\u001b[1;32m      4\u001b[0m \u001b[0;32mimport\u001b[0m \u001b[0mpandas\u001b[0m \u001b[0;32mas\u001b[0m \u001b[0mpd\u001b[0m\u001b[0;34m\u001b[0m\u001b[0;34m\u001b[0m\u001b[0m\n\u001b[1;32m      5\u001b[0m \u001b[0;32mimport\u001b[0m \u001b[0mutils\u001b[0m\u001b[0;34m\u001b[0m\u001b[0;34m\u001b[0m\u001b[0m\n\u001b[0;32m----> 6\u001b[0;31m \u001b[0;32mimport\u001b[0m \u001b[0mutils\u001b[0m\u001b[0;34m.\u001b[0m\u001b[0mapi\u001b[0m\u001b[0;34m\u001b[0m\u001b[0;34m\u001b[0m\u001b[0m\n\u001b[0m\u001b[1;32m      7\u001b[0m \u001b[0;34m\u001b[0m\u001b[0m\n\u001b[1;32m      8\u001b[0m \u001b[0maddress\u001b[0m \u001b[0;34m=\u001b[0m \u001b[0;34m\"Lange Van Sterbeeckstraat 8, 2060 Antwerpen\"\u001b[0m\u001b[0;34m\u001b[0m\u001b[0;34m\u001b[0m\u001b[0m\n",
      "\u001b[0;31mModuleNotFoundError\u001b[0m: No module named 'utils.api'"
     ]
    }
   ],
   "source": [
    "import requests\n",
    "import json\n",
    "import numpy as np\n",
    "import pandas as pd\n",
    "import utils\n",
    "import utils.api\n",
    "\n",
    "address = \"Lange Van Sterbeeckstraat 8, 2060 Antwerpen\"\n",
    "\n",
    "address_info = API.get_details(address)\n",
    "print(f\"Address: {address}\")\n",
    "\n",
    "    "
   ]
  },
  {
   "cell_type": "code",
   "execution_count": 19,
   "id": "afe822b5",
   "metadata": {},
   "outputs": [
    {
     "name": "stdout",
     "output_type": "stream",
     "text": [
      "Lange Van Sterbeeckstraat 8, 2060 Antwerpen\n",
      "None\n"
     ]
    }
   ],
   "source": [
    "print(address)\n",
    "print(get_address_details(address))"
   ]
  },
  {
   "cell_type": "code",
   "execution_count": 69,
   "id": "a0cdda4a",
   "metadata": {},
   "outputs": [],
   "source": [
    "import requests\n",
    "import json\n",
    "import numpy as np\n",
    "import pandas as pd\n",
    "\n",
    "from io import BytesIO\n",
    "from urllib.request import urlopen\n",
    "from zipfile import ZipFile\n",
    "\n",
    "import rasterio as rt\n",
    "from rasterio.mask import mask\n",
    "\n",
    "%matplotlib inline\n",
    "import matplotlib.pyplot as plt\n",
    "\n",
    "import plotly.graph_objects as go\n",
    "\n",
    "from typing import Dict"
   ]
  },
  {
   "cell_type": "code",
   "execution_count": 83,
   "id": "6dc51ff5",
   "metadata": {},
   "outputs": [],
   "source": [
    " def get_address_data_from_geopunt(address: str):\n",
    "    data = requests.get(f\"https://loc.geopunt.be/v4/Location?q={address}\").json()\n",
    "    print(data,\"\\n\")\n",
    "    info = {'address' : address, \n",
    "                'x_value' : data['LocationResult'][0]['Location']['X_Lambert72'],\n",
    "                'y_value' : data['LocationResult'][0]['Location']['Y_Lambert72'],\n",
    "                'street' : data['LocationResult'][0]['Thoroughfarename'],\n",
    "                'house_number' : data['LocationResult'][0]['Housenumber'], \n",
    "                'postcode': data['LocationResult'][0]['Zipcode'], \n",
    "                'municipality' : data['LocationResult'][0]['Municipality']}\n",
    "    \n",
    "    detail = requests.get(\"https://api.basisregisters.vlaanderen.be/v1/adresmatch\", \n",
    "                          params={\"postcode\": info['postcode'], \n",
    "                                  \"straatnaam\": info['street'],\n",
    "                                  \"huisnummer\": info['house_number']}).json()\n",
    "    building = requests.get(detail['adresMatches'][0]['adresseerbareObjecten'][0]['detail']).json()\n",
    "    build = requests.get(building['gebouw']['detail']).json()\n",
    "    info['polygon'] = [build['geometriePolygoon']['polygon']]\n",
    "    return info['polygon'][0]['coordinates'][0] \n"
   ]
  },
  {
   "cell_type": "code",
   "execution_count": 84,
   "id": "188764cb",
   "metadata": {},
   "outputs": [],
   "source": [
    "address = \"Lange Van Sterbeeckstraat 8, 2060 Antwerpen\"\n",
    "#address = input(\"Enter the  address: \") "
   ]
  },
  {
   "cell_type": "code",
   "execution_count": 85,
   "id": "1e8dd558",
   "metadata": {},
   "outputs": [
    {
     "name": "stdout",
     "output_type": "stream",
     "text": [
      "{'LocationResult': [{'Municipality': 'Antwerpen', 'Zipcode': '2060', 'Thoroughfarename': 'Lange Van Sterbeeckstraat', 'Housenumber': '8', 'ID': 949971, 'FormattedAddress': 'Lange Van Sterbeeckstraat 8, 2060 Antwerpen', 'Location': {'Lat_WGS84': 51.22387124286627, 'Lon_WGS84': 4.424710567489425, 'X_Lambert72': 153908.9, 'Y_Lambert72': 212660.38}, 'LocationType': 'crab_huisnummer_afgeleidVanGebouw', 'BoundingBox': {'LowerLeft': {'Lat_WGS84': 51.22387124286627, 'Lon_WGS84': 4.424710567489425, 'X_Lambert72': 153908.9, 'Y_Lambert72': 212660.38}, 'UpperRight': {'Lat_WGS84': 51.22387124286627, 'Lon_WGS84': 4.424710567489425, 'X_Lambert72': 153908.9, 'Y_Lambert72': 212660.38}}}]} \n",
      "\n",
      "[[153913.09697395563, 212652.07560559362], [153909.20398195833, 212669.40699760243], [153904.5820299536, 212668.39899760485], [153907.5011979565, 212656.54043759406], [153908.57345395535, 212652.1845335923], [153908.816653952, 212651.1965655908], [153909.12673395127, 212651.2602455914], [153913.09697395563, 212652.07560559362]]\n"
     ]
    }
   ],
   "source": [
    "address_coor = get_address_data_from_geopunt(address)\n",
    "print(address_coor)"
   ]
  },
  {
   "cell_type": "code",
   "execution_count": null,
   "id": "5994bd2a",
   "metadata": {},
   "outputs": [],
   "source": []
  },
  {
   "cell_type": "code",
   "execution_count": 55,
   "id": "655a3dd2",
   "metadata": {},
   "outputs": [],
   "source": [
    "def get_polygon(address_info: Dict[str,str]) -> Dict[str,str]:\n",
    "    req = requests.get(\"https://api.basisregisters.vlaanderen.be/v1/adresmatch\",\n",
    "                       params={\"postcode\": address_info['postcode'],\n",
    "                                \"straatnaam\": address_info['street'],\n",
    "                                \"huisnummer\": address_info['house_number']}).json()\n",
    "    detail = requests.get(req['adresMatches'][0]['adresseerbareObjecten'][0]['detail']).json()\n",
    "    build = requests.get(detail['gebouw']['detail']).json()\n",
    "    polygon = build['geometriePolygoon']['polygon']\n",
    "     \n",
    "    return polygon"
   ]
  },
  {
   "cell_type": "code",
   "execution_count": 56,
   "id": "eb405dad",
   "metadata": {},
   "outputs": [
    {
     "ename": "TypeError",
     "evalue": "list indices must be integers or slices, not str",
     "output_type": "error",
     "traceback": [
      "\u001b[0;31m----------------------------------------------------------------------\u001b[0m",
      "\u001b[0;31mTypeError\u001b[0m                            Traceback (most recent call last)",
      "\u001b[0;32m<ipython-input-56-c00fa0d9f209>\u001b[0m in \u001b[0;36m<module>\u001b[0;34m\u001b[0m\n\u001b[0;32m----> 1\u001b[0;31m \u001b[0mget_polygon\u001b[0m\u001b[0;34m(\u001b[0m\u001b[0maddress_coor\u001b[0m\u001b[0;34m)\u001b[0m\u001b[0;34m\u001b[0m\u001b[0;34m\u001b[0m\u001b[0m\n\u001b[0m",
      "\u001b[0;32m<ipython-input-55-3f6a91ae5959>\u001b[0m in \u001b[0;36mget_polygon\u001b[0;34m(address_info)\u001b[0m\n\u001b[1;32m      1\u001b[0m \u001b[0;32mdef\u001b[0m \u001b[0mget_polygon\u001b[0m\u001b[0;34m(\u001b[0m\u001b[0maddress_info\u001b[0m\u001b[0;34m:\u001b[0m \u001b[0mDict\u001b[0m\u001b[0;34m[\u001b[0m\u001b[0mint\u001b[0m\u001b[0;34m,\u001b[0m\u001b[0mint\u001b[0m\u001b[0;34m]\u001b[0m\u001b[0;34m)\u001b[0m \u001b[0;34m->\u001b[0m \u001b[0mDict\u001b[0m\u001b[0;34m[\u001b[0m\u001b[0mint\u001b[0m\u001b[0;34m,\u001b[0m\u001b[0mint\u001b[0m\u001b[0;34m]\u001b[0m\u001b[0;34m:\u001b[0m\u001b[0;34m\u001b[0m\u001b[0;34m\u001b[0m\u001b[0m\n\u001b[1;32m      2\u001b[0m     req = requests.get(\"https://api.basisregisters.vlaanderen.be/v1/adresmatch\",\n\u001b[0;32m----> 3\u001b[0;31m                        params={\"postcode\": address_info['postcode'],\n\u001b[0m\u001b[1;32m      4\u001b[0m                                 \u001b[0;34m\"straatnaam\"\u001b[0m\u001b[0;34m:\u001b[0m \u001b[0maddress_info\u001b[0m\u001b[0;34m[\u001b[0m\u001b[0;34m'street'\u001b[0m\u001b[0;34m]\u001b[0m\u001b[0;34m,\u001b[0m\u001b[0;34m\u001b[0m\u001b[0;34m\u001b[0m\u001b[0m\n\u001b[1;32m      5\u001b[0m                                 \"huisnummer\": address_info['house_number']}).json()\n",
      "\u001b[0;31mTypeError\u001b[0m: list indices must be integers or slices, not str"
     ]
    }
   ],
   "source": [
    "get_polygon(address_coor)"
   ]
  },
  {
   "cell_type": "code",
   "execution_count": null,
   "id": "a5b6eb46",
   "metadata": {},
   "outputs": [],
   "source": []
  },
  {
   "cell_type": "code",
   "execution_count": null,
   "id": "7f11aa97",
   "metadata": {},
   "outputs": [],
   "source": []
  }
 ],
 "metadata": {
  "kernelspec": {
   "display_name": "py39",
   "language": "python",
   "name": "py39"
  },
  "language_info": {
   "codemirror_mode": {
    "name": "ipython",
    "version": 3
   },
   "file_extension": ".py",
   "mimetype": "text/x-python",
   "name": "python",
   "nbconvert_exporter": "python",
   "pygments_lexer": "ipython3",
   "version": "3.9.4"
  }
 },
 "nbformat": 4,
 "nbformat_minor": 5
}
