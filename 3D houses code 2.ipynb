{
 "cells": [
  {
   "cell_type": "code",
   "execution_count": null,
   "id": "f1d6c3ab",
   "metadata": {},
   "outputs": [],
   "source": [
    "\"\"\" get location of geopunt.be \"\"\""
   ]
  },
  {
   "cell_type": "code",
   "execution_count": null,
   "id": "36d7b244",
   "metadata": {},
   "outputs": [],
   "source": [
    "GET v4/Location?q={q}&latlon={latlon}&xy={xy}&type={type}&c={c}"
   ]
  },
  {
   "cell_type": "code",
   "execution_count": null,
   "id": "a28c6573",
   "metadata": {},
   "outputs": [],
   "source": [
    "\"\"\"\n",
    "q \t\n",
    "\n",
    "[Optional] A free form search string. May contain community names, sub-community area names, zip codes, street names, house numbers or parts thereof. A minimum of two characters is required.\n",
    "\n",
    "\t\n",
    "\n",
    "Define this parameter in the request URI.\n",
    "latlon \t\n",
    "\n",
    "[Optional] A coordinate in WGS84 projection. Input takes the form [lat,lon] where lat and lon are provided in decimal degrees.\n",
    "\n",
    "\t\n",
    "\n",
    "Define this parameter in the request URI.\n",
    "xy \t\n",
    "\n",
    "[Optional] A coordinate in Lambert-72 projection. Input takes the form [x,y] where x and y are provided in meters.\n",
    "\n",
    "\t\n",
    "\n",
    "Define this parameter in the request URI.\n",
    "type \t\n",
    "\n",
    "[Optional] The location types you want to restrict the result to. Valid types are 'Municipality' (1), 'Thoroughfarename' (2), 'Housenumber' (3). The filter has no effect on reverse geocoding requests.\n",
    "\n",
    "\t\n",
    "\n",
    "Define this parameter in the request URI.\n",
    "c \t\n",
    "\n",
    "[Optional] The maximum number of items you want to retrieve in the result. You may not ask more than 5 items. If omitted defaults to 1.\n",
    "\n",
    "\t\n",
    "\n",
    "Define this parameter in the request URI.\n",
    "\"\"\""
   ]
  },
  {
   "cell_type": "code",
   "execution_count": 19,
   "id": "afe822b5",
   "metadata": {},
   "outputs": [
    {
     "name": "stdout",
     "output_type": "stream",
     "text": [
      "Lange Van Sterbeeckstraat 8, 2060 Antwerpen\n",
      "None\n"
     ]
    }
   ],
   "source": [
    "print(address)\n",
    "print(get_address_details(address))"
   ]
  },
  {
   "cell_type": "code",
   "execution_count": null,
   "id": "3c455ecd",
   "metadata": {},
   "outputs": [],
   "source": [
    "\"\"\"\n",
    "Versions\n",
    "\n",
    "If no specific version is indicated then the latest version is the default.\n",
    "--------------------------------------------------------------------------\n",
    "\n",
    "V1\n",
    "Version 1 provides a Suggestion and a Location resource as described above.\n",
    "\n",
    "V2\n",
    "Version 2 has the exact same interface as version 1, but adds the zip code to the SuggestionResult\n",
    "    and to the FormattedAddress within the LocationResult for location types 'crab_huisnummer' and \n",
    "    'urbis_huisnummer'. Keep in mind that no zip code is added for location types 'crab_straat',\n",
    "    'urbis_straat', 'crab_gemeente' or 'urbis_gemeente'.\n",
    "V3\n",
    "Version 3 returns within the LocationResult not only a FormattedAddress but also an ID that can be used for\n",
    "    further lookups. Where the ID points to depends on the LocationType.\n",
    "    Mind you that this version no longer supports parcel search. Please refer to perc.geopunt.be for parcel search.\n",
    "\n",
    "V4\n",
    "Version 4 adds more information to the location responses, i.e. an explicit listing of the individual \n",
    "    address components municipality, zipcode, thoroughfarename and housenumber. Furthermore the resultset\n",
    "    can now be filtered to include only municipalities, thoroughfarenames or full addresses.\n",
    "    Mind you that this version no longer supports poi search. Please refer to poi.geopunt.be for poi search.\n",
    "\n",
    "\"\"\""
   ]
  },
  {
   "cell_type": "code",
   "execution_count": 69,
   "id": "a0cdda4a",
   "metadata": {},
   "outputs": [],
   "source": [
    "import requests\n",
    "import json\n",
    "import numpy as np\n",
    "import pandas as pd\n",
    "\n",
    "from io import BytesIO\n",
    "from urllib.request import urlopen\n",
    "from zipfile import ZipFile\n",
    "\n",
    "import rasterio as rt\n",
    "from rasterio.mask import mask\n",
    "\n",
    "%matplotlib inline\n",
    "import matplotlib.pyplot as plt\n",
    "\n",
    "import plotly.graph_objects as go\n",
    "\n",
    "from typing import Dict"
   ]
  },
  {
   "cell_type": "code",
   "execution_count": 86,
   "id": "6dc51ff5",
   "metadata": {},
   "outputs": [],
   "source": [
    " def get_address_data_from_geopunt(address: str):\n",
    "    data = requests.get(f\"https://loc.geopunt.be/v4/Location?q={address}\").json()\n",
    "    print(data,\"\\n\")\n",
    "    info = {'address' : address, \n",
    "                'x_value' : data['LocationResult'][0]['Location']['X_Lambert72'],\n",
    "                'y_value' : data['LocationResult'][0]['Location']['Y_Lambert72'],\n",
    "                'street' : data['LocationResult'][0]['Thoroughfarename'],\n",
    "                'house_number' : data['LocationResult'][0]['Housenumber'], \n",
    "                'postcode': data['LocationResult'][0]['Zipcode'], \n",
    "                'municipality' : data['LocationResult'][0]['Municipality']}\n",
    "    \n",
    "    detail = requests.get(\"https://api.basisregisters.vlaanderen.be/v1/adresmatch\", \n",
    "                          params={\"postcode\": info['postcode'], \n",
    "                                  \"straatnaam\": info['street'],\n",
    "                                  \"huisnummer\": info['house_number']}).json()\n",
    "    building = requests.get(detail['adresMatches'][0]['adresseerbareObjecten'][0]['detail']).json()\n",
    "    build = requests.get(building['gebouw']['detail']).json()\n",
    "    info['polygon'] = [build['geometriePolygoon']['polygon']]\n",
    "    return info['polygon'][0]['coordinates'][0]\n"
   ]
  },
  {
   "cell_type": "code",
   "execution_count": 87,
   "id": "188764cb",
   "metadata": {},
   "outputs": [],
   "source": [
    "address = \"Lange Van Sterbeeckstraat 8, 2060 Antwerpen\"\n",
    "#address = input(\"Enter the  address: \") "
   ]
  },
  {
   "cell_type": "code",
   "execution_count": 85,
   "id": "1e8dd558",
   "metadata": {},
   "outputs": [
    {
     "name": "stdout",
     "output_type": "stream",
     "text": [
      "{'LocationResult': [{'Municipality': 'Antwerpen', 'Zipcode': '2060', 'Thoroughfarename': 'Lange Van Sterbeeckstraat', 'Housenumber': '8', 'ID': 949971, 'FormattedAddress': 'Lange Van Sterbeeckstraat 8, 2060 Antwerpen', 'Location': {'Lat_WGS84': 51.22387124286627, 'Lon_WGS84': 4.424710567489425, 'X_Lambert72': 153908.9, 'Y_Lambert72': 212660.38}, 'LocationType': 'crab_huisnummer_afgeleidVanGebouw', 'BoundingBox': {'LowerLeft': {'Lat_WGS84': 51.22387124286627, 'Lon_WGS84': 4.424710567489425, 'X_Lambert72': 153908.9, 'Y_Lambert72': 212660.38}, 'UpperRight': {'Lat_WGS84': 51.22387124286627, 'Lon_WGS84': 4.424710567489425, 'X_Lambert72': 153908.9, 'Y_Lambert72': 212660.38}}}]} \n",
      "\n",
      "[[153913.09697395563, 212652.07560559362], [153909.20398195833, 212669.40699760243], [153904.5820299536, 212668.39899760485], [153907.5011979565, 212656.54043759406], [153908.57345395535, 212652.1845335923], [153908.816653952, 212651.1965655908], [153909.12673395127, 212651.2602455914], [153913.09697395563, 212652.07560559362]]\n"
     ]
    }
   ],
   "source": [
    "address_coor = get_address_data_from_geopunt(address)\n",
    "print(address_coor)"
   ]
  },
  {
   "cell_type": "code",
   "execution_count": null,
   "id": "5994bd2a",
   "metadata": {},
   "outputs": [],
   "source": []
  },
  {
   "cell_type": "code",
   "execution_count": null,
   "id": "a5b6eb46",
   "metadata": {},
   "outputs": [],
   "source": []
  },
  {
   "cell_type": "code",
   "execution_count": null,
   "id": "7f11aa97",
   "metadata": {},
   "outputs": [],
   "source": []
  }
 ],
 "metadata": {
  "kernelspec": {
   "display_name": "py39",
   "language": "python",
   "name": "py39"
  },
  "language_info": {
   "codemirror_mode": {
    "name": "ipython",
    "version": 3
   },
   "file_extension": ".py",
   "mimetype": "text/x-python",
   "name": "python",
   "nbconvert_exporter": "python",
   "pygments_lexer": "ipython3",
   "version": "3.9.4"
  }
 },
 "nbformat": 4,
 "nbformat_minor": 5
}
