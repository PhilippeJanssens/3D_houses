{
 "cells": [
  {
   "cell_type": "code",
   "execution_count": 1,
   "id": "3654527f",
   "metadata": {},
   "outputs": [
    {
     "data": {
      "text/plain": [
       "' \\n    =================================================\\n    Make a 3D plot from given address in the Flanders\\n    =================================================\\n'"
      ]
     },
     "execution_count": 1,
     "metadata": {},
     "output_type": "execute_result"
    }
   ],
   "source": [
    "\"\"\" \n",
    "    =================================================\n",
    "    Make a 3D plot from given address in the Flanders\n",
    "    =================================================\n",
    "\"\"\""
   ]
  },
  {
   "cell_type": "code",
   "execution_count": 2,
   "id": "25596bcb",
   "metadata": {},
   "outputs": [],
   "source": [
    "\"\"\" Import the necessary modules \"\"\"\n",
    "import pandas as pd\n",
    "import geopandas as gpd\n",
    "import time\n",
    "\n",
    "import requests\n",
    "from tkinter import *\n",
    "#import tkinter as Tk"
   ]
  },
  {
   "cell_type": "code",
   "execution_count": 1,
   "id": "832fa9ba",
   "metadata": {
    "scrolled": true
   },
   "outputs": [
    {
     "ename": "NameError",
     "evalue": "name 'Tk' is not defined",
     "output_type": "error",
     "traceback": [
      "\u001b[0;31m---------------------------------------------------------------------------\u001b[0m",
      "\u001b[0;31mNameError\u001b[0m                                 Traceback (most recent call last)",
      "\u001b[0;32m<ipython-input-1-ac2c4f7aa284>\u001b[0m in \u001b[0;36m<module>\u001b[0;34m\u001b[0m\n\u001b[1;32m      2\u001b[0m \u001b[0;31m# Antwerpsestraat 165 2640 Antwerpen\u001b[0m\u001b[0;34m\u001b[0m\u001b[0;34m\u001b[0m\u001b[0;34m\u001b[0m\u001b[0m\n\u001b[1;32m      3\u001b[0m \u001b[0;31m# address = input(\"What address did you have in mind? \")\u001b[0m\u001b[0;34m\u001b[0m\u001b[0;34m\u001b[0m\u001b[0;34m\u001b[0m\u001b[0m\n\u001b[0;32m----> 4\u001b[0;31m \u001b[0mwindow\u001b[0m \u001b[0;34m=\u001b[0m \u001b[0mTk\u001b[0m\u001b[0;34m(\u001b[0m\u001b[0;34m)\u001b[0m\u001b[0;34m\u001b[0m\u001b[0;34m\u001b[0m\u001b[0m\n\u001b[0m\u001b[1;32m      5\u001b[0m \u001b[0mwindow\u001b[0m\u001b[0;34m.\u001b[0m\u001b[0mtitle\u001b[0m\u001b[0;34m(\u001b[0m\u001b[0;34m\"What adddress do you want a 3D plot from?\"\u001b[0m\u001b[0;34m)\u001b[0m\u001b[0;34m\u001b[0m\u001b[0;34m\u001b[0m\u001b[0m\n\u001b[1;32m      6\u001b[0m \u001b[0mwindow\u001b[0m\u001b[0;34m.\u001b[0m\u001b[0mgeometry\u001b[0m\u001b[0;34m(\u001b[0m\u001b[0;34m'400x250+500+300'\u001b[0m\u001b[0;34m)\u001b[0m\u001b[0;34m\u001b[0m\u001b[0;34m\u001b[0m\u001b[0m\n",
      "\u001b[0;31mNameError\u001b[0m: name 'Tk' is not defined"
     ]
    }
   ],
   "source": [
    "\"\"\" Ask for an address with Tkinter input box \"\"\"\n",
    "# Antwerpsestraat 165 2640 Antwerpen\n",
    "# address = input(\"What address did you have in mind? \")\n",
    "window = Tk()\n",
    "window.title(\"What adddress do you want a 3D plot from?\")\n",
    "window.geometry('400x250+500+300')\n",
    "window.config(bg=\"#9FD996\")\n",
    "\n",
    "lbl = Label(window, text=\"Street\")\n",
    "lbl.grid(column=0, row=0)\n",
    "street = Entry(window,width=30)\n",
    "street.grid(column=1, row=0)\n",
    "\n",
    "lbl = Label(window, text=\"Number\")\n",
    "lbl.grid(column=0, row=1)\n",
    "number = Entry(window,width=5)\n",
    "number.grid(column=1, row=1)\n",
    "\n",
    "lbl = Label(window, text=\"Postal Code\")\n",
    "lbl.grid(column=0, row=2)\n",
    "postal_code = Entry(window,width=4)\n",
    "postal_code.grid(column=1, row=2)\n",
    "\n",
    "lbl = Label(window, text=\"City\")\n",
    "lbl.grid(column=0, row=3)\n",
    "city = Entry(window,width=20)\n",
    "city.grid(column=1, row=3)\n",
    "\n",
    "btn = Button(window, text=\"Request details\", command=clicked)\n",
    "btn.grid(column=1, row=6)\n",
    "\n",
    "\n",
    "def clicked():\n",
    "    \n",
    "    # Check whether this address can be found in the address list of Flanders\n",
    "    url = f\"https://loc.geopunt.be/v4/Location?q={street}%20{number},%20{postal_code}%20{city}\"\n",
    "\n",
    "    window.destroy()\n",
    "\n",
    "window.mainloop()\n",
    "\n",
    "data = requests.get(url).json()\n",
    "\n",
    "print(data)\n"
   ]
  },
  {
   "cell_type": "code",
   "execution_count": 18,
   "id": "11e1d72f",
   "metadata": {},
   "outputs": [],
   "source": [
    "# for not yet detected or fully understood reasons,\n",
    "# the try out above sometimes does not work propely\n",
    "\n",
    "# a fixed address example:\n",
    "\n",
    "def get_data():\n",
    "    street = \"Lange Van Sterbeeckstraat\"\n",
    "    number = \"8\"\n",
    "    postal_code = \"2060\"\n",
    "    city = \"Antwerpen\"\n",
    "    url = f\"https://loc.geopunt.be/v4/Location?q={street}%20{number},%20{postal_code}%20{city}\"\n",
    "    data = requests.get(url).json()\n",
    "    return data"
   ]
  },
  {
   "cell_type": "code",
   "execution_count": 19,
   "id": "deffc011",
   "metadata": {},
   "outputs": [
    {
     "name": "stdout",
     "output_type": "stream",
     "text": [
      "{'LocationResult': [{'Municipality': 'Antwerpen', 'Zipcode': '2060', 'Thoroughfarename': 'Lange Van Sterbeeckstraat', 'Housenumber': '8', 'ID': 949971, 'FormattedAddress': 'Lange Van Sterbeeckstraat 8, 2060 Antwerpen', 'Location': {'Lat_WGS84': 51.22387124286627, 'Lon_WGS84': 4.424710567489425, 'X_Lambert72': 153908.9, 'Y_Lambert72': 212660.38}, 'LocationType': 'crab_huisnummer_afgeleidVanGebouw', 'BoundingBox': {'LowerLeft': {'Lat_WGS84': 51.22387124286627, 'Lon_WGS84': 4.424710567489425, 'X_Lambert72': 153908.9, 'Y_Lambert72': 212660.38}, 'UpperRight': {'Lat_WGS84': 51.22387124286627, 'Lon_WGS84': 4.424710567489425, 'X_Lambert72': 153908.9, 'Y_Lambert72': 212660.38}}}]}\n"
     ]
    }
   ],
   "source": [
    "address_data = get_data()\n",
    "print(address_data)"
   ]
  },
  {
   "cell_type": "code",
   "execution_count": 24,
   "id": "2380efaf",
   "metadata": {},
   "outputs": [],
   "source": [
    "# and again.. regarding above code, for today\n",
    "# I will take a fixed shortcut\n",
    "# the polygon for the coordinates of the given address are:\n",
    "\n",
    "x =  [153913.09697396, 153909.20398196, 153904.58202995, 153907.50119796,\n",
    " 153908.57345396, 153908.81665395, 153909.12673395, 153913.09697396]\n",
    "y =  [212652.07560559, 212669.4069976,  212668.3989976,  212656.54043759,\n",
    " 212652.18453359, 212651.19656559, 212651.26024559, 212652.07560559]\n",
    "\n"
   ]
  },
  {
   "cell_type": "code",
   "execution_count": null,
   "id": "f972e192",
   "metadata": {},
   "outputs": [],
   "source": [
    "\"\"\" Find the DSM & DTM zip files that contains the given address \"\"\""
   ]
  },
  {
   "cell_type": "code",
   "execution_count": null,
   "id": "e44a8000",
   "metadata": {},
   "outputs": [],
   "source": [
    "# for now, since I only use fixed data,\n",
    "# the .csv is not to be used\n",
    "\n",
    "# Get the file where all the maps boundary coordinations are\n",
    "# this helps visualisation the x and y coordinates\n",
    "df = pd.read_csv(\"./data/tif_card_bounderies.csv\")"
   ]
  },
  {
   "cell_type": "code",
   "execution_count": null,
   "id": "447031ff",
   "metadata": {
    "scrolled": true
   },
   "outputs": [],
   "source": []
  },
  {
   "cell_type": "code",
   "execution_count": null,
   "id": "780e3847",
   "metadata": {},
   "outputs": [],
   "source": []
  },
  {
   "cell_type": "code",
   "execution_count": null,
   "id": "bd4243c4",
   "metadata": {},
   "outputs": [],
   "source": [
    "\"\"\" Download the DSM & DTM zip files \"\"\""
   ]
  },
  {
   "cell_type": "code",
   "execution_count": 15,
   "id": "619798c5",
   "metadata": {
    "scrolled": true
   },
   "outputs": [
    {
     "data": {
      "text/plain": [
       "'k15'"
      ]
     },
     "execution_count": 15,
     "metadata": {},
     "output_type": "execute_result"
    }
   ],
   "source": [
    "### FIRST UNDERSTAND THE DATA\n",
    "\n",
    "#find_map_df = find_map_df.assingn...\n",
    "# ADD CONDITIONS TO THE NEW COLUMNS\n",
    "\n",
    "### figure out how the files are ordered to \n",
    "### enable to find the right box in the matrix\n",
    "data = get_data()\n",
    "x = data['LocationResult'][0]['Location']['X_Lambert72']\n",
    "y = data['LocationResult'][0]['Location']['Y_Lambert72']\n",
    "\n",
    "find_tif_df = df[[\"DSM Files\", \"xLeft\", \"xRight\", \"yBottom\", \"yTop\"]]\n",
    "\n",
    "for i in range(0, 43):\n",
    "    if find_tif_df['xLeft'][i] <= x:\n",
    "        if find_tif_df['xRight'][i] >= x:\n",
    "            if find_tif_df['yBottom'][i] <= y:\n",
    "                if find_tif_df['yTop'][i] >= y:\n",
    "                    i = i\n",
    "                    break\n",
    "\n",
    "if i < 9:\n",
    "    num = f'k0{i+1}'\n",
    "else:\n",
    "    num = f'k{i+1}' \n",
    "num\n",
    "    "
   ]
  },
  {
   "cell_type": "code",
   "execution_count": null,
   "id": "db82c536",
   "metadata": {},
   "outputs": [],
   "source": [
    "from io import BytesIO\n",
    "from urllib.request import urlopen\n",
    "from zipfile import ZipFile\n",
    "\n",
    "\n",
    "dsm_zip_url = \"https://downloadagiv.blob.core.windows.net/dhm-vlaanderen-ii-dsm-raster-&m/DHMVIIDSMRAS1m_{num}.zip\"\n",
    "dtm_zip_url = \"https://downloadagiv.blob.core.windows.net/dhm-vlaanderen-ii-dtm-raster-&m/DHMVIIDTMRAS1m_{num}.zip\"\n",
    "\n",
    "zipFiles = {\"DSM\": dsm_zip_url, \"DTM\": dtm_zip_url}\n",
    "zipFiles.items()\n",
    "\n",
    "for key, value in zipFiles.items():\n",
    "    with urlopen(value) as zipresp:\n",
    "        print(f\"downloading {key} zipfile\")\n",
    "        with ZipFile(BytesIO(zipresp.read())) as zipfile:\n",
    "            print(f\"extracting {key} zipfile\")\n",
    "            zfile.extractall(f\".data/temp/{key}\")\n",
    "            print(\"{key} are ready to be used\")\n",
    "print(\"both files are ready\\n time to do some magic with the plot-numbers\")"
   ]
  },
  {
   "cell_type": "code",
   "execution_count": null,
   "id": "69b6de80",
   "metadata": {},
   "outputs": [],
   "source": [
    "# regarding the download of zip files:\n",
    "# for some reasons, the code above has an error\n",
    "# so for now let's get use the k15.tif that's already downloaded\n",
    "# and the above given address should be there"
   ]
  },
  {
   "cell_type": "code",
   "execution_count": null,
   "id": "197736f2",
   "metadata": {},
   "outputs": [],
   "source": []
  },
  {
   "cell_type": "code",
   "execution_count": null,
   "id": "75c56600",
   "metadata": {},
   "outputs": [],
   "source": [
    "\"\"\" Get data from the address that's needed for the plot\n",
    "    ----------------------------------------------------\n",
    "\"\"\""
   ]
  },
  {
   "cell_type": "code",
   "execution_count": null,
   "id": "711220ac",
   "metadata": {},
   "outputs": [],
   "source": []
  },
  {
   "cell_type": "code",
   "execution_count": null,
   "id": "ed307222",
   "metadata": {},
   "outputs": [],
   "source": [
    "# Assign the polygon coordinates to list variables"
   ]
  },
  {
   "cell_type": "code",
   "execution_count": 23,
   "id": "88ecccaf",
   "metadata": {},
   "outputs": [],
   "source": [
    "x = [153913.09697396, 153909.20398196, 153904.58202995, 153907.50119796,\n",
    " 153908.57345396, 153908.81665395, 153909.12673395, 153913.09697396]\n",
    "y = [212652.07560559, 212669.4069976,  212668.3989976, 212656.54043759,\n",
    " 212652.18453359, 212651.19656559, 212651.26024559, 212652.07560559]\n"
   ]
  },
  {
   "cell_type": "code",
   "execution_count": null,
   "id": "2ea02ad1",
   "metadata": {},
   "outputs": [],
   "source": [
    "# Calculate the CHM like DSM - DTM"
   ]
  },
  {
   "cell_type": "code",
   "execution_count": 5,
   "id": "5c273320",
   "metadata": {},
   "outputs": [
    {
     "data": {
      "text/plain": [
       "array([[[ 0.        ,  0.        ,  0.        , ..., -0.03000069,\n",
       "          4.5600014 ,  3.9800005 ],\n",
       "        [ 1.2599998 , -0.02999973, -0.01999998, ...,  0.        ,\n",
       "          4.589999  ,  9.39      ],\n",
       "        [ 3.62      ,  0.        ,  0.        , ...,  0.        ,\n",
       "          5.0199995 , 10.940001  ],\n",
       "        ...,\n",
       "        [ 0.        ,  0.        ,  0.        , ...,  3.3999996 ,\n",
       "          2.17      ,  0.        ],\n",
       "        [ 0.        ,  0.        ,  0.        , ...,  0.44000053,\n",
       "          4.25      ,  1.9499998 ],\n",
       "        [ 0.        ,  0.        ,  0.        , ...,  4.299999  ,\n",
       "          0.03999996,  0.        ]]], dtype=float32)"
      ]
     },
     "execution_count": 5,
     "metadata": {},
     "output_type": "execute_result"
    }
   ],
   "source": [
    "import rasterio as rt\n",
    "\n",
    "dtm_src = 'data/DHMVIIDTMRAS1m_k15/GeoTIFF/DHMVIIDTMRAS1m_k15.tif'\n",
    "dtm_img = rt.open(dtm_src)\n",
    "dtm_array = dtm_img.read()\n",
    "# Get DSM data\n",
    "dsm_src = 'data/DHMVIIDSMRAS1m_k15/GeoTIFF/DHMVIIDSMRAS1m_k15.tif'\n",
    "dsm_img = rt.open(dsm_src)\n",
    "#show(dsm_img)\n",
    "dsm_array = dsm_img.read()\n",
    "CHM_HARV = dsm_array - dtm_array\n",
    "CHM_HARV"
   ]
  },
  {
   "cell_type": "code",
   "execution_count": null,
   "id": "4ea36267",
   "metadata": {},
   "outputs": [],
   "source": []
  },
  {
   "cell_type": "code",
   "execution_count": null,
   "id": "40cd34bb",
   "metadata": {},
   "outputs": [],
   "source": [
    "# Prepare the plot"
   ]
  },
  {
   "cell_type": "code",
   "execution_count": 12,
   "id": "f0c122ce",
   "metadata": {
    "scrolled": true
   },
   "outputs": [],
   "source": [
    "## take the polygon coordinates from the address\n",
    "## and convert those to match the k15.tif coordinates\n",
    "\n",
    "import rioxarray\n",
    "import geopandas as gpd\n",
    "surface_HARV = rioxarray.open_rasterio('data/DHMVIIDSMRAS1m_k15/GeoTIFF/DHMVIIDSMRAS1m_k15.tif')\n",
    "#print(surface_HARV.min())\n",
    "#print(surface_HARV.max())\n",
    "aoi_boundary_HARV = gpd.read_file(\"data/DHMVIIDSMRAS1m_k15/DHMVII_vdc_k15.shp\")\n",
    "#print(aoi_boundary_HARV)\n",
    "\n",
    "#aoi_boundary_HARV.bounds\n"
   ]
  },
  {
   "cell_type": "code",
   "execution_count": 25,
   "id": "57e4877c",
   "metadata": {},
   "outputs": [
    {
     "name": "stdout",
     "output_type": "stream",
     "text": [
      "minx    130000.000000\n",
      "miny    198000.000000\n",
      "maxx    138824.838285\n",
      "maxy    199613.473694\n",
      "dtype: float64 \n",
      "\n",
      "minx    138460.848794\n",
      "miny    216733.670105\n",
      "maxx    162000.000000\n",
      "maxy    218000.000000\n",
      "dtype: float64\n"
     ]
    }
   ],
   "source": [
    "xBoundMin = aoi_boundary_HARV.bounds.min()\n",
    "yBoundMax = aoi_boundary_HARV.bounds.max()\n",
    "print(xBoundMin,\"\\n\")\n",
    "print(yBoundMax)"
   ]
  },
  {
   "cell_type": "code",
   "execution_count": 26,
   "id": "5041baee",
   "metadata": {},
   "outputs": [
    {
     "name": "stdout",
     "output_type": "stream",
     "text": [
      "129999.9999999985\n",
      "138824.83828469607\n"
     ]
    }
   ],
   "source": [
    "xmin = xBoundMin.minx\n",
    "xmax = xBoundMin.maxx\n",
    "print(xmin)\n",
    "print(xmax)"
   ]
  },
  {
   "cell_type": "code",
   "execution_count": 27,
   "id": "3bc43c72",
   "metadata": {},
   "outputs": [
    {
     "name": "stdout",
     "output_type": "stream",
     "text": [
      "216733.67010498082\n",
      "218000.0000000003\n"
     ]
    }
   ],
   "source": [
    "ymin = yBoundMax.miny\n",
    "ymax = yBoundMax.maxy\n",
    "print(ymin)\n",
    "print(ymax)"
   ]
  },
  {
   "cell_type": "code",
   "execution_count": 35,
   "id": "f380a04b",
   "metadata": {},
   "outputs": [],
   "source": [
    "xPolyCoord = []\n",
    "for i in range(0, 8):\n",
    "    xPolyCoord.append(x[i] - xBoundMin.minx)\n",
    "yPolyCoord= []\n",
    "for j in range(0, 8):\n",
    "    yPolyCoord.append(yBoundMax.maxy - y[i])    \n",
    "    "
   ]
  },
  {
   "cell_type": "code",
   "execution_count": 36,
   "id": "f74d693e",
   "metadata": {},
   "outputs": [
    {
     "data": {
      "text/plain": [
       "[-106086.903026037,\n",
       " -106090.79601803701,\n",
       " -106095.41797004701,\n",
       " -106092.49880203701,\n",
       " -106091.426546037,\n",
       " -106091.18334604701,\n",
       " -106090.87326604701,\n",
       " -106086.903026037]"
      ]
     },
     "execution_count": 36,
     "metadata": {},
     "output_type": "execute_result"
    }
   ],
   "source": [
    "xPolyCoord ### Jupyter is an interface that makes life horrible"
   ]
  },
  {
   "cell_type": "code",
   "execution_count": 34,
   "id": "da928c2e",
   "metadata": {},
   "outputs": [
    {
     "data": {
      "text/plain": [
       "[223347.92439441057,\n",
       " 223347.92439441057,\n",
       " 223347.92439441057,\n",
       " 223347.92439441057,\n",
       " 223347.92439441057,\n",
       " 223347.92439441057,\n",
       " 223347.92439441057,\n",
       " 223347.92439441057]"
      ]
     },
     "execution_count": 34,
     "metadata": {},
     "output_type": "execute_result"
    }
   ],
   "source": [
    "yPolyCoord"
   ]
  },
  {
   "cell_type": "code",
   "execution_count": null,
   "id": "0bdbc00c",
   "metadata": {},
   "outputs": [],
   "source": []
  },
  {
   "cell_type": "code",
   "execution_count": 31,
   "id": "dd9f5603",
   "metadata": {},
   "outputs": [
    {
     "ename": "NameError",
     "evalue": "name 'polyshape' is not defined",
     "output_type": "error",
     "traceback": [
      "\u001b[0;31m---------------------------------------------------------------------------\u001b[0m",
      "\u001b[0;31mNameError\u001b[0m                                 Traceback (most recent call last)",
      "\u001b[0;32m<ipython-input-31-af7b53ea812b>\u001b[0m in \u001b[0;36m<module>\u001b[0;34m\u001b[0m\n\u001b[1;32m      5\u001b[0m \u001b[0;34m\u001b[0m\u001b[0m\n\u001b[1;32m      6\u001b[0m \u001b[0;34m\u001b[0m\u001b[0m\n\u001b[0;32m----> 7\u001b[0;31m \u001b[0mpgon\u001b[0m \u001b[0;34m=\u001b[0m \u001b[0mpolyshape\u001b[0m\u001b[0;34m(\u001b[0m\u001b[0mx\u001b[0m\u001b[0;34m,\u001b[0m \u001b[0my\u001b[0m\u001b[0;34m)\u001b[0m\u001b[0;34m\u001b[0m\u001b[0;34m\u001b[0m\u001b[0m\n\u001b[0m",
      "\u001b[0;31mNameError\u001b[0m: name 'polyshape' is not defined"
     ]
    }
   ],
   "source": [
    "# 2D plot\n",
    "\n",
    "x = xPolyCoord\n",
    "y = yPolyCoord\n",
    "\n",
    "\n",
    "pgon = polyshape(x, y)\n"
   ]
  },
  {
   "cell_type": "code",
   "execution_count": 100,
   "id": "8a15a5c3",
   "metadata": {},
   "outputs": [
    {
     "ename": "SyntaxError",
     "evalue": "invalid syntax (<ipython-input-100-844e6cfb026d>, line 7)",
     "output_type": "error",
     "traceback": [
      "\u001b[0;36m  File \u001b[0;32m\"<ipython-input-100-844e6cfb026d>\"\u001b[0;36m, line \u001b[0;32m7\u001b[0m\n\u001b[0;31m    fig = plt.figure()\u001b[0m\n\u001b[0m    ^\u001b[0m\n\u001b[0;31mSyntaxError\u001b[0m\u001b[0;31m:\u001b[0m invalid syntax\n"
     ]
    }
   ],
   "source": [
    "# PLOT PLOT PLOT\n",
    "from shapely.geometry import Polygon\n",
    "import matplotlib.pyplot as plt\n",
    "\n",
    "polyData = list(zip(xPolyCoord, yPolyCoord, CHM_HARV)\n",
    "\n",
    "#fig = plt.figure()\n",
    "#ax = fig.add_subplot(1,1,1, projection='3d')\n",
    "#ax.plot_surface(x, y, CHM_HARV))\n",
    "\n",
    "#plt.plot_surface\n",
    "                \n",
    "                \n",
    "                "
   ]
  },
  {
   "cell_type": "code",
   "execution_count": null,
   "id": "b1041899",
   "metadata": {},
   "outputs": [],
   "source": [
    "import os\n",
    "import matplotlib.pyplot as plt\n",
    "import seaborn as sns\n",
    "import numpy as np\n",
    "from shapely.geometry import mapping\n",
    "import rioxarray as rxr\n",
    "import xarray as xr\n",
    "import geopandas as gpd\n",
    "\n",
    "import earthpy as et\n",
    "import earthpy.plot as ep\n",
    "\n",
    "sns.set(font_scale=1.5)\n",
    "\n"
   ]
  },
  {
   "cell_type": "code",
   "execution_count": null,
   "id": "b9549ef1",
   "metadata": {},
   "outputs": [],
   "source": []
  },
  {
   "cell_type": "code",
   "execution_count": null,
   "id": "f94a36d4",
   "metadata": {},
   "outputs": [],
   "source": []
  },
  {
   "cell_type": "code",
   "execution_count": null,
   "id": "d6eafd77",
   "metadata": {},
   "outputs": [],
   "source": []
  },
  {
   "cell_type": "code",
   "execution_count": null,
   "id": "6bb0a060",
   "metadata": {},
   "outputs": [],
   "source": []
  },
  {
   "cell_type": "code",
   "execution_count": null,
   "id": "ad89d25b",
   "metadata": {},
   "outputs": [],
   "source": []
  }
 ],
 "metadata": {
  "kernelspec": {
   "display_name": "py39",
   "language": "python",
   "name": "py39"
  },
  "language_info": {
   "codemirror_mode": {
    "name": "ipython",
    "version": 3
   },
   "file_extension": ".py",
   "mimetype": "text/x-python",
   "name": "python",
   "nbconvert_exporter": "python",
   "pygments_lexer": "ipython3",
   "version": "3.9.4"
  }
 },
 "nbformat": 4,
 "nbformat_minor": 5
}
